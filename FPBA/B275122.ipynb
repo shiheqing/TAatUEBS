{
 "cells": [
  {
   "cell_type": "code",
   "execution_count": 1,
   "id": "a806a570",
   "metadata": {},
   "outputs": [
    {
     "name": "stdout",
     "output_type": "stream",
     "text": [
      "          hotel  is_canceled  lead_time  arrival_date_year arrival_date_month  \\\n",
      "0  Resort Hotel          0.0      342.0             2015.0               July   \n",
      "1  Resort Hotel          0.0      737.0             2015.0               July   \n",
      "2  Resort Hotel          0.0        7.0             2015.0               July   \n",
      "3  Resort Hotel          0.0       13.0             2015.0               July   \n",
      "4  Resort Hotel          0.0       14.0             2015.0               July   \n",
      "\n",
      "   arrival_date_week_number  arrival_date_day_of_month  \\\n",
      "0                      27.0                        1.0   \n",
      "1                      27.0                        1.0   \n",
      "2                      27.0                        1.0   \n",
      "3                      27.0                        1.0   \n",
      "4                      27.0                        1.0   \n",
      "\n",
      "   stays_in_weekend_nights  stays_in_week_nights  adults  ...  deposit_type  \\\n",
      "0                        0                     0       2  ...    No Deposit   \n",
      "1                        0                     0       2  ...    No Deposit   \n",
      "2                        0                     1       1  ...    No Deposit   \n",
      "3                        0                     1       1  ...    No Deposit   \n",
      "4                        0                     2       2  ...    No Deposit   \n",
      "\n",
      "   agent company days_in_waiting_list customer_type   adr  \\\n",
      "0    NaN     NaN                    0     Transient   0.0   \n",
      "1    NaN     NaN                    0     Transient   0.0   \n",
      "2    NaN     NaN                    0     Transient  75.0   \n",
      "3  304.0     NaN                    0     Transient  75.0   \n",
      "4  240.0     NaN                    0     Transient  98.0   \n",
      "\n",
      "   required_car_parking_spaces  total_of_special_requests  reservation_status  \\\n",
      "0                            0                          0           Check-Out   \n",
      "1                            0                          0           Check-Out   \n",
      "2                            0                          0           Check-Out   \n",
      "3                            0                          0           Check-Out   \n",
      "4                            0                          1           Check-Out   \n",
      "\n",
      "  reservation_status_date  \n",
      "0              01/07/2015  \n",
      "1              01/07/2015  \n",
      "2              02/07/2015  \n",
      "3              02/07/2015  \n",
      "4              03/07/2015  \n",
      "\n",
      "[5 rows x 32 columns]\n"
     ]
    }
   ],
   "source": [
    "# Import necessary libraries\n",
    "import pandas as pd\n",
    "import matplotlib.pyplot as plt\n",
    "\n",
    "# Load the dataset \n",
    "#df = pd.read_csv('hotel_bookings(1).csv')\n",
    "df = pd.read_csv('hotel_bookings.csv')\n",
    "\n",
    "# Display the first few rows to see what the data looks like\n",
    "print(df.head())\n"
   ]
  },
  {
   "cell_type": "code",
   "execution_count": 2,
   "id": "529301d2",
   "metadata": {},
   "outputs": [
    {
     "name": "stdout",
     "output_type": "stream",
     "text": [
      "Missing values in 'hotel': 0\n",
      "Missing values in 'is_canceled': 6\n",
      "          hotel  is_canceled  cancellation_rate\n",
      "0    City Hotel     0.417277          41.727698\n",
      "1  Resort Hotel     0.277654          27.765434\n"
     ]
    }
   ],
   "source": [
    "# Check for missing values in the key columns\n",
    "print(\"Missing values in 'hotel':\", df['hotel'].isna().sum())\n",
    "print(\"Missing values in 'is_canceled':\", df['is_canceled'].isna().sum())\n",
    "\n",
    "# Remove rows where critical data is missing\n",
    "df = df.dropna(subset=['hotel', 'is_canceled'])\n",
    "\n",
    "# Calculate cancellation rates for each hotel type\n",
    "# Since 'is_canceled' is 1 when a booking is cancelled, the mean value gives the cancellation rate\n",
    "cancellation_stats = df.groupby('hotel')['is_canceled'].mean().reset_index()\n",
    "cancellation_stats['cancellation_rate'] = cancellation_stats['is_canceled'] * 100  # Convert to percentage\n",
    "\n",
    "# Display the calculated cancellation statistics\n",
    "print(cancellation_stats)\n",
    "\n"
   ]
  },
  {
   "cell_type": "code",
   "execution_count": 3,
   "id": "b006483f",
   "metadata": {
    "scrolled": true
   },
   "outputs": [
    {
     "data": {
      "image/png": "[encoded data removed]",
      "text/plain": [
       "<Figure size 800x600 with 1 Axes>"
      ]
     },
     "metadata": {},
     "output_type": "display_data"
    }
   ],
   "source": [
    "# Set up the plot for cancellation rates by hotel type\n",
    "plt.figure(figsize=(8, 6))\n",
    "plt.bar(cancellation_stats['hotel'], cancellation_stats['cancellation_rate'], color=['#87CEEB', '#FF9999'])\n",
    "plt.xlabel(\"Hotel Type\")\n",
    "plt.ylabel(\"Cancellation Rate (%)\")\n",
    "plt.title(\"Cancellation Rate by Hotel Type\")\n",
    "plt.ylim(0, 100)  # Ensure the y-axis is scaled to 100%\n",
    "plt.show()\n"
   ]
  },
  {
   "cell_type": "markdown",
   "id": "9c925d46",
   "metadata": {},
   "source": [
    "Business Question: This project examines the relationship between hotel type and booking cancellations by comparing cancellation rates between resort hotels and city hotels.\n",
    "\n",
    "Relevance:  Understanding cancellation patterns is crucial for hotel management, as high cancellation rates can lead to significant revenue loss and inefficient resource allocation. By identifying differences between hotel types, management can tailor strategies to mitigate cancellations, optimize pricing, and improve overall occupancy.\n",
    "\n",
    "Data Justification: The analysis focuses on two key attributes: 'hotel' and 'is_canceled'. The 'hotel' attribute categorizes bookings as either resort or city hotels, while 'is_canceled' indicates whether a booking was canceled. These fields are directly related to assessing the cancellation behavior, making them ideal for answering the business question.\n",
    "\n",
    "Findings and Insights: The bar chart clearly shows the cancellation rates for each hotel type. The observed differences suggest that one hotel type experiences a higher rate of cancellations than the other. Such insights can guide targeted operational strategies, such as revising cancellation policies or enhancing customer retention efforts for the segment with higher cancellations. Ultimately, these data-driven insights can contribute to more effective revenue management and strategic planning."
   ]
  },
  {
   "cell_type": "code",
   "execution_count": null,
   "id": "94ae5aae",
   "metadata": {},
   "outputs": [],
   "source": []
  },
  {
   "cell_type": "markdown",
   "id": "be7f3f87",
   "metadata": {},
   "source": []
  },
  {
   "cell_type": "markdown",
   "id": "5283849e",
   "metadata": {},
   "source": []
  },
  {
   "cell_type": "markdown",
   "id": "7a87de8c",
   "metadata": {},
   "source": [
    "Overall mark: 57\n",
    "\n",
    "#### Business Question:\n",
    "The busienss question is clearly stated and is well connected to the given dataset. The importance of answering such a question to the hotel industry is also presented. The findings and implications are data-supported, though the use of data is quite simple and straightforward.\n",
    "\n",
    "<u>Good</u>\n",
    "\n",
    "#### Data:\n",
    "Two key variables, 'hotel' and 'is_canceled' are effectively identified to answer the proposed question. The rationale of selecting these variables are also appropriately addressed. However, since the business question is straightforward to answer given the data, this limit further exploration of the dataset, for example, by using more data variables and applying variable transformations.\n",
    "\n",
    "<u>Good</u>\n",
    "\n",
    "#### Visualization:\n",
    "A basic bar chart is used for the purpose of visualization, with essential elements of the title, axis lables and ticks. Improvements could include using more different plots to support different findings.\n",
    "\n",
    "<u>Pass</u>\n",
    "\n",
    "#### Code:\n",
    "The code structure is clear and easy to follow, though there is a minor issue in importing the data file (you cannot use the file name 'hotel_bookings(1).csv' that only exists on your machine when sharing the code with others). Comments are available where necessary. It is suggested to not display those exploratory code.\n",
    "\n",
    "<u>Good</u>"
   ]
  }
 ],
 "metadata": {
  "kernelspec": {
   "display_name": "TAatUEBS",
   "language": "python",
   "name": "python3"
  },
  "language_info": {
   "codemirror_mode": {
    "name": "ipython",
    "version": 3
   },
   "file_extension": ".py",
   "mimetype": "text/x-python",
   "name": "python",
   "nbconvert_exporter": "python",
   "pygments_lexer": "ipython3",
   "version": "3.10.16"
  }
 },
 "nbformat": 4,
 "nbformat_minor": 5
}
