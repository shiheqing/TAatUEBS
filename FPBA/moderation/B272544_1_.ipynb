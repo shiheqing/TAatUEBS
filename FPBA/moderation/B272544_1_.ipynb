{
 "cells": [
  {
   "cell_type": "code",
   "execution_count": 1,
   "id": "94ead010",
   "metadata": {},
   "outputs": [],
   "source": [
    "import pandas as pd\n",
    "import matplotlib.pyplot as plt"
   ]
  },
  {
   "cell_type": "markdown",
   "id": "0bc959d0",
   "metadata": {},
   "source": [
    "Remove unnecessary variables from the excel sheet and focus only on meal, stays_in_weekend_nights and stays_in_week_nights"
   ]
  },
  {
   "cell_type": "code",
   "execution_count": 3,
   "id": "1c5a33f3",
   "metadata": {},
   "outputs": [
    {
     "ename": "ValueError",
     "evalue": "Excel file format cannot be determined, you must specify an engine manually.",
     "output_type": "error",
     "traceback": [
      "\u001b[0;31m---------------------------------------------------------------------------\u001b[0m",
      "\u001b[0;31mValueError\u001b[0m                                Traceback (most recent call last)",
      "Cell \u001b[0;32mIn[3], line 1\u001b[0m\n\u001b[0;32m----> 1\u001b[0m df\u001b[38;5;241m=\u001b[39m\u001b[43mpd\u001b[49m\u001b[38;5;241;43m.\u001b[39;49m\u001b[43mread_excel\u001b[49m\u001b[43m(\u001b[49m\u001b[38;5;124;43mr\u001b[39;49m\u001b[38;5;124;43m\"\u001b[39;49m\u001b[38;5;124;43mhotel_bookings.csv\u001b[39;49m\u001b[38;5;124;43m\"\u001b[39;49m\u001b[43m,\u001b[49m\u001b[43musecols\u001b[49m\u001b[38;5;241;43m=\u001b[39;49m\u001b[43m[\u001b[49m\u001b[38;5;124;43m'\u001b[39;49m\u001b[38;5;124;43mmeal\u001b[39;49m\u001b[38;5;124;43m'\u001b[39;49m\u001b[43m,\u001b[49m\u001b[43m \u001b[49m\u001b[38;5;124;43m'\u001b[39;49m\u001b[38;5;124;43mstays_in_weekend_nights\u001b[39;49m\u001b[38;5;124;43m'\u001b[39;49m\u001b[43m,\u001b[49m\u001b[43m \u001b[49m\u001b[38;5;124;43m'\u001b[39;49m\u001b[38;5;124;43mstays_in_week_nights\u001b[39;49m\u001b[38;5;124;43m'\u001b[39;49m\u001b[43m]\u001b[49m\u001b[43m)\u001b[49m\n",
      "File \u001b[0;32m~/anaconda3/envs/TAatUEBS/lib/python3.10/site-packages/pandas/io/excel/_base.py:495\u001b[0m, in \u001b[0;36mread_excel\u001b[0;34m(io, sheet_name, header, names, index_col, usecols, dtype, engine, converters, true_values, false_values, skiprows, nrows, na_values, keep_default_na, na_filter, verbose, parse_dates, date_parser, date_format, thousands, decimal, comment, skipfooter, storage_options, dtype_backend, engine_kwargs)\u001b[0m\n\u001b[1;32m    493\u001b[0m \u001b[38;5;28;01mif\u001b[39;00m \u001b[38;5;129;01mnot\u001b[39;00m \u001b[38;5;28misinstance\u001b[39m(io, ExcelFile):\n\u001b[1;32m    494\u001b[0m     should_close \u001b[38;5;241m=\u001b[39m \u001b[38;5;28;01mTrue\u001b[39;00m\n\u001b[0;32m--> 495\u001b[0m     io \u001b[38;5;241m=\u001b[39m \u001b[43mExcelFile\u001b[49m\u001b[43m(\u001b[49m\n\u001b[1;32m    496\u001b[0m \u001b[43m        \u001b[49m\u001b[43mio\u001b[49m\u001b[43m,\u001b[49m\n\u001b[1;32m    497\u001b[0m \u001b[43m        \u001b[49m\u001b[43mstorage_options\u001b[49m\u001b[38;5;241;43m=\u001b[39;49m\u001b[43mstorage_options\u001b[49m\u001b[43m,\u001b[49m\n\u001b[1;32m    498\u001b[0m \u001b[43m        \u001b[49m\u001b[43mengine\u001b[49m\u001b[38;5;241;43m=\u001b[39;49m\u001b[43mengine\u001b[49m\u001b[43m,\u001b[49m\n\u001b[1;32m    499\u001b[0m \u001b[43m        \u001b[49m\u001b[43mengine_kwargs\u001b[49m\u001b[38;5;241;43m=\u001b[39;49m\u001b[43mengine_kwargs\u001b[49m\u001b[43m,\u001b[49m\n\u001b[1;32m    500\u001b[0m \u001b[43m    \u001b[49m\u001b[43m)\u001b[49m\n\u001b[1;32m    501\u001b[0m \u001b[38;5;28;01melif\u001b[39;00m engine \u001b[38;5;129;01mand\u001b[39;00m engine \u001b[38;5;241m!=\u001b[39m io\u001b[38;5;241m.\u001b[39mengine:\n\u001b[1;32m    502\u001b[0m     \u001b[38;5;28;01mraise\u001b[39;00m \u001b[38;5;167;01mValueError\u001b[39;00m(\n\u001b[1;32m    503\u001b[0m         \u001b[38;5;124m\"\u001b[39m\u001b[38;5;124mEngine should not be specified when passing \u001b[39m\u001b[38;5;124m\"\u001b[39m\n\u001b[1;32m    504\u001b[0m         \u001b[38;5;124m\"\u001b[39m\u001b[38;5;124man ExcelFile - ExcelFile already has the engine set\u001b[39m\u001b[38;5;124m\"\u001b[39m\n\u001b[1;32m    505\u001b[0m     )\n",
      "File \u001b[0;32m~/anaconda3/envs/TAatUEBS/lib/python3.10/site-packages/pandas/io/excel/_base.py:1554\u001b[0m, in \u001b[0;36mExcelFile.__init__\u001b[0;34m(self, path_or_buffer, engine, storage_options, engine_kwargs)\u001b[0m\n\u001b[1;32m   1550\u001b[0m     ext \u001b[38;5;241m=\u001b[39m inspect_excel_format(\n\u001b[1;32m   1551\u001b[0m         content_or_path\u001b[38;5;241m=\u001b[39mpath_or_buffer, storage_options\u001b[38;5;241m=\u001b[39mstorage_options\n\u001b[1;32m   1552\u001b[0m     )\n\u001b[1;32m   1553\u001b[0m     \u001b[38;5;28;01mif\u001b[39;00m ext \u001b[38;5;129;01mis\u001b[39;00m \u001b[38;5;28;01mNone\u001b[39;00m:\n\u001b[0;32m-> 1554\u001b[0m         \u001b[38;5;28;01mraise\u001b[39;00m \u001b[38;5;167;01mValueError\u001b[39;00m(\n\u001b[1;32m   1555\u001b[0m             \u001b[38;5;124m\"\u001b[39m\u001b[38;5;124mExcel file format cannot be determined, you must specify \u001b[39m\u001b[38;5;124m\"\u001b[39m\n\u001b[1;32m   1556\u001b[0m             \u001b[38;5;124m\"\u001b[39m\u001b[38;5;124man engine manually.\u001b[39m\u001b[38;5;124m\"\u001b[39m\n\u001b[1;32m   1557\u001b[0m         )\n\u001b[1;32m   1559\u001b[0m engine \u001b[38;5;241m=\u001b[39m config\u001b[38;5;241m.\u001b[39mget_option(\u001b[38;5;124mf\u001b[39m\u001b[38;5;124m\"\u001b[39m\u001b[38;5;124mio.excel.\u001b[39m\u001b[38;5;132;01m{\u001b[39;00mext\u001b[38;5;132;01m}\u001b[39;00m\u001b[38;5;124m.reader\u001b[39m\u001b[38;5;124m\"\u001b[39m, silent\u001b[38;5;241m=\u001b[39m\u001b[38;5;28;01mTrue\u001b[39;00m)\n\u001b[1;32m   1560\u001b[0m \u001b[38;5;28;01mif\u001b[39;00m engine \u001b[38;5;241m==\u001b[39m \u001b[38;5;124m\"\u001b[39m\u001b[38;5;124mauto\u001b[39m\u001b[38;5;124m\"\u001b[39m:\n",
      "\u001b[0;31mValueError\u001b[0m: Excel file format cannot be determined, you must specify an engine manually."
     ]
    }
   ],
   "source": [
    "df=pd.read_excel(r\"hotel_bookings.csv\",usecols=['meal', 'stays_in_weekend_nights', 'stays_in_week_nights'])"
   ]
  },
  {
   "cell_type": "code",
   "execution_count": 5,
   "id": "c99d248a",
   "metadata": {},
   "outputs": [],
   "source": [
    "df = pd.read_csv(\"hotel_bookings.csv\")\n",
    "df = df[['meal', 'stays_in_weekend_nights', 'stays_in_week_nights']]"
   ]
  },
  {
   "cell_type": "code",
   "execution_count": 6,
   "id": "91cae246",
   "metadata": {},
   "outputs": [
    {
     "data": {
      "application/vnd.microsoft.datawrangler.viewer.v0+json": {
       "columns": [
        {
         "name": "index",
         "rawType": "int64",
         "type": "integer"
        },
        {
         "name": "meal",
         "rawType": "object",
         "type": "string"
        },
        {
         "name": "stays_in_weekend_nights",
         "rawType": "int64",
         "type": "integer"
        },
        {
         "name": "stays_in_week_nights",
         "rawType": "int64",
         "type": "integer"
        }
       ],
       "conversionMethod": "pd.DataFrame",
       "ref": "fbc96146-2a4d-4da9-9d2f-bc213fcf4479",
       "rows": [
        [
         "0",
         "BB",
         "0",
         "0"
        ],
        [
         "1",
         "BB",
         "0",
         "0"
        ],
        [
         "2",
         "BB",
         "0",
         "1"
        ],
        [
         "3",
         "BB",
         "0",
         "1"
        ],
        [
         "4",
         "BB",
         "0",
         "2"
        ],
        [
         "5",
         "BB",
         "0",
         "2"
        ],
        [
         "6",
         "BB",
         "0",
         "2"
        ],
        [
         "7",
         "FB",
         "0",
         "2"
        ],
        [
         "8",
         "BB",
         "0",
         "3"
        ],
        [
         "9",
         "HB",
         "0",
         "3"
        ],
        [
         "10",
         "BB",
         "0",
         "4"
        ],
        [
         "11",
         "HB",
         "0",
         "4"
        ],
        [
         "12",
         "BB",
         "0",
         "4"
        ],
        [
         "13",
         "HB",
         "0",
         "4"
        ],
        [
         "14",
         "BB",
         "0",
         "4"
        ],
        [
         "15",
         "BB",
         "0",
         "4"
        ],
        [
         "16",
         "BB",
         "0",
         "4"
        ],
        [
         "17",
         "BB",
         "0",
         "1"
        ],
        [
         "18",
         "BB",
         "0",
         "1"
        ],
        [
         "19",
         "BB",
         "0",
         "4"
        ],
        [
         "20",
         "BB",
         "1",
         "4"
        ],
        [
         "21",
         "BB",
         "2",
         "4"
        ],
        [
         "22",
         "BB",
         "2",
         "4"
        ],
        [
         "23",
         "BB",
         "2",
         "4"
        ],
        [
         "24",
         "HB",
         "2",
         "5"
        ],
        [
         "25",
         "BB",
         "2",
         "5"
        ],
        [
         "26",
         "BB",
         "2",
         "5"
        ],
        [
         "27",
         "BB",
         "2",
         "5"
        ],
        [
         "28",
         "BB",
         "2",
         "5"
        ],
        [
         "29",
         "BB",
         "2",
         "5"
        ],
        [
         "30",
         "BB",
         "4",
         "10"
        ],
        [
         "31",
         "BB",
         "4",
         "11"
        ],
        [
         "32",
         "BB",
         "2",
         "8"
        ],
        [
         "33",
         "BB",
         "2",
         "4"
        ],
        [
         "34",
         "BB",
         "1",
         "3"
        ],
        [
         "35",
         "BB",
         "1",
         "3"
        ],
        [
         "36",
         "BB",
         "1",
         "3"
        ],
        [
         "37",
         "BB",
         "1",
         "3"
        ],
        [
         "38",
         "BB",
         "1",
         "3"
        ],
        [
         "39",
         "HB",
         "2",
         "3"
        ],
        [
         "40",
         "BB",
         "2",
         "3"
        ],
        [
         "41",
         "BB",
         "2",
         "3"
        ],
        [
         "42",
         "BB",
         "2",
         "3"
        ],
        [
         "43",
         "HB",
         "2",
         "3"
        ],
        [
         "44",
         "BB",
         "2",
         "5"
        ],
        [
         "45",
         "BB",
         "2",
         "5"
        ],
        [
         "46",
         "BB",
         "2",
         "5"
        ],
        [
         "47",
         "BB",
         "2",
         "5"
        ],
        [
         "48",
         "HB",
         "2",
         "5"
        ],
        [
         "49",
         "HB",
         "2",
         "5"
        ]
       ],
       "shape": {
        "columns": 3,
        "rows": 119394
       }
      },
      "text/html": [
       "<div>\n",
       "<style scoped>\n",
       "    .dataframe tbody tr th:only-of-type {\n",
       "        vertical-align: middle;\n",
       "    }\n",
       "\n",
       "    .dataframe tbody tr th {\n",
       "        vertical-align: top;\n",
       "    }\n",
       "\n",
       "    .dataframe thead th {\n",
       "        text-align: right;\n",
       "    }\n",
       "</style>\n",
       "<table border=\"1\" class=\"dataframe\">\n",
       "  <thead>\n",
       "    <tr style=\"text-align: right;\">\n",
       "      <th></th>\n",
       "      <th>meal</th>\n",
       "      <th>stays_in_weekend_nights</th>\n",
       "      <th>stays_in_week_nights</th>\n",
       "    </tr>\n",
       "  </thead>\n",
       "  <tbody>\n",
       "    <tr>\n",
       "      <th>0</th>\n",
       "      <td>BB</td>\n",
       "      <td>0</td>\n",
       "      <td>0</td>\n",
       "    </tr>\n",
       "    <tr>\n",
       "      <th>1</th>\n",
       "      <td>BB</td>\n",
       "      <td>0</td>\n",
       "      <td>0</td>\n",
       "    </tr>\n",
       "    <tr>\n",
       "      <th>2</th>\n",
       "      <td>BB</td>\n",
       "      <td>0</td>\n",
       "      <td>1</td>\n",
       "    </tr>\n",
       "    <tr>\n",
       "      <th>3</th>\n",
       "      <td>BB</td>\n",
       "      <td>0</td>\n",
       "      <td>1</td>\n",
       "    </tr>\n",
       "    <tr>\n",
       "      <th>4</th>\n",
       "      <td>BB</td>\n",
       "      <td>0</td>\n",
       "      <td>2</td>\n",
       "    </tr>\n",
       "    <tr>\n",
       "      <th>...</th>\n",
       "      <td>...</td>\n",
       "      <td>...</td>\n",
       "      <td>...</td>\n",
       "    </tr>\n",
       "    <tr>\n",
       "      <th>119389</th>\n",
       "      <td>BB</td>\n",
       "      <td>2</td>\n",
       "      <td>5</td>\n",
       "    </tr>\n",
       "    <tr>\n",
       "      <th>119390</th>\n",
       "      <td>BB</td>\n",
       "      <td>2</td>\n",
       "      <td>5</td>\n",
       "    </tr>\n",
       "    <tr>\n",
       "      <th>119391</th>\n",
       "      <td>BB</td>\n",
       "      <td>2</td>\n",
       "      <td>5</td>\n",
       "    </tr>\n",
       "    <tr>\n",
       "      <th>119392</th>\n",
       "      <td>BB</td>\n",
       "      <td>2</td>\n",
       "      <td>5</td>\n",
       "    </tr>\n",
       "    <tr>\n",
       "      <th>119393</th>\n",
       "      <td>HB</td>\n",
       "      <td>2</td>\n",
       "      <td>7</td>\n",
       "    </tr>\n",
       "  </tbody>\n",
       "</table>\n",
       "<p>119394 rows × 3 columns</p>\n",
       "</div>"
      ],
      "text/plain": [
       "       meal  stays_in_weekend_nights  stays_in_week_nights\n",
       "0        BB                        0                     0\n",
       "1        BB                        0                     0\n",
       "2        BB                        0                     1\n",
       "3        BB                        0                     1\n",
       "4        BB                        0                     2\n",
       "...     ...                      ...                   ...\n",
       "119389   BB                        2                     5\n",
       "119390   BB                        2                     5\n",
       "119391   BB                        2                     5\n",
       "119392   BB                        2                     5\n",
       "119393   HB                        2                     7\n",
       "\n",
       "[119394 rows x 3 columns]"
      ]
     },
     "execution_count": 6,
     "metadata": {},
     "output_type": "execute_result"
    }
   ],
   "source": [
    "df"
   ]
  },
  {
   "cell_type": "code",
   "execution_count": 7,
   "id": "7a1b4182",
   "metadata": {
    "scrolled": true
   },
   "outputs": [
    {
     "name": "stdout",
     "output_type": "stream",
     "text": [
      "Data info:\n",
      "<class 'pandas.core.frame.DataFrame'>\n",
      "RangeIndex: 119394 entries, 0 to 119393\n",
      "Data columns (total 3 columns):\n",
      " #   Column                   Non-Null Count   Dtype \n",
      "---  ------                   --------------   ----- \n",
      " 0   meal                     119394 non-null  object\n",
      " 1   stays_in_weekend_nights  119394 non-null  int64 \n",
      " 2   stays_in_week_nights     119394 non-null  int64 \n",
      "dtypes: int64(2), object(1)\n",
      "memory usage: 2.7+ MB\n",
      "None\n"
     ]
    }
   ],
   "source": [
    "print(\"Data info:\")\n",
    "print(df.info())"
   ]
  },
  {
   "cell_type": "markdown",
   "id": "f9291c91",
   "metadata": {},
   "source": [
    "Check the original distribution of the 'meal' column before cleaning, so to find and remove any invalid values：undefined"
   ]
  },
  {
   "cell_type": "code",
   "execution_count": 8,
   "id": "91385eb4",
   "metadata": {},
   "outputs": [
    {
     "name": "stdout",
     "output_type": "stream",
     "text": [
      "Meal type distribution (before cleaning):\n",
      "meal\n",
      "BB           92313\n",
      "HB           14464\n",
      "SC           10650\n",
      "Undefined     1169\n",
      "FB             798\n",
      "Name: count, dtype: int64\n",
      "Meal types as list: ['BB', 'HB', 'SC', 'Undefined', 'FB']\n"
     ]
    }
   ],
   "source": [
    "print(\"Meal type distribution (before cleaning):\")\n",
    "meal_distribution = df['meal'].value_counts()\n",
    "print(meal_distribution)\n",
    "list_meal = meal_distribution.index.to_list()\n",
    "print(\"Meal types as list:\", list_meal)"
   ]
  },
  {
   "cell_type": "markdown",
   "id": "ca105a6b",
   "metadata": {},
   "source": [
    "Data were cleaned to remove missing values, to filter for negative values of the intended total night, and to filter for invalid meal type. Finally, calculate and filter the total length of stay."
   ]
  },
  {
   "cell_type": "code",
   "execution_count": 9,
   "id": "362716c0",
   "metadata": {},
   "outputs": [],
   "source": [
    "df = df.dropna(subset=['meal', 'stays_in_weekend_nights', 'stays_in_week_nights'])\n",
    "df = df[(df['stays_in_weekend_nights'] >= 0) & (df['stays_in_week_nights'] >= 0)]\n",
    "valid_meals = ['BB', 'HB', 'FB', 'SC']\n",
    "df = df[df['meal'].isin(valid_meals)]\n",
    "df['total_nights'] = df['stays_in_weekend_nights'] + df['stays_in_week_nights']\n",
    "df = df.loc[(df['total_nights'] > 0) & (df['total_nights'] <= 30)]"
   ]
  },
  {
   "cell_type": "markdown",
   "id": "c8df0c41",
   "metadata": {},
   "source": [
    "Verify that only valid data remains after cleaning the data"
   ]
  },
  {
   "cell_type": "code",
   "execution_count": 10,
   "id": "12cc4073",
   "metadata": {},
   "outputs": [
    {
     "name": "stdout",
     "output_type": "stream",
     "text": [
      "meal types (after cleaning): ['BB' 'FB' 'HB' 'SC']\n"
     ]
    }
   ],
   "source": [
    "print(\"meal types (after cleaning):\",\n",
    "df['meal'].unique())"
   ]
  },
  {
   "cell_type": "markdown",
   "id": "b301a771",
   "metadata": {},
   "source": [
    "Calculate the average number of days and number of occupancy, grouped by meal type"
   ]
  },
  {
   "cell_type": "code",
   "execution_count": 11,
   "id": "d90a36c3",
   "metadata": {},
   "outputs": [
    {
     "name": "stdout",
     "output_type": "stream",
     "text": [
      "Meal type statistics (average nights and booking count):\n",
      "      avg_nights  count\n",
      "meal                   \n",
      "HB      4.345314  14384\n",
      "FB      4.001255    797\n",
      "BB      3.341359  91748\n",
      "SC      2.933087  10566\n"
     ]
    }
   ],
   "source": [
    "avg_nights = df.groupby('meal')['total_nights'].mean()\n",
    "count = df.groupby('meal').size()\n",
    "meal_stats = pd.DataFrame({\n",
    "    'avg_nights': avg_nights,\n",
    "    'count': count})\n",
    "meal_stats = meal_stats.sort_values('avg_nights', ascending=False)\n",
    "print(\"Meal type statistics (average nights and booking count):\")\n",
    "print(meal_stats)"
   ]
  },
  {
   "cell_type": "code",
   "execution_count": 12,
   "id": "a96e4c17",
   "metadata": {},
   "outputs": [
    {
     "data": {
      "text/plain": [
       "<Figure size 1000x600 with 0 Axes>"
      ]
     },
     "execution_count": 12,
     "metadata": {},
     "output_type": "execute_result"
    },
    {
     "data": {
      "text/plain": [
       "<Figure size 1000x600 with 0 Axes>"
      ]
     },
     "metadata": {},
     "output_type": "display_data"
    }
   ],
   "source": [
    "plt.figure(figsize=(10, 6))"
   ]
  },
  {
   "cell_type": "markdown",
   "id": "767a2dec",
   "metadata": {},
   "source": [
    "A bar chart showing the difference in the number of days of occupancy in the meal type"
   ]
  },
  {
   "cell_type": "code",
   "execution_count": 13,
   "id": "c17a5846",
   "metadata": {},
   "outputs": [
    {
     "data": {
      "image/png": "[encoded data removed]",
      "text/plain": [
       "<Figure size 640x480 with 1 Axes>"
      ]
     },
     "metadata": {},
     "output_type": "display_data"
    }
   ],
   "source": [
    "bars = plt.bar(meal_stats.index, meal_stats['avg_nights'], color='pink', alpha=0.8, width=0.8, edgecolor='black')\n",
    "plt.title('Average Total Nights by Meal Type')\n",
    "plt.xlabel('Meal Type')\n",
    "plt.ylabel('Average Total Nights')\n",
    "plt.figtext(0.5, -0.05, \n",
    "            'Meal Types: BB (Bed and Breakfast), HB (Half Board), FB (Full Board), SC (Self Catering)', \n",
    "            ha='center', style='italic')\n",
    "plt.grid(axis='y', linestyle='--', alpha=0.8, color='black')\n",
    "labels = [round(height, 1) for height in meal_stats['avg_nights']]\n",
    "plt.bar_label(bars, labels=labels, label_type=\"edge\", padding=3, fontsize=10)\n",
    "plt.ylim([0, 5])\n",
    "plt.show()"
   ]
  },
  {
   "cell_type": "markdown",
   "id": "b61b1758",
   "metadata": {},
   "source": [
    "## Mini Report Markdown\n",
    "\n",
    "1. Business Question: \n",
    "What are the differences in the number of days of stay for customers choosing different meal types? \n",
    "\n",
    "2. Relevance:\n",
    "Exploring the correlation between guests' meal type and the duration of their stay can optimize hotel management: based on the statistics of the length of time under a certain meal type, the hotel can optimizes its meal resources in advance to avoid wastage or shortage. Further, this analysis identifies the customer segments attracted to each package (market positioning), in order to design marketing strategies and meal content tailored to the different customer segments and to ensure guest loyalty.\n",
    "\n",
    "3. Data Justification:\n",
    "The independent variable is the meal, which directly reflects guests' dining choices: BB,HB,FB and SC. I summed the dependent variables of stays in weekend nights and stays in week nights into the total days of stay for more straightforward analysis.\n",
    "\n",
    "4. Findings and Insights:\n",
    "Guests who chose HB and FB types stayed longer on average, at 4.3 and 4 days. They are likely vacationers who want meal convenience. The hotel can develop local specialties and offer long-term specials (one free lunch for 6 days).  BB and SC guests are likely to be business travelers and do not have time to eat at the hotel, which stays an average of 3.3 and 2.9 days. The hotel should prioritize check-in efficiency."
   ]
  },
  {
   "cell_type": "code",
   "execution_count": null,
   "id": "8867b880",
   "metadata": {},
   "outputs": [],
   "source": []
  }
 ],
 "metadata": {
  "kernelspec": {
   "display_name": "TAatUEBS",
   "language": "python",
   "name": "python3"
  },
  "language_info": {
   "codemirror_mode": {
    "name": "ipython",
    "version": 3
   },
   "file_extension": ".py",
   "mimetype": "text/x-python",
   "name": "python",
   "nbconvert_exporter": "python",
   "pygments_lexer": "ipython3",
   "version": "3.10.16"
  }
 },
 "nbformat": 4,
 "nbformat_minor": 5
}
