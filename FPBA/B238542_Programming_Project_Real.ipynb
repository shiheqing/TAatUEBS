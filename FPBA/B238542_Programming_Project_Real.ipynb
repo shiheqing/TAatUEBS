{
 "cells": [
  {
   "attachments": {
    "image.png": {
     "image/png": "[encoded data removed]"
    }
   },
   "cell_type": "markdown",
   "id": "8f1fe200",
   "metadata": {},
   "source": [
    "Exam Number - B238542\n",
    "How do different distribution channels (DC) impact revenue?\n",
    "\n",
    "DCs have a critical impact on hotel revenue, guiding marketing strategies, customer targeting, and profitability. In a competitive market, knowing which channels yield higher revenue can guide investments and operational focus.  \n",
    "\n",
    "Chosen attributes:\n",
    "Country: Differentiates market performance geographically.\n",
    "Repeated guests: Highlight customer loyalties and recurring revenue. \n",
    "ADR: Direct measure of revenue per night. \n",
    "Meal type: Reflects service levels and upsell potential.\n",
    "Arrival date months: Captures seasonal trends and booking fluctuations. \n",
    "Duration of stay: Impacts overall revenue per booking. \n",
    "\n",
    "Findings: \n",
    "In August, the busiest month, the Travel Agent channel contributed the most, accounting for 84.6% of bookings. This trend holds throughout the year, with Travel Agent driving the largest share of total revenue. Additionally, Travel Agent is the most common booking channel in Portugal, the most popular destination. \n",
    "The undefined channel shows the highest average duration of stay, though this is biased by a single booking. \n",
    "The corporate channel records the highest percentage of repeated guests. \n",
    "Travel Agent and Direct channels exhibit high variance of ADR per booking, while Global Distribution has the highest average ADR. \n",
    "\n",
    "Overall, Travel Agent channels drive the highest revenue, followed by Corporate and Direct channels. Global Distribution generates less than all three, while undefined channels are negligible due to limited booking. \n",
    "\n",
    "![image.png](attachment:image.png)"
   ]
  },
  {
   "cell_type": "markdown",
   "id": "eabf8d10",
   "metadata": {},
   "source": []
  },
  {
   "cell_type": "markdown",
   "id": "ba782654",
   "metadata": {},
   "source": [
    "Overall mark: 63\n",
    "\n",
    "#### Business Question:\n",
    "The business question is clearly stated and is well connected to the given dataset. The significance of answering such a question is explained. Comprehensive evidences are presented to derive the finings. However, implications and actionable advices are insufficient.\n",
    "\n",
    "<u>Very Good</u>\n",
    "\n",
    "#### Data:\n",
    "Multiple variables are selected to answer the question. The meaning of those variables are provided and the rational of choosing them is clearly addressed. Effective data filtering and variable transformation are used, showing good skill of data manipulation.\n",
    "\n",
    "<u>Very Good</u>\n",
    "\n",
    "#### Visualization:\n",
    "A combination of meaningful plots are presented for the visualization purpose, though some of them are not informative enough. Essential elements of titles, labels are not always availabel. Improvements could include replacing the scatter plot with box plot which can be more informative and adding annotations for the pie chart that shows the percentages.\n",
    "\n",
    "<u>Good</u>\n",
    "\n",
    "#### Code:\n",
    "The code is error-free and the structure is clean overall. Comments are available along with the code. For better readability, it is adviced to suppress some exploratory code (e.g. df.columns, df['adr'].plot() and etc) that does not contribute to the analysis.\n",
    "\n",
    "<u>Good</u>"
   ]
  },
  {
   "cell_type": "markdown",
   "id": "23eac4af",
   "metadata": {},
   "source": []
  },
  {
   "cell_type": "markdown",
   "id": "60cec8da",
   "metadata": {},
   "source": []
  },
  {
   "cell_type": "code",
   "execution_count": 1,
   "id": "18204ea3",
   "metadata": {},
   "outputs": [],
   "source": [
    "import pandas as pd\n",
    "import matplotlib.pyplot as plt"
   ]
  },
  {
   "cell_type": "code",
   "execution_count": 2,
   "id": "8c0bc502",
   "metadata": {},
   "outputs": [],
   "source": [
    "df = pd.read_csv(\"hotel_bookings.csv\")"
   ]
  },
  {
   "cell_type": "code",
   "execution_count": 3,
   "id": "dfac1c00",
   "metadata": {},
   "outputs": [
    {
     "data": {
      "text/plain": [
       "Index(['hotel', 'is_canceled', 'lead_time', 'arrival_date_year',\n",
       "       'arrival_date_month', 'arrival_date_week_number',\n",
       "       'arrival_date_day_of_month', 'stays_in_weekend_nights',\n",
       "       'stays_in_week_nights', 'adults', 'children', 'babies', 'meal',\n",
       "       'country', 'market_segment', 'distribution_channel',\n",
       "       'is_repeated_guest', 'previous_cancellations',\n",
       "       'previous_bookings_not_canceled', 'reserved_room_type',\n",
       "       'assigned_room_type', 'booking_changes', 'deposit_type', 'agent',\n",
       "       'company', 'days_in_waiting_list', 'customer_type', 'adr',\n",
       "       'required_car_parking_spaces', 'total_of_special_requests',\n",
       "       'reservation_status', 'reservation_status_date'],\n",
       "      dtype='object')"
      ]
     },
     "execution_count": 3,
     "metadata": {},
     "output_type": "execute_result"
    }
   ],
   "source": [
    "#Analyse all columns\n",
    "df.columns"
   ]
  },
  {
   "cell_type": "code",
   "execution_count": 4,
   "id": "47bd015d",
   "metadata": {},
   "outputs": [
    {
     "name": "stdout",
     "output_type": "stream",
     "text": [
      "  distribution_channel  is_canceled country  stays_in_week_nights  \\\n",
      "0               Direct          0.0     PRT                     0   \n",
      "1               Direct          0.0     PRT                     0   \n",
      "2               Direct          0.0     GBR                     1   \n",
      "3            Corporate          0.0     GBR                     1   \n",
      "4         Travel Agent          0.0     GBR                     2   \n",
      "\n",
      "   stays_in_weekend_nights  is_repeated_guest   adr meal arrival_date_month  \n",
      "0                        0                  0   0.0   BB               July  \n",
      "1                        0                  0   0.0   BB               July  \n",
      "2                        0                  0  75.0   BB               July  \n",
      "3                        0                  0  75.0   BB               July  \n",
      "4                        0                  0  98.0   BB               July  \n"
     ]
    }
   ],
   "source": [
    "#Filter only relevent columns \n",
    "df = df[['distribution_channel', 'is_canceled', 'country', 'stays_in_week_nights', 'stays_in_weekend_nights', 'is_repeated_guest', 'adr', 'meal', 'arrival_date_month']]\n",
    "print(df.head())"
   ]
  },
  {
   "cell_type": "code",
   "execution_count": 5,
   "id": "3678de11",
   "metadata": {},
   "outputs": [],
   "source": [
    "#Clean data\n",
    "#Combine travel agents\n",
    "df['distribution_channel'] = df['distribution_channel'].str.strip().str.lower() \n",
    "#Find total stay\n",
    "df['total_nights'] = df['stays_in_week_nights'] + df['stays_in_weekend_nights']\n",
    "#Remove cancelled bookings (does not impact revenue)\n",
    "df = df[df['is_canceled'] == 0]\n",
    "df = df[df['total_nights'] > 0]\n",
    "#ADR must be more than zero \n",
    "df = df[df['adr'] > 0]\n",
    "#Calculate total revenue per stay\n",
    "df['total_revenue_per_stay'] = df['adr'] * df['total_nights']\n",
    "#Drop columns we now don't need\n",
    "df.drop(columns=['stays_in_week_nights', 'stays_in_weekend_nights'], inplace=True)"
   ]
  },
  {
   "cell_type": "code",
   "execution_count": 6,
   "id": "7abbac6b",
   "metadata": {},
   "outputs": [
    {
     "name": "stdout",
     "output_type": "stream",
     "text": [
      "  distribution_channel  is_canceled country  is_repeated_guest    adr meal  \\\n",
      "2               direct          0.0     GBR                  0   75.0   BB   \n",
      "3            corporate          0.0     GBR                  0   75.0   BB   \n",
      "4         travel agent          0.0     GBR                  0   98.0   BB   \n",
      "5         travel agent          0.0     GBR                  0   98.0   BB   \n",
      "6               direct          0.0     PRT                  0  107.0   BB   \n",
      "\n",
      "  arrival_date_month  total_nights  total_revenue_per_stay  \n",
      "2               July             1                    75.0  \n",
      "3               July             1                    75.0  \n",
      "4               July             2                   196.0  \n",
      "5               July             2                   196.0  \n",
      "6               July             2                   214.0  \n"
     ]
    }
   ],
   "source": [
    "print(df.head())"
   ]
  },
  {
   "cell_type": "code",
   "execution_count": 7,
   "id": "7644e61b",
   "metadata": {},
   "outputs": [
    {
     "data": {
      "application/vnd.microsoft.datawrangler.viewer.v0+json": {
       "columns": [
        {
         "name": "index",
         "rawType": "object",
         "type": "string"
        },
        {
         "name": "is_canceled",
         "rawType": "float64",
         "type": "float"
        },
        {
         "name": "is_repeated_guest",
         "rawType": "float64",
         "type": "float"
        },
        {
         "name": "adr",
         "rawType": "float64",
         "type": "float"
        },
        {
         "name": "total_nights",
         "rawType": "float64",
         "type": "float"
        },
        {
         "name": "total_revenue_per_stay",
         "rawType": "float64",
         "type": "float"
        }
       ],
       "conversionMethod": "pd.DataFrame",
       "ref": "fc47a744-4064-4a7a-8cbb-f52e8494b490",
       "rows": [
        [
         "count",
         "73414.0",
         "73414.0",
         "73414.0",
         "73414.0",
         "73414.0"
        ],
        [
         "mean",
         "0.0",
         "0.03737706704443294",
         "102.36504154520935",
         "3.4357615713624106",
         "354.0659752908164"
        ],
        [
         "std",
         "0.0",
         "0.18968529728953645",
         "47.27699491235436",
         "2.5424047325458003",
         "322.1780642893"
        ],
        [
         "min",
         "0.0",
         "0.0",
         "0.26",
         "1.0",
         "1.0"
        ],
        [
         "25%",
         "0.0",
         "0.0",
         "70.0",
         "2.0",
         "147.0"
        ],
        [
         "50%",
         "0.0",
         "0.0",
         "94.5",
         "3.0",
         "264.6"
        ],
        [
         "75%",
         "0.0",
         "0.0",
         "126.0",
         "4.0",
         "446.40000000000003"
        ],
        [
         "max",
         "0.0",
         "1.0",
         "510.0",
         "69.0",
         "7590.0"
        ]
       ],
       "shape": {
        "columns": 5,
        "rows": 8
       }
      },
      "text/html": [
       "<div>\n",
       "<style scoped>\n",
       "    .dataframe tbody tr th:only-of-type {\n",
       "        vertical-align: middle;\n",
       "    }\n",
       "\n",
       "    .dataframe tbody tr th {\n",
       "        vertical-align: top;\n",
       "    }\n",
       "\n",
       "    .dataframe thead th {\n",
       "        text-align: right;\n",
       "    }\n",
       "</style>\n",
       "<table border=\"1\" class=\"dataframe\">\n",
       "  <thead>\n",
       "    <tr style=\"text-align: right;\">\n",
       "      <th></th>\n",
       "      <th>is_canceled</th>\n",
       "      <th>is_repeated_guest</th>\n",
       "      <th>adr</th>\n",
       "      <th>total_nights</th>\n",
       "      <th>total_revenue_per_stay</th>\n",
       "    </tr>\n",
       "  </thead>\n",
       "  <tbody>\n",
       "    <tr>\n",
       "      <th>count</th>\n",
       "      <td>73414.0</td>\n",
       "      <td>73414.000000</td>\n",
       "      <td>73414.000000</td>\n",
       "      <td>73414.000000</td>\n",
       "      <td>73414.000000</td>\n",
       "    </tr>\n",
       "    <tr>\n",
       "      <th>mean</th>\n",
       "      <td>0.0</td>\n",
       "      <td>0.037377</td>\n",
       "      <td>102.365042</td>\n",
       "      <td>3.435762</td>\n",
       "      <td>354.065975</td>\n",
       "    </tr>\n",
       "    <tr>\n",
       "      <th>std</th>\n",
       "      <td>0.0</td>\n",
       "      <td>0.189685</td>\n",
       "      <td>47.276995</td>\n",
       "      <td>2.542405</td>\n",
       "      <td>322.178064</td>\n",
       "    </tr>\n",
       "    <tr>\n",
       "      <th>min</th>\n",
       "      <td>0.0</td>\n",
       "      <td>0.000000</td>\n",
       "      <td>0.260000</td>\n",
       "      <td>1.000000</td>\n",
       "      <td>1.000000</td>\n",
       "    </tr>\n",
       "    <tr>\n",
       "      <th>25%</th>\n",
       "      <td>0.0</td>\n",
       "      <td>0.000000</td>\n",
       "      <td>70.000000</td>\n",
       "      <td>2.000000</td>\n",
       "      <td>147.000000</td>\n",
       "    </tr>\n",
       "    <tr>\n",
       "      <th>50%</th>\n",
       "      <td>0.0</td>\n",
       "      <td>0.000000</td>\n",
       "      <td>94.500000</td>\n",
       "      <td>3.000000</td>\n",
       "      <td>264.600000</td>\n",
       "    </tr>\n",
       "    <tr>\n",
       "      <th>75%</th>\n",
       "      <td>0.0</td>\n",
       "      <td>0.000000</td>\n",
       "      <td>126.000000</td>\n",
       "      <td>4.000000</td>\n",
       "      <td>446.400000</td>\n",
       "    </tr>\n",
       "    <tr>\n",
       "      <th>max</th>\n",
       "      <td>0.0</td>\n",
       "      <td>1.000000</td>\n",
       "      <td>510.000000</td>\n",
       "      <td>69.000000</td>\n",
       "      <td>7590.000000</td>\n",
       "    </tr>\n",
       "  </tbody>\n",
       "</table>\n",
       "</div>"
      ],
      "text/plain": [
       "       is_canceled  is_repeated_guest           adr  total_nights  \\\n",
       "count      73414.0       73414.000000  73414.000000  73414.000000   \n",
       "mean           0.0           0.037377    102.365042      3.435762   \n",
       "std            0.0           0.189685     47.276995      2.542405   \n",
       "min            0.0           0.000000      0.260000      1.000000   \n",
       "25%            0.0           0.000000     70.000000      2.000000   \n",
       "50%            0.0           0.000000     94.500000      3.000000   \n",
       "75%            0.0           0.000000    126.000000      4.000000   \n",
       "max            0.0           1.000000    510.000000     69.000000   \n",
       "\n",
       "       total_revenue_per_stay  \n",
       "count            73414.000000  \n",
       "mean               354.065975  \n",
       "std                322.178064  \n",
       "min                  1.000000  \n",
       "25%                147.000000  \n",
       "50%                264.600000  \n",
       "75%                446.400000  \n",
       "max               7590.000000  "
      ]
     },
     "execution_count": 7,
     "metadata": {},
     "output_type": "execute_result"
    }
   ],
   "source": [
    "df.describe()"
   ]
  },
  {
   "cell_type": "code",
   "execution_count": 8,
   "id": "57027b46",
   "metadata": {},
   "outputs": [
    {
     "data": {
      "text/plain": [
       "<Axes: >"
      ]
     },
     "execution_count": 8,
     "metadata": {},
     "output_type": "execute_result"
    },
    {
     "data": {
      "image/png": "[encoded data removed]",
      "text/plain": [
       "<Figure size 640x480 with 1 Axes>"
      ]
     },
     "metadata": {},
     "output_type": "display_data"
    }
   ],
   "source": [
    "df['adr'].plot()\n",
    "#Plot to visualise if data looks accurate and reliable before performing analysis "
   ]
  },
  {
   "cell_type": "code",
   "execution_count": 9,
   "id": "a80c8145",
   "metadata": {},
   "outputs": [
    {
     "name": "stdout",
     "output_type": "stream",
     "text": [
      "['GBR' 'PRT' 'USA' 'ESP' 'IRL' 'FRA' nan 'ROU' 'NOR' 'OMN' 'ARG' 'POL'\n",
      " 'DEU' 'BEL' 'CHE' 'CN' 'GRC' 'ITA' 'NLD' 'DNK' 'RUS' 'SWE' 'AUS' 'EST'\n",
      " 'CZE' 'BRA' 'FIN' 'MOZ' 'BWA' 'LUX' 'SVN' 'ALB' 'IND' 'CHN' 'MEX' 'MAR'\n",
      " 'UKR' 'SMR' 'LVA' 'PRI' 'SRB' 'CHL' 'AUT' 'BLR' 'LTU' 'TUR' 'ZAF' 'ISR'\n",
      " 'CYM' 'ZMB' 'CPV' 'ZWE' 'DZA' 'KOR' 'CRI' 'HUN' 'JAM' 'HRV' 'IRN' 'CAF'\n",
      " 'CYP' 'NZL' 'IDN' 'KAZ' 'THA' 'COL' 'DOM' 'MKD' 'MYS' 'NGA' 'VEN' 'GIB'\n",
      " 'ARM' 'JPN' 'LKA' 'CUB' 'CMR' 'BIH' 'MUS' 'COM' 'SUR' 'UGA' 'BGR' 'CIV'\n",
      " 'JOR' 'SYR' 'PHL' 'SGP' 'BDI' 'AGO' 'URY' 'SAU' 'KWT' 'LBN' 'AND' 'VNM'\n",
      " 'AZE' 'PLW' 'ARE' 'EGY' 'PER' 'SVK' 'MDV' 'MLT' 'MWI' 'ECU' 'MDG' 'ISL'\n",
      " 'UZB' 'NPL' 'BHS' 'PAK' 'MAC' 'TGO' 'TWN' 'HKG' 'DJI' 'GEO' 'TUN' 'STP'\n",
      " 'SEN' 'KNA' 'ETH' 'IRQ' 'RWA' 'LIE' 'MMR' 'PAN' 'TMP' 'BFA' 'KEN' 'MCO'\n",
      " 'LBY' 'GNB' 'MLI' 'BGD' 'TZA' 'BHR' 'NAM' 'BOL' 'SYC' 'QAT' 'PRY' 'BRB'\n",
      " 'ABW' 'AIA' 'SLV' 'DMA' 'GAB' 'PYF' 'GUY' 'LCA' 'ATA' 'MNE' 'GTM' 'GHA'\n",
      " 'ASM' 'MRT' 'NCL' 'KIR' 'SDN' 'ATF' 'TJK' 'SLE' 'LAO' 'FRO']\n"
     ]
    }
   ],
   "source": [
    "print(df['country'].unique())"
   ]
  },
  {
   "cell_type": "code",
   "execution_count": 10,
   "id": "2678370b",
   "metadata": {},
   "outputs": [
    {
     "name": "stdout",
     "output_type": "stream",
     "text": [
      "Country with the most hotel bookings:  PRT\n",
      "Number of bookings:  19707\n"
     ]
    }
   ],
   "source": [
    "#Find country with the most bookings\n",
    "country_counts = df['country'].value_counts()\n",
    "top_country = country_counts.idxmax()\n",
    "print(\"Country with the most hotel bookings: \", top_country)\n",
    "print(\"Number of bookings: \", country_counts.max())"
   ]
  },
  {
   "cell_type": "code",
   "execution_count": 11,
   "id": "7e7eb249",
   "metadata": {},
   "outputs": [
    {
     "name": "stdout",
     "output_type": "stream",
     "text": [
      "Bookings by channel for Portugal (PRT): \n",
      "distribution_channel\n",
      "travel agent           11735\n",
      "direct                  4865\n",
      "corporate               3091\n",
      "global distribution       15\n",
      "undefined                  1\n",
      "Name: count, dtype: int64\n"
     ]
    }
   ],
   "source": [
    "#Find distribution channel which brings in most bookings from Portugal\n",
    "df_PRT = df[df['country'] == 'PRT']\n",
    "distribution_channel_counts = df_PRT['distribution_channel'].value_counts()\n",
    "print(\"Bookings by channel for Portugal (PRT): \")\n",
    "print(distribution_channel_counts)"
   ]
  },
  {
   "cell_type": "code",
   "execution_count": 12,
   "id": "97e7832b",
   "metadata": {},
   "outputs": [
    {
     "data": {
      "application/vnd.microsoft.datawrangler.viewer.v0+json": {
       "columns": [
        {
         "name": "index",
         "rawType": "int64",
         "type": "integer"
        },
        {
         "name": "distribution_channel",
         "rawType": "object",
         "type": "string"
        },
        {
         "name": "total_revenue_per_channel",
         "rawType": "float64",
         "type": "float"
        },
        {
         "name": "total_bookings",
         "rawType": "int64",
         "type": "integer"
        }
       ],
       "conversionMethod": "pd.DataFrame",
       "ref": "31b7888b-6fad-4c54-b102-34a19a075334",
       "rows": [
        [
         "0",
         "corporate",
         "827884.92",
         "5037"
        ],
        [
         "1",
         "direct",
         "4325305.48",
         "11381"
        ],
        [
         "2",
         "global distribution",
         "33007.96",
         "152"
        ],
        [
         "3",
         "travel agent",
         "20806637.65",
         "56843"
        ],
        [
         "4",
         "undefined",
         "563.5",
         "1"
        ]
       ],
       "shape": {
        "columns": 3,
        "rows": 5
       }
      },
      "text/html": [
       "<div>\n",
       "<style scoped>\n",
       "    .dataframe tbody tr th:only-of-type {\n",
       "        vertical-align: middle;\n",
       "    }\n",
       "\n",
       "    .dataframe tbody tr th {\n",
       "        vertical-align: top;\n",
       "    }\n",
       "\n",
       "    .dataframe thead th {\n",
       "        text-align: right;\n",
       "    }\n",
       "</style>\n",
       "<table border=\"1\" class=\"dataframe\">\n",
       "  <thead>\n",
       "    <tr style=\"text-align: right;\">\n",
       "      <th></th>\n",
       "      <th>distribution_channel</th>\n",
       "      <th>total_revenue_per_channel</th>\n",
       "      <th>total_bookings</th>\n",
       "    </tr>\n",
       "  </thead>\n",
       "  <tbody>\n",
       "    <tr>\n",
       "      <th>0</th>\n",
       "      <td>corporate</td>\n",
       "      <td>827884.92</td>\n",
       "      <td>5037</td>\n",
       "    </tr>\n",
       "    <tr>\n",
       "      <th>1</th>\n",
       "      <td>direct</td>\n",
       "      <td>4325305.48</td>\n",
       "      <td>11381</td>\n",
       "    </tr>\n",
       "    <tr>\n",
       "      <th>2</th>\n",
       "      <td>global distribution</td>\n",
       "      <td>33007.96</td>\n",
       "      <td>152</td>\n",
       "    </tr>\n",
       "    <tr>\n",
       "      <th>3</th>\n",
       "      <td>travel agent</td>\n",
       "      <td>20806637.65</td>\n",
       "      <td>56843</td>\n",
       "    </tr>\n",
       "    <tr>\n",
       "      <th>4</th>\n",
       "      <td>undefined</td>\n",
       "      <td>563.50</td>\n",
       "      <td>1</td>\n",
       "    </tr>\n",
       "  </tbody>\n",
       "</table>\n",
       "</div>"
      ],
      "text/plain": [
       "  distribution_channel  total_revenue_per_channel  total_bookings\n",
       "0            corporate                  827884.92            5037\n",
       "1               direct                 4325305.48           11381\n",
       "2  global distribution                   33007.96             152\n",
       "3         travel agent                20806637.65           56843\n",
       "4            undefined                     563.50               1"
      ]
     },
     "execution_count": 12,
     "metadata": {},
     "output_type": "execute_result"
    }
   ],
   "source": [
    "#Make data frame for revenue\n",
    "df_revenue = df.groupby('distribution_channel', as_index=False).agg({'total_revenue_per_stay': 'sum', 'total_nights' : 'count'})\n",
    "df_revenue.rename(columns={'total_revenue_per_stay': 'total_revenue_per_channel'}, inplace = True)\n",
    "df_revenue.rename(columns={'total_nights': 'total_bookings'}, inplace = True)\n",
    "df_revenue"
   ]
  },
  {
   "cell_type": "code",
   "execution_count": 13,
   "id": "6689e77f",
   "metadata": {},
   "outputs": [
    {
     "data": {
      "image/png": "[encoded data removed]",
      "text/plain": [
       "<Figure size 500x500 with 1 Axes>"
      ]
     },
     "metadata": {},
     "output_type": "display_data"
    }
   ],
   "source": [
    "#Create pie chart for revenue per distribution channel\n",
    "plt.figure(figsize=(5,5))\n",
    "plt.pie(df_revenue['total_revenue_per_channel'], labels=df_revenue['distribution_channel'])\n",
    "plt.title('Pie Chart for Revenue per Distribution Channel')\n",
    "#plt.legend()\n",
    "plt.tight_layout()\n",
    "plt.savefig(\"pie_chart.png\", dpi=100)\n",
    "plt.show()"
   ]
  },
  {
   "cell_type": "code",
   "execution_count": 14,
   "id": "faa658ba",
   "metadata": {},
   "outputs": [
    {
     "data": {
      "image/png": "[encoded data removed]",
      "text/plain": [
       "<Figure size 800x400 with 1 Axes>"
      ]
     },
     "metadata": {},
     "output_type": "display_data"
    }
   ],
   "source": [
    "#Create bar chart for average nights per distribution channel\n",
    "avg_total_nights = df.groupby('distribution_channel', as_index = False)['total_nights'].mean()\n",
    "plt.figure(figsize=(8,4))\n",
    "plt.bar(avg_total_nights['distribution_channel'], avg_total_nights['total_nights'], color='black', alpha=0.8)\n",
    "plt.xlabel(\"Distribution Channel\")\n",
    "plt.ylabel(\"Average Total Nights Stayed\")\n",
    "plt.title(\"Average Total Nights Stayed per Distribution Channel\")\n",
    "plt.show()\n",
    "#Undefined channel is skewed with limited bookings "
   ]
  },
  {
   "cell_type": "code",
   "execution_count": 15,
   "id": "5c3bb87f",
   "metadata": {},
   "outputs": [
    {
     "name": "stdout",
     "output_type": "stream",
     "text": [
      "distribution_channel\n",
      "corporate              27.397260\n",
      "direct                  5.544328\n",
      "global distribution     1.315789\n",
      "travel agent            1.285998\n",
      "undefined                    NaN\n",
      "dtype: float64\n"
     ]
    }
   ],
   "source": [
    "#Find percentage of guests which are repeated per distribution channel\n",
    "total_guests = df.groupby('distribution_channel').size()\n",
    "repeated_guests = df[df['is_repeated_guest'] == 1].groupby('distribution_channel').size()\n",
    "percentage_of_guests_which_are_repeated = (repeated_guests/total_guests)*100\n",
    "print(percentage_of_guests_which_are_repeated)"
   ]
  },
  {
   "cell_type": "code",
   "execution_count": 16,
   "id": "09edc408",
   "metadata": {},
   "outputs": [
    {
     "name": "stdout",
     "output_type": "stream",
     "text": [
      "distribution_channel  corporate  direct  global distribution  travel agent  \\\n",
      "row_number                                                                   \n",
      "0                         75.00   75.00                120.0         98.00   \n",
      "1                        107.42  107.00                 75.0         98.00   \n",
      "2                        104.72  103.00                 87.0        145.00   \n",
      "3                        100.00  153.00                 87.0         97.00   \n",
      "4                        114.00   84.67                 84.0        154.77   \n",
      "...                         ...     ...                  ...           ...   \n",
      "56838                       NaN     NaN                  NaN         96.14   \n",
      "56839                       NaN     NaN                  NaN        225.43   \n",
      "56840                       NaN     NaN                  NaN        157.71   \n",
      "56841                       NaN     NaN                  NaN        104.40   \n",
      "56842                       NaN     NaN                  NaN        151.20   \n",
      "\n",
      "distribution_channel  undefined  \n",
      "row_number                       \n",
      "0                         112.7  \n",
      "1                           NaN  \n",
      "2                           NaN  \n",
      "3                           NaN  \n",
      "4                           NaN  \n",
      "...                         ...  \n",
      "56838                       NaN  \n",
      "56839                       NaN  \n",
      "56840                       NaN  \n",
      "56841                       NaN  \n",
      "56842                       NaN  \n",
      "\n",
      "[56843 rows x 5 columns]\n"
     ]
    }
   ],
   "source": [
    "#Make data frame with distribution channels & ADR\n",
    "df.loc[:, 'row_number'] = df.groupby('distribution_channel').cumcount()\n",
    "pivot_df = df.pivot(index='row_number', columns='distribution_channel', values='adr')\n",
    "print(pivot_df)"
   ]
  },
  {
   "cell_type": "code",
   "execution_count": 17,
   "id": "f6748156",
   "metadata": {},
   "outputs": [
    {
     "data": {
      "image/png": "[encoded data removed]",
      "text/plain": [
       "<Figure size 700x600 with 1 Axes>"
      ]
     },
     "metadata": {},
     "output_type": "display_data"
    }
   ],
   "source": [
    "#Create scatter plot of ADR by distribution channel to show variance of ADR per distribution channel\n",
    "plt.figure(figsize=(7,6))\n",
    "for channel in pivot_df.columns:\n",
    "    y_vals = pivot_df[channel].dropna()\n",
    "    x_pos = [pivot_df.columns.get_loc(channel)]*len(y_vals)\n",
    "    plt.scatter(x_pos, y_vals,s =5, label=channel)\n",
    "plt.xticks(range(len(pivot_df.columns)), pivot_df.columns, rotation=45)\n",
    "plt.xlabel(\"Distribution Channel\")\n",
    "plt.ylabel(\"ADR\")\n",
    "plt.title(\"Scatter Plot of ADR by Distribution Channel\")\n",
    "plt.legend()\n",
    "plt.tight_layout()\n",
    "plt.show()"
   ]
  },
  {
   "cell_type": "code",
   "execution_count": 18,
   "id": "d8ffd5eb",
   "metadata": {},
   "outputs": [
    {
     "name": "stdout",
     "output_type": "stream",
     "text": [
      "  distribution_channel     avg_adr\n",
      "0            corporate   69.464215\n",
      "1               direct  112.626402\n",
      "2  global distribution  123.089605\n",
      "3         travel agent  103.170355\n",
      "4            undefined  112.700000\n"
     ]
    }
   ],
   "source": [
    "#Calculate average ADR per distribution channel\n",
    "df_avg_adr = df.groupby('distribution_channel', as_index=False)['adr'].mean()\n",
    "df_avg_adr.rename(columns={'adr':'avg_adr'}, inplace=True)\n",
    "print(df_avg_adr)"
   ]
  },
  {
   "cell_type": "code",
   "execution_count": 19,
   "id": "d6c0407b",
   "metadata": {},
   "outputs": [
    {
     "name": "stdout",
     "output_type": "stream",
     "text": [
      "Most common meal type per distribution channel: \n",
      "distribution_channel\n",
      "corporate              BB\n",
      "direct                 BB\n",
      "global distribution    BB\n",
      "travel agent           BB\n",
      "undefined              HB\n",
      "Name: meal, dtype: object\n"
     ]
    }
   ],
   "source": [
    "#Create a function to return the most common meal type per distribution channel\n",
    "distribution_channel_meal_counts = df.groupby('distribution_channel')['meal'].value_counts()\n",
    "def most_common(x):\n",
    "    return x.value_counts().idxmax()\n",
    "\n",
    "mode_meal_per_channel = df.groupby('distribution_channel')['meal'].agg(most_common)\n",
    "print(\"Most common meal type per distribution channel: \")\n",
    "print(mode_meal_per_channel)\n",
    "#Results consistant accross channels, no clear patterns or trends emerging. Suggests that meal type preferneces may not vary accross distribution channels."
   ]
  },
  {
   "cell_type": "code",
   "execution_count": 20,
   "id": "9062590d",
   "metadata": {},
   "outputs": [
    {
     "name": "stdout",
     "output_type": "stream",
     "text": [
      "distribution_channel  corporate  direct  global distribution  travel agent  \\\n",
      "arrival_date_month                                                           \n",
      "January                     376     865                   15          2750   \n",
      "February                    422    1005                   18          3800   \n",
      "March                       541    1001                   15          4942   \n",
      "April                       344     938                    7          5155   \n",
      "May                         444     871                   18          5617   \n",
      "June                        380     843                   25          5044   \n",
      "July                        234    1241                    4          6283   \n",
      "August                      180    1532                    3          6761   \n",
      "October                     798     896                   16          5007   \n",
      "November                    676     591                   16          3246   \n",
      "December                    301     784                    7          3113   \n",
      "\n",
      "distribution_channel  undefined  \n",
      "arrival_date_month               \n",
      "January                       0  \n",
      "February                      0  \n",
      "March                         0  \n",
      "April                         0  \n",
      "May                           0  \n",
      "June                          0  \n",
      "July                          1  \n",
      "August                        0  \n",
      "October                       0  \n",
      "November                      0  \n",
      "December                      0  \n"
     ]
    }
   ],
   "source": [
    "#Find how many bookings each distribution channel had per month \n",
    "month_order = ['January', 'February', 'March', 'April', 'May', 'June', 'July', 'August', 'Spetember', 'October', 'November', 'December']\n",
    "df['arrival_date_month'] = pd.Categorical(df['arrival_date_month'], categories=month_order, ordered=True)\n",
    "distribution_channel_month_count = df.groupby(['arrival_date_month', 'distribution_channel'], observed=True).size().unstack(fill_value=0)\n",
    "print(distribution_channel_month_count)"
   ]
  },
  {
   "cell_type": "code",
   "execution_count": null,
   "id": "e276b94e",
   "metadata": {},
   "outputs": [],
   "source": []
  },
  {
   "cell_type": "code",
   "execution_count": null,
   "id": "84f888dd",
   "metadata": {},
   "outputs": [],
   "source": []
  },
  {
   "cell_type": "markdown",
   "id": "254ca3b9",
   "metadata": {},
   "source": []
  },
  {
   "cell_type": "markdown",
   "id": "987f2ae6",
   "metadata": {},
   "source": []
  },
  {
   "cell_type": "markdown",
   "metadata": {},
   "source": []
  }
 ],
 "metadata": {
  "kernelspec": {
   "display_name": "TAatUEBS",
   "language": "python",
   "name": "python3"
  },
  "language_info": {
   "codemirror_mode": {
    "name": "ipython",
    "version": 3
   },
   "file_extension": ".py",
   "mimetype": "text/x-python",
   "name": "python",
   "nbconvert_exporter": "python",
   "pygments_lexer": "ipython3",
   "version": "3.10.16"
  }
 },
 "nbformat": 4,
 "nbformat_minor": 5
}
