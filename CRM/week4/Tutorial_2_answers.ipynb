{
 "cells": [
  {
   "cell_type": "markdown",
   "id": "c65e2a20",
   "metadata": {},
   "source": [
    "#### Tutor name: Heqing (Eric) SHI\n",
    "#### Contact email: Heqing.Shi@ed.ac.uk\n",
    "#### Web: [personal page](https://shiheqing.github.io)\n",
    "*Materials credit to @Zongxiao WU, the previous tutor.*"
   ]
  },
  {
   "cell_type": "code",
   "execution_count": 1,
   "id": "50202a44",
   "metadata": {},
   "outputs": [],
   "source": [
    "# import packages that we will use in this session\n",
    "import pandas as pd\n",
    "from scipy import stats\n",
    "import numpy as np\n",
    "import matplotlib as mpl\n",
    "import matplotlib.pyplot as plt"
   ]
  },
  {
   "cell_type": "code",
   "execution_count": 2,
   "id": "bb82a45c",
   "metadata": {},
   "outputs": [],
   "source": [
    "df = pd.read_csv('Devsample_coarse_3.csv')"
   ]
  },
  {
   "cell_type": "code",
   "execution_count": 3,
   "id": "6bb9b554",
   "metadata": {},
   "outputs": [
    {
     "name": "stdout",
     "output_type": "stream",
     "text": [
      "<class 'pandas.core.frame.DataFrame'>\n",
      "RangeIndex: 5000 entries, 0 to 4999\n",
      "Data columns (total 30 columns):\n",
      " #   Column      Non-Null Count  Dtype  \n",
      "---  ------      --------------  -----  \n",
      " 0   Unnamed: 0  5000 non-null   int64  \n",
      " 1   ID          5000 non-null   float64\n",
      " 2   FLAGBINARY  5000 non-null   object \n",
      " 3   PHONE       5000 non-null   object \n",
      " 4   MSTAT       5000 non-null   object \n",
      " 5   RSTAT       5000 non-null   object \n",
      " 6   KIDS        5000 non-null   float64\n",
      " 7   CARDI       5000 non-null   object \n",
      " 8   CARDH2      5000 non-null   object \n",
      " 9   AGE         5000 non-null   float64\n",
      " 10  TAD         5000 non-null   float64\n",
      " 11  BUREAU      5000 non-null   float64\n",
      " 12  SEARCH      5000 non-null   float64\n",
      " 13  phone1      5000 non-null   float64\n",
      " 14  PhoneWoe    5000 non-null   float64\n",
      " 15  MSgrouped   5000 non-null   float64\n",
      " 16  Married1    5000 non-null   float64\n",
      " 17  Married2    5000 non-null   float64\n",
      " 18  MSwoe       5000 non-null   float64\n",
      " 19  AgeBinned   5000 non-null   object \n",
      " 20  AgeGrouped  5000 non-null   float64\n",
      " 21  Age_d_1     5000 non-null   float64\n",
      " 22  Age_d_2     5000 non-null   float64\n",
      " 23  Age_d_3     5000 non-null   float64\n",
      " 24  Age_d_4     5000 non-null   float64\n",
      " 25  Age_d_5     5000 non-null   float64\n",
      " 26  Age_d_6     5000 non-null   float64\n",
      " 27  Age_d_7     5000 non-null   float64\n",
      " 28  Age_d_8     5000 non-null   float64\n",
      " 29  AgeWoe      5000 non-null   float64\n",
      "dtypes: float64(22), int64(1), object(7)\n",
      "memory usage: 1.1+ MB\n"
     ]
    }
   ],
   "source": [
    "df.info()"
   ]
  },
  {
   "cell_type": "code",
   "execution_count": 4,
   "id": "f9e680ca",
   "metadata": {},
   "outputs": [
    {
     "name": "stdout",
     "output_type": "stream",
     "text": [
      "<class 'pandas.core.frame.DataFrame'>\n",
      "RangeIndex: 5000 entries, 0 to 4999\n",
      "Data columns (total 18 columns):\n",
      " #   Column      Non-Null Count  Dtype  \n",
      "---  ------      --------------  -----  \n",
      " 0   ID          5000 non-null   float64\n",
      " 1   FLAGBINARY  5000 non-null   object \n",
      " 2   PHONE       5000 non-null   object \n",
      " 3   MSTAT       5000 non-null   object \n",
      " 4   RSTAT       5000 non-null   object \n",
      " 5   KIDS        5000 non-null   float64\n",
      " 6   CARDI       5000 non-null   object \n",
      " 7   CARDH2      5000 non-null   object \n",
      " 8   AGE         5000 non-null   float64\n",
      " 9   TAD         5000 non-null   float64\n",
      " 10  BUREAU      5000 non-null   float64\n",
      " 11  SEARCH      5000 non-null   float64\n",
      " 12  phone1      5000 non-null   float64\n",
      " 13  PhoneWoe    5000 non-null   float64\n",
      " 14  MSgrouped   5000 non-null   float64\n",
      " 15  Married1    5000 non-null   float64\n",
      " 16  Married2    5000 non-null   float64\n",
      " 17  MSwoe       5000 non-null   float64\n",
      "dtypes: float64(12), object(6)\n",
      "memory usage: 703.2+ KB\n"
     ]
    }
   ],
   "source": [
    "# only include those variables that we need\n",
    "df = df[df.columns[1:19]]\n",
    "df.info()"
   ]
  },
  {
   "cell_type": "markdown",
   "id": "baae81f6",
   "metadata": {},
   "source": [
    "### 1. Exploring numeric characteristics (e.g., AGE)."
   ]
  },
  {
   "cell_type": "markdown",
   "id": "2f8ecf37",
   "metadata": {},
   "source": [
    "a). Examine descriptive statistics and histograms of AGE. "
   ]
  },
  {
   "cell_type": "code",
   "execution_count": 5,
   "id": "300cb0b2",
   "metadata": {},
   "outputs": [
    {
     "data": {
      "text/plain": [
       "count    5000.000000\n",
       "mean       36.443200\n",
       "std        12.465145\n",
       "min        18.000000\n",
       "25%        27.000000\n",
       "50%        34.000000\n",
       "75%        44.000000\n",
       "max        71.000000\n",
       "Name: AGE, dtype: float64"
      ]
     },
     "execution_count": 5,
     "metadata": {},
     "output_type": "execute_result"
    }
   ],
   "source": [
    "# descriptive statistics\n",
    "df.AGE.describe()"
   ]
  },
  {
   "cell_type": "code",
   "execution_count": 6,
   "id": "34dc4577",
   "metadata": {},
   "outputs": [
    {
     "data": {
      "text/plain": [
       "(array([173., 147., 136., 293., 159., 141., 311., 176., 155., 312., 185.,\n",
       "        178., 314., 134., 166., 305., 119., 139., 187., 111., 101., 171.,\n",
       "         75.,  61., 119.,  25.,  41.,  62.,  38.,  45.,  58.,  45.,  38.,\n",
       "         72.,  33.,  30.,  43.,  27.,  46.,  29.]),\n",
       " array([18.   , 19.325, 20.65 , 21.975, 23.3  , 24.625, 25.95 , 27.275,\n",
       "        28.6  , 29.925, 31.25 , 32.575, 33.9  , 35.225, 36.55 , 37.875,\n",
       "        39.2  , 40.525, 41.85 , 43.175, 44.5  , 45.825, 47.15 , 48.475,\n",
       "        49.8  , 51.125, 52.45 , 53.775, 55.1  , 56.425, 57.75 , 59.075,\n",
       "        60.4  , 61.725, 63.05 , 64.375, 65.7  , 67.025, 68.35 , 69.675,\n",
       "        71.   ]),\n",
       " <BarContainer object of 40 artists>)"
      ]
     },
     "execution_count": 6,
     "metadata": {},
     "output_type": "execute_result"
    },
    {
     "data": {
      "image/png": "[encoded data removed]",
      "text/plain": [
       "<Figure size 640x480 with 1 Axes>"
      ]
     },
     "metadata": {},
     "output_type": "display_data"
    }
   ],
   "source": [
    "# histogram \n",
    "plt.hist(df.AGE,bins=40) # you can try different numbers of bins"
   ]
  },
  {
   "cell_type": "markdown",
   "id": "e12dd578",
   "metadata": {},
   "source": [
    "b). Split AGE into initial fine classes to prepare them for coarse-classification."
   ]
  },
  {
   "cell_type": "code",
   "execution_count": 7,
   "id": "9b8613c5",
   "metadata": {},
   "outputs": [],
   "source": [
    "# The following commands split the variable age into fine classes: 10 groups of approximate size.\n",
    "df['AgeBinned'], cut_bin = pd.qcut(df['AGE'], q = 10, \n",
    "                                   labels = ['Age_1', 'Age_2', 'Age_3', 'Age_4', 'Age_5', 'Age_6', 'Age_7', 'Age_8', 'Age_9', 'Age_10'],\n",
    "                                   retbins = True)"
   ]
  },
  {
   "cell_type": "markdown",
   "id": "667939aa",
   "metadata": {},
   "source": [
    "c). Obtain a univariate frequency table of the new variable."
   ]
  },
  {
   "cell_type": "code",
   "execution_count": 8,
   "id": "9a76d7b3",
   "metadata": {},
   "outputs": [
    {
     "data": {
      "text/plain": [
       "AgeBinned\n",
       "Age_1     599\n",
       "Age_6     587\n",
       "Age_5     544\n",
       "Age_9     503\n",
       "Age_8     488\n",
       "Age_3     487\n",
       "Age_4     467\n",
       "Age_10    466\n",
       "Age_2     450\n",
       "Age_7     409\n",
       "Name: count, dtype: int64"
      ]
     },
     "execution_count": 8,
     "metadata": {},
     "output_type": "execute_result"
    }
   ],
   "source": [
    "df['AgeBinned'].value_counts()"
   ]
  },
  {
   "cell_type": "markdown",
   "id": "7a3266bc",
   "metadata": {},
   "source": [
    "### 2.\tAssociation with Performance Flag and coarse-classification."
   ]
  },
  {
   "cell_type": "markdown",
   "id": "6373bc61",
   "metadata": {},
   "source": [
    "a). Cross-tabulation. Now we want to examine the cross-tabulation frequency table for “agebinned” and the “flag”."
   ]
  },
  {
   "cell_type": "code",
   "execution_count": 9,
   "id": "8e48bfe3",
   "metadata": {},
   "outputs": [
    {
     "data": {
      "text/html": [
       "<div>\n",
       "<style scoped>\n",
       "    .dataframe tbody tr th:only-of-type {\n",
       "        vertical-align: middle;\n",
       "    }\n",
       "\n",
       "    .dataframe tbody tr th {\n",
       "        vertical-align: top;\n",
       "    }\n",
       "\n",
       "    .dataframe thead th {\n",
       "        text-align: right;\n",
       "    }\n",
       "</style>\n",
       "<table border=\"1\" class=\"dataframe\">\n",
       "  <thead>\n",
       "    <tr style=\"text-align: right;\">\n",
       "      <th>FLAGBINARY</th>\n",
       "      <th>Bad</th>\n",
       "      <th>Good</th>\n",
       "      <th>Total</th>\n",
       "    </tr>\n",
       "    <tr>\n",
       "      <th>AgeBinned</th>\n",
       "      <th></th>\n",
       "      <th></th>\n",
       "      <th></th>\n",
       "    </tr>\n",
       "  </thead>\n",
       "  <tbody>\n",
       "    <tr>\n",
       "      <th>Age_1</th>\n",
       "      <td>185</td>\n",
       "      <td>414</td>\n",
       "      <td>599</td>\n",
       "    </tr>\n",
       "    <tr>\n",
       "      <th>Age_2</th>\n",
       "      <td>117</td>\n",
       "      <td>333</td>\n",
       "      <td>450</td>\n",
       "    </tr>\n",
       "    <tr>\n",
       "      <th>Age_3</th>\n",
       "      <td>92</td>\n",
       "      <td>395</td>\n",
       "      <td>487</td>\n",
       "    </tr>\n",
       "    <tr>\n",
       "      <th>Age_4</th>\n",
       "      <td>68</td>\n",
       "      <td>399</td>\n",
       "      <td>467</td>\n",
       "    </tr>\n",
       "    <tr>\n",
       "      <th>Age_5</th>\n",
       "      <td>54</td>\n",
       "      <td>490</td>\n",
       "      <td>544</td>\n",
       "    </tr>\n",
       "    <tr>\n",
       "      <th>Age_6</th>\n",
       "      <td>72</td>\n",
       "      <td>515</td>\n",
       "      <td>587</td>\n",
       "    </tr>\n",
       "    <tr>\n",
       "      <th>Age_7</th>\n",
       "      <td>50</td>\n",
       "      <td>359</td>\n",
       "      <td>409</td>\n",
       "    </tr>\n",
       "    <tr>\n",
       "      <th>Age_8</th>\n",
       "      <td>44</td>\n",
       "      <td>444</td>\n",
       "      <td>488</td>\n",
       "    </tr>\n",
       "    <tr>\n",
       "      <th>Age_9</th>\n",
       "      <td>40</td>\n",
       "      <td>463</td>\n",
       "      <td>503</td>\n",
       "    </tr>\n",
       "    <tr>\n",
       "      <th>Age_10</th>\n",
       "      <td>25</td>\n",
       "      <td>441</td>\n",
       "      <td>466</td>\n",
       "    </tr>\n",
       "    <tr>\n",
       "      <th>Total</th>\n",
       "      <td>747</td>\n",
       "      <td>4253</td>\n",
       "      <td>5000</td>\n",
       "    </tr>\n",
       "  </tbody>\n",
       "</table>\n",
       "</div>"
      ],
      "text/plain": [
       "FLAGBINARY  Bad  Good  Total\n",
       "AgeBinned                   \n",
       "Age_1       185   414    599\n",
       "Age_2       117   333    450\n",
       "Age_3        92   395    487\n",
       "Age_4        68   399    467\n",
       "Age_5        54   490    544\n",
       "Age_6        72   515    587\n",
       "Age_7        50   359    409\n",
       "Age_8        44   444    488\n",
       "Age_9        40   463    503\n",
       "Age_10       25   441    466\n",
       "Total       747  4253   5000"
      ]
     },
     "execution_count": 9,
     "metadata": {},
     "output_type": "execute_result"
    }
   ],
   "source": [
    "pd.crosstab(df['AgeBinned'],df['FLAGBINARY'],margins=True,margins_name='Total')"
   ]
  },
  {
   "cell_type": "code",
   "execution_count": 10,
   "id": "e326c40e",
   "metadata": {},
   "outputs": [
    {
     "data": {
      "text/html": [
       "<div>\n",
       "<style scoped>\n",
       "    .dataframe tbody tr th:only-of-type {\n",
       "        vertical-align: middle;\n",
       "    }\n",
       "\n",
       "    .dataframe tbody tr th {\n",
       "        vertical-align: top;\n",
       "    }\n",
       "\n",
       "    .dataframe thead th {\n",
       "        text-align: right;\n",
       "    }\n",
       "</style>\n",
       "<table border=\"1\" class=\"dataframe\">\n",
       "  <thead>\n",
       "    <tr style=\"text-align: right;\">\n",
       "      <th>FLAGBINARY</th>\n",
       "      <th>Bad</th>\n",
       "      <th>Good</th>\n",
       "    </tr>\n",
       "    <tr>\n",
       "      <th>AgeBinned</th>\n",
       "      <th></th>\n",
       "      <th></th>\n",
       "    </tr>\n",
       "  </thead>\n",
       "  <tbody>\n",
       "    <tr>\n",
       "      <th>Age_1</th>\n",
       "      <td>0.308848</td>\n",
       "      <td>0.691152</td>\n",
       "    </tr>\n",
       "    <tr>\n",
       "      <th>Age_2</th>\n",
       "      <td>0.260000</td>\n",
       "      <td>0.740000</td>\n",
       "    </tr>\n",
       "    <tr>\n",
       "      <th>Age_3</th>\n",
       "      <td>0.188912</td>\n",
       "      <td>0.811088</td>\n",
       "    </tr>\n",
       "    <tr>\n",
       "      <th>Age_4</th>\n",
       "      <td>0.145610</td>\n",
       "      <td>0.854390</td>\n",
       "    </tr>\n",
       "    <tr>\n",
       "      <th>Age_5</th>\n",
       "      <td>0.099265</td>\n",
       "      <td>0.900735</td>\n",
       "    </tr>\n",
       "    <tr>\n",
       "      <th>Age_6</th>\n",
       "      <td>0.122658</td>\n",
       "      <td>0.877342</td>\n",
       "    </tr>\n",
       "    <tr>\n",
       "      <th>Age_7</th>\n",
       "      <td>0.122249</td>\n",
       "      <td>0.877751</td>\n",
       "    </tr>\n",
       "    <tr>\n",
       "      <th>Age_8</th>\n",
       "      <td>0.090164</td>\n",
       "      <td>0.909836</td>\n",
       "    </tr>\n",
       "    <tr>\n",
       "      <th>Age_9</th>\n",
       "      <td>0.079523</td>\n",
       "      <td>0.920477</td>\n",
       "    </tr>\n",
       "    <tr>\n",
       "      <th>Age_10</th>\n",
       "      <td>0.053648</td>\n",
       "      <td>0.946352</td>\n",
       "    </tr>\n",
       "  </tbody>\n",
       "</table>\n",
       "</div>"
      ],
      "text/plain": [
       "FLAGBINARY       Bad      Good\n",
       "AgeBinned                     \n",
       "Age_1       0.308848  0.691152\n",
       "Age_2       0.260000  0.740000\n",
       "Age_3       0.188912  0.811088\n",
       "Age_4       0.145610  0.854390\n",
       "Age_5       0.099265  0.900735\n",
       "Age_6       0.122658  0.877342\n",
       "Age_7       0.122249  0.877751\n",
       "Age_8       0.090164  0.909836\n",
       "Age_9       0.079523  0.920477\n",
       "Age_10      0.053648  0.946352"
      ]
     },
     "execution_count": 10,
     "metadata": {},
     "output_type": "execute_result"
    }
   ],
   "source": [
    "# If you want the percentages given of Bad/ Good for each category:\n",
    "pd.crosstab(df['AgeBinned'],df['FLAGBINARY'],normalize='index')"
   ]
  },
  {
   "cell_type": "markdown",
   "id": "caf89158",
   "metadata": {},
   "source": [
    "Good rate increases steadily for the initial 5 groups (1-5) up to 35 years old. Then there is a slight dip afterwards the increasing trend continues. We are going to keep the groups 1 to 5 separate, combine groups 6 and 7 together, combine together groups 8 and 9, leave group 10 as it is (or you can try other coarse-classified methods). "
   ]
  },
  {
   "cell_type": "markdown",
   "id": "44bcaa69",
   "metadata": {},
   "source": [
    "b). Creating new coarse-classified variables and converting them into dummies."
   ]
  },
  {
   "cell_type": "code",
   "execution_count": 11,
   "id": "e0521802",
   "metadata": {},
   "outputs": [
    {
     "data": {
      "text/plain": [
       "AgeGrouped\n",
       "Age_6    996\n",
       "Age_7    991\n",
       "Age_1    599\n",
       "Age_5    544\n",
       "Age_3    487\n",
       "Age_4    467\n",
       "Age_8    466\n",
       "Age_2    450\n",
       "Name: count, dtype: int64"
      ]
     },
     "execution_count": 11,
     "metadata": {},
     "output_type": "execute_result"
    }
   ],
   "source": [
    "# create a new AgeGrouped variable\n",
    "df.loc[df['AgeBinned'] == 'Age_1','AgeGrouped'] = 'Age_1'\n",
    "df.loc[df['AgeBinned'] == 'Age_2','AgeGrouped'] = 'Age_2'\n",
    "df.loc[df['AgeBinned'] == 'Age_3','AgeGrouped'] = 'Age_3'\n",
    "df.loc[df['AgeBinned'] == 'Age_4','AgeGrouped'] = 'Age_4'\n",
    "df.loc[df['AgeBinned'] == 'Age_5','AgeGrouped'] = 'Age_5'\n",
    "df.loc[df['AgeBinned'] == 'Age_6','AgeGrouped'] = 'Age_6'\n",
    "df.loc[df['AgeBinned'] == 'Age_7','AgeGrouped'] = 'Age_6'\n",
    "df.loc[df['AgeBinned'] == 'Age_8','AgeGrouped'] = 'Age_7'\n",
    "df.loc[df['AgeBinned'] == 'Age_9','AgeGrouped'] = 'Age_7'\n",
    "df.loc[df['AgeBinned'] == 'Age_10','AgeGrouped'] = 'Age_8'\n",
    "df['AgeGrouped'].value_counts()"
   ]
  },
  {
   "cell_type": "code",
   "execution_count": 12,
   "id": "f13764a5",
   "metadata": {},
   "outputs": [
    {
     "data": {
      "text/html": [
       "<div>\n",
       "<style scoped>\n",
       "    .dataframe tbody tr th:only-of-type {\n",
       "        vertical-align: middle;\n",
       "    }\n",
       "\n",
       "    .dataframe tbody tr th {\n",
       "        vertical-align: top;\n",
       "    }\n",
       "\n",
       "    .dataframe thead th {\n",
       "        text-align: right;\n",
       "    }\n",
       "</style>\n",
       "<table border=\"1\" class=\"dataframe\">\n",
       "  <thead>\n",
       "    <tr style=\"text-align: right;\">\n",
       "      <th>FLAGBINARY</th>\n",
       "      <th>Bad</th>\n",
       "      <th>Good</th>\n",
       "      <th>Total</th>\n",
       "    </tr>\n",
       "    <tr>\n",
       "      <th>AgeGrouped</th>\n",
       "      <th></th>\n",
       "      <th></th>\n",
       "      <th></th>\n",
       "    </tr>\n",
       "  </thead>\n",
       "  <tbody>\n",
       "    <tr>\n",
       "      <th>Age_1</th>\n",
       "      <td>185</td>\n",
       "      <td>414</td>\n",
       "      <td>599</td>\n",
       "    </tr>\n",
       "    <tr>\n",
       "      <th>Age_2</th>\n",
       "      <td>117</td>\n",
       "      <td>333</td>\n",
       "      <td>450</td>\n",
       "    </tr>\n",
       "    <tr>\n",
       "      <th>Age_3</th>\n",
       "      <td>92</td>\n",
       "      <td>395</td>\n",
       "      <td>487</td>\n",
       "    </tr>\n",
       "    <tr>\n",
       "      <th>Age_4</th>\n",
       "      <td>68</td>\n",
       "      <td>399</td>\n",
       "      <td>467</td>\n",
       "    </tr>\n",
       "    <tr>\n",
       "      <th>Age_5</th>\n",
       "      <td>54</td>\n",
       "      <td>490</td>\n",
       "      <td>544</td>\n",
       "    </tr>\n",
       "    <tr>\n",
       "      <th>Age_6</th>\n",
       "      <td>122</td>\n",
       "      <td>874</td>\n",
       "      <td>996</td>\n",
       "    </tr>\n",
       "    <tr>\n",
       "      <th>Age_7</th>\n",
       "      <td>84</td>\n",
       "      <td>907</td>\n",
       "      <td>991</td>\n",
       "    </tr>\n",
       "    <tr>\n",
       "      <th>Age_8</th>\n",
       "      <td>25</td>\n",
       "      <td>441</td>\n",
       "      <td>466</td>\n",
       "    </tr>\n",
       "    <tr>\n",
       "      <th>Total</th>\n",
       "      <td>747</td>\n",
       "      <td>4253</td>\n",
       "      <td>5000</td>\n",
       "    </tr>\n",
       "  </tbody>\n",
       "</table>\n",
       "</div>"
      ],
      "text/plain": [
       "FLAGBINARY  Bad  Good  Total\n",
       "AgeGrouped                  \n",
       "Age_1       185   414    599\n",
       "Age_2       117   333    450\n",
       "Age_3        92   395    487\n",
       "Age_4        68   399    467\n",
       "Age_5        54   490    544\n",
       "Age_6       122   874    996\n",
       "Age_7        84   907    991\n",
       "Age_8        25   441    466\n",
       "Total       747  4253   5000"
      ]
     },
     "execution_count": 12,
     "metadata": {},
     "output_type": "execute_result"
    }
   ],
   "source": [
    "pd.crosstab(df['AgeGrouped'],df['FLAGBINARY'],margins=True,margins_name='Total')"
   ]
  },
  {
   "cell_type": "markdown",
   "id": "fa940332",
   "metadata": {},
   "source": [
    "We will create one dummy variable for each bin from 2 to 8. Note that we will not create it for bin 1, making it the reference one."
   ]
  },
  {
   "cell_type": "code",
   "execution_count": 13,
   "id": "1927ab87",
   "metadata": {
    "scrolled": false
   },
   "outputs": [
    {
     "data": {
      "text/html": [
       "<div>\n",
       "<style scoped>\n",
       "    .dataframe tbody tr th:only-of-type {\n",
       "        vertical-align: middle;\n",
       "    }\n",
       "\n",
       "    .dataframe tbody tr th {\n",
       "        vertical-align: top;\n",
       "    }\n",
       "\n",
       "    .dataframe thead th {\n",
       "        text-align: right;\n",
       "    }\n",
       "</style>\n",
       "<table border=\"1\" class=\"dataframe\">\n",
       "  <thead>\n",
       "    <tr style=\"text-align: right;\">\n",
       "      <th></th>\n",
       "      <th>ID</th>\n",
       "      <th>FLAGBINARY</th>\n",
       "      <th>PHONE</th>\n",
       "      <th>MSTAT</th>\n",
       "      <th>RSTAT</th>\n",
       "      <th>KIDS</th>\n",
       "      <th>CARDI</th>\n",
       "      <th>CARDH2</th>\n",
       "      <th>AGE</th>\n",
       "      <th>TAD</th>\n",
       "      <th>...</th>\n",
       "      <th>MSwoe</th>\n",
       "      <th>AgeBinned</th>\n",
       "      <th>AgeGrouped_Age_1</th>\n",
       "      <th>AgeGrouped_Age_2</th>\n",
       "      <th>AgeGrouped_Age_3</th>\n",
       "      <th>AgeGrouped_Age_4</th>\n",
       "      <th>AgeGrouped_Age_5</th>\n",
       "      <th>AgeGrouped_Age_6</th>\n",
       "      <th>AgeGrouped_Age_7</th>\n",
       "      <th>AgeGrouped_Age_8</th>\n",
       "    </tr>\n",
       "  </thead>\n",
       "  <tbody>\n",
       "    <tr>\n",
       "      <th>0</th>\n",
       "      <td>1.0</td>\n",
       "      <td>Bad</td>\n",
       "      <td>Home number given</td>\n",
       "      <td>Single</td>\n",
       "      <td>Renting flat</td>\n",
       "      <td>0.0</td>\n",
       "      <td>No card insurance taken</td>\n",
       "      <td>No</td>\n",
       "      <td>65.0</td>\n",
       "      <td>101.0</td>\n",
       "      <td>...</td>\n",
       "      <td>-0.50</td>\n",
       "      <td>Age_10</td>\n",
       "      <td>False</td>\n",
       "      <td>False</td>\n",
       "      <td>False</td>\n",
       "      <td>False</td>\n",
       "      <td>False</td>\n",
       "      <td>False</td>\n",
       "      <td>False</td>\n",
       "      <td>True</td>\n",
       "    </tr>\n",
       "    <tr>\n",
       "      <th>1</th>\n",
       "      <td>2.0</td>\n",
       "      <td>Good</td>\n",
       "      <td>Home number given</td>\n",
       "      <td>Single</td>\n",
       "      <td>Renting flat</td>\n",
       "      <td>0.0</td>\n",
       "      <td>No card insurance taken</td>\n",
       "      <td>No</td>\n",
       "      <td>22.0</td>\n",
       "      <td>26.0</td>\n",
       "      <td>...</td>\n",
       "      <td>-0.50</td>\n",
       "      <td>Age_1</td>\n",
       "      <td>True</td>\n",
       "      <td>False</td>\n",
       "      <td>False</td>\n",
       "      <td>False</td>\n",
       "      <td>False</td>\n",
       "      <td>False</td>\n",
       "      <td>False</td>\n",
       "      <td>False</td>\n",
       "    </tr>\n",
       "    <tr>\n",
       "      <th>2</th>\n",
       "      <td>3.0</td>\n",
       "      <td>Bad</td>\n",
       "      <td>No phone number given</td>\n",
       "      <td>Married</td>\n",
       "      <td>Renting house</td>\n",
       "      <td>3.0</td>\n",
       "      <td>No card insurance taken</td>\n",
       "      <td>No</td>\n",
       "      <td>41.0</td>\n",
       "      <td>19.0</td>\n",
       "      <td>...</td>\n",
       "      <td>0.47</td>\n",
       "      <td>Age_7</td>\n",
       "      <td>False</td>\n",
       "      <td>False</td>\n",
       "      <td>False</td>\n",
       "      <td>False</td>\n",
       "      <td>False</td>\n",
       "      <td>True</td>\n",
       "      <td>False</td>\n",
       "      <td>False</td>\n",
       "    </tr>\n",
       "    <tr>\n",
       "      <th>3</th>\n",
       "      <td>5.0</td>\n",
       "      <td>Bad</td>\n",
       "      <td>No phone number given</td>\n",
       "      <td>Widowed</td>\n",
       "      <td>Home owner</td>\n",
       "      <td>6.0</td>\n",
       "      <td>No card insurance taken</td>\n",
       "      <td>No</td>\n",
       "      <td>40.0</td>\n",
       "      <td>237.0</td>\n",
       "      <td>...</td>\n",
       "      <td>0.47</td>\n",
       "      <td>Age_7</td>\n",
       "      <td>False</td>\n",
       "      <td>False</td>\n",
       "      <td>False</td>\n",
       "      <td>False</td>\n",
       "      <td>False</td>\n",
       "      <td>True</td>\n",
       "      <td>False</td>\n",
       "      <td>False</td>\n",
       "    </tr>\n",
       "    <tr>\n",
       "      <th>4</th>\n",
       "      <td>6.0</td>\n",
       "      <td>Good</td>\n",
       "      <td>Home number given</td>\n",
       "      <td>Married</td>\n",
       "      <td>Renting flat</td>\n",
       "      <td>0.0</td>\n",
       "      <td>No card insurance taken</td>\n",
       "      <td>No</td>\n",
       "      <td>70.0</td>\n",
       "      <td>5.0</td>\n",
       "      <td>...</td>\n",
       "      <td>0.47</td>\n",
       "      <td>Age_10</td>\n",
       "      <td>False</td>\n",
       "      <td>False</td>\n",
       "      <td>False</td>\n",
       "      <td>False</td>\n",
       "      <td>False</td>\n",
       "      <td>False</td>\n",
       "      <td>False</td>\n",
       "      <td>True</td>\n",
       "    </tr>\n",
       "  </tbody>\n",
       "</table>\n",
       "<p>5 rows × 27 columns</p>\n",
       "</div>"
      ],
      "text/plain": [
       "    ID FLAGBINARY                  PHONE    MSTAT          RSTAT  KIDS  \\\n",
       "0  1.0        Bad      Home number given   Single   Renting flat   0.0   \n",
       "1  2.0       Good      Home number given   Single   Renting flat   0.0   \n",
       "2  3.0        Bad  No phone number given  Married  Renting house   3.0   \n",
       "3  5.0        Bad  No phone number given  Widowed     Home owner   6.0   \n",
       "4  6.0       Good      Home number given  Married   Renting flat   0.0   \n",
       "\n",
       "                     CARDI CARDH2   AGE    TAD  ...  MSwoe  AgeBinned  \\\n",
       "0  No card insurance taken     No  65.0  101.0  ...  -0.50     Age_10   \n",
       "1  No card insurance taken     No  22.0   26.0  ...  -0.50      Age_1   \n",
       "2  No card insurance taken     No  41.0   19.0  ...   0.47      Age_7   \n",
       "3  No card insurance taken     No  40.0  237.0  ...   0.47      Age_7   \n",
       "4  No card insurance taken     No  70.0    5.0  ...   0.47     Age_10   \n",
       "\n",
       "   AgeGrouped_Age_1  AgeGrouped_Age_2  AgeGrouped_Age_3  AgeGrouped_Age_4  \\\n",
       "0             False             False             False             False   \n",
       "1              True             False             False             False   \n",
       "2             False             False             False             False   \n",
       "3             False             False             False             False   \n",
       "4             False             False             False             False   \n",
       "\n",
       "   AgeGrouped_Age_5  AgeGrouped_Age_6 AgeGrouped_Age_7  AgeGrouped_Age_8  \n",
       "0             False             False            False              True  \n",
       "1             False             False            False             False  \n",
       "2             False              True            False             False  \n",
       "3             False              True            False             False  \n",
       "4             False             False            False              True  \n",
       "\n",
       "[5 rows x 27 columns]"
      ]
     },
     "execution_count": 13,
     "metadata": {},
     "output_type": "execute_result"
    }
   ],
   "source": [
    "# Convert the AgeGrouped variable to dummy variables\n",
    "df_dummies = pd.get_dummies(df, columns=['AgeGrouped'])\n",
    "df_dummies.head()"
   ]
  },
  {
   "cell_type": "code",
   "execution_count": 14,
   "id": "e7e56492",
   "metadata": {},
   "outputs": [
    {
     "name": "stdout",
     "output_type": "stream",
     "text": [
      "<class 'pandas.core.frame.DataFrame'>\n",
      "RangeIndex: 5000 entries, 0 to 4999\n",
      "Data columns (total 26 columns):\n",
      " #   Column            Non-Null Count  Dtype   \n",
      "---  ------            --------------  -----   \n",
      " 0   ID                5000 non-null   float64 \n",
      " 1   FLAGBINARY        5000 non-null   object  \n",
      " 2   PHONE             5000 non-null   object  \n",
      " 3   MSTAT             5000 non-null   object  \n",
      " 4   RSTAT             5000 non-null   object  \n",
      " 5   KIDS              5000 non-null   float64 \n",
      " 6   CARDI             5000 non-null   object  \n",
      " 7   CARDH2            5000 non-null   object  \n",
      " 8   AGE               5000 non-null   float64 \n",
      " 9   TAD               5000 non-null   float64 \n",
      " 10  BUREAU            5000 non-null   float64 \n",
      " 11  SEARCH            5000 non-null   float64 \n",
      " 12  phone1            5000 non-null   float64 \n",
      " 13  PhoneWoe          5000 non-null   float64 \n",
      " 14  MSgrouped         5000 non-null   float64 \n",
      " 15  Married1          5000 non-null   float64 \n",
      " 16  Married2          5000 non-null   float64 \n",
      " 17  MSwoe             5000 non-null   float64 \n",
      " 18  AgeBinned         5000 non-null   category\n",
      " 19  AgeGrouped_Age_2  5000 non-null   bool    \n",
      " 20  AgeGrouped_Age_3  5000 non-null   bool    \n",
      " 21  AgeGrouped_Age_4  5000 non-null   bool    \n",
      " 22  AgeGrouped_Age_5  5000 non-null   bool    \n",
      " 23  AgeGrouped_Age_6  5000 non-null   bool    \n",
      " 24  AgeGrouped_Age_7  5000 non-null   bool    \n",
      " 25  AgeGrouped_Age_8  5000 non-null   bool    \n",
      "dtypes: bool(7), category(1), float64(12), object(6)\n",
      "memory usage: 742.7+ KB\n"
     ]
    }
   ],
   "source": [
    "# delete the first bin dummy variable since its information can be represented by other bin variables\n",
    "df_dummies.drop(['AgeGrouped_Age_1'], axis=1, inplace=True)\n",
    "df_dummies.info()\n",
    "# you can also try to create dummy variables for the AgeGrouped variable after class"
   ]
  }
 ],
 "metadata": {
  "kernelspec": {
   "display_name": "TAatUEBS",
   "language": "python",
   "name": "python3"
  },
  "language_info": {
   "codemirror_mode": {
    "name": "ipython",
    "version": 3
   },
   "file_extension": ".py",
   "mimetype": "text/x-python",
   "name": "python",
   "nbconvert_exporter": "python",
   "pygments_lexer": "ipython3",
   "version": "3.10.16"
  }
 },
 "nbformat": 4,
 "nbformat_minor": 5
}
