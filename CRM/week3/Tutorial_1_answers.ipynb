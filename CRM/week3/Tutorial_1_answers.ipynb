{
 "cells": [
  {
   "cell_type": "markdown",
   "metadata": {},
   "source": [
    "#### Tutor name: Heqing (Eric) SHI\n",
    "#### Contact email: Heqing.Shi@ed.ac.uk\n",
    "#### Web: [personal page](https://shiheqing.github.io)\n",
    "*Materials credit to @Zongxiao WU, the previous tutor.*"
   ]
  },
  {
   "cell_type": "code",
   "execution_count": 1,
   "metadata": {},
   "outputs": [],
   "source": [
    "# import packages that we will use in this session\n",
    "import pandas as pd\n",
    "import numpy as np\n",
    "from scipy import stats\n",
    "import warnings\n",
    "warnings.filterwarnings(\"ignore\")\n",
    "import matplotlib.pyplot as plt \n",
    "\n",
    "%matplotlib inline\n",
    "%load_ext autoreload\n",
    "%autoreload 2"
   ]
  },
  {
   "cell_type": "code",
   "execution_count": 2,
   "metadata": {},
   "outputs": [],
   "source": [
    "df = pd.read_csv('Development_sample.csv')"
   ]
  },
  {
   "cell_type": "code",
   "execution_count": 3,
   "metadata": {},
   "outputs": [
    {
     "data": {
      "text/html": [
       "<div>\n",
       "<style scoped>\n",
       "    .dataframe tbody tr th:only-of-type {\n",
       "        vertical-align: middle;\n",
       "    }\n",
       "\n",
       "    .dataframe tbody tr th {\n",
       "        vertical-align: top;\n",
       "    }\n",
       "\n",
       "    .dataframe thead th {\n",
       "        text-align: right;\n",
       "    }\n",
       "</style>\n",
       "<table border=\"1\" class=\"dataframe\">\n",
       "  <thead>\n",
       "    <tr style=\"text-align: right;\">\n",
       "      <th></th>\n",
       "      <th>Unnamed: 0</th>\n",
       "      <th>ID</th>\n",
       "      <th>FLAGBINARY</th>\n",
       "      <th>PHONE</th>\n",
       "      <th>MSTAT</th>\n",
       "      <th>RSTAT</th>\n",
       "      <th>KIDS</th>\n",
       "      <th>CARDI</th>\n",
       "      <th>CARDH2</th>\n",
       "      <th>AGE</th>\n",
       "      <th>...</th>\n",
       "      <th>AgeGrouped</th>\n",
       "      <th>Age_d_1</th>\n",
       "      <th>Age_d_2</th>\n",
       "      <th>Age_d_3</th>\n",
       "      <th>Age_d_4</th>\n",
       "      <th>Age_d_5</th>\n",
       "      <th>Age_d_6</th>\n",
       "      <th>Age_d_7</th>\n",
       "      <th>Age_d_8</th>\n",
       "      <th>AgeWoe</th>\n",
       "    </tr>\n",
       "  </thead>\n",
       "  <tbody>\n",
       "    <tr>\n",
       "      <th>0</th>\n",
       "      <td>0</td>\n",
       "      <td>1.0</td>\n",
       "      <td>Bad</td>\n",
       "      <td>Home number given</td>\n",
       "      <td>Single</td>\n",
       "      <td>Renting flat</td>\n",
       "      <td>0.0</td>\n",
       "      <td>No card insurance taken</td>\n",
       "      <td>No</td>\n",
       "      <td>65.0</td>\n",
       "      <td>...</td>\n",
       "      <td>10.0</td>\n",
       "      <td>0.0</td>\n",
       "      <td>0.0</td>\n",
       "      <td>0.0</td>\n",
       "      <td>0.0</td>\n",
       "      <td>0.0</td>\n",
       "      <td>0.0</td>\n",
       "      <td>0.0</td>\n",
       "      <td>1.0</td>\n",
       "      <td>1.13</td>\n",
       "    </tr>\n",
       "    <tr>\n",
       "      <th>1</th>\n",
       "      <td>1</td>\n",
       "      <td>2.0</td>\n",
       "      <td>Good</td>\n",
       "      <td>Home number given</td>\n",
       "      <td>Single</td>\n",
       "      <td>Renting flat</td>\n",
       "      <td>0.0</td>\n",
       "      <td>No card insurance taken</td>\n",
       "      <td>No</td>\n",
       "      <td>22.0</td>\n",
       "      <td>...</td>\n",
       "      <td>1.0</td>\n",
       "      <td>1.0</td>\n",
       "      <td>0.0</td>\n",
       "      <td>0.0</td>\n",
       "      <td>0.0</td>\n",
       "      <td>0.0</td>\n",
       "      <td>0.0</td>\n",
       "      <td>0.0</td>\n",
       "      <td>0.0</td>\n",
       "      <td>-0.93</td>\n",
       "    </tr>\n",
       "    <tr>\n",
       "      <th>2</th>\n",
       "      <td>2</td>\n",
       "      <td>3.0</td>\n",
       "      <td>Bad</td>\n",
       "      <td>No phone number given</td>\n",
       "      <td>Married</td>\n",
       "      <td>Renting house</td>\n",
       "      <td>3.0</td>\n",
       "      <td>No card insurance taken</td>\n",
       "      <td>No</td>\n",
       "      <td>41.0</td>\n",
       "      <td>...</td>\n",
       "      <td>6.0</td>\n",
       "      <td>0.0</td>\n",
       "      <td>0.0</td>\n",
       "      <td>0.0</td>\n",
       "      <td>0.0</td>\n",
       "      <td>0.0</td>\n",
       "      <td>1.0</td>\n",
       "      <td>0.0</td>\n",
       "      <td>0.0</td>\n",
       "      <td>0.23</td>\n",
       "    </tr>\n",
       "    <tr>\n",
       "      <th>3</th>\n",
       "      <td>3</td>\n",
       "      <td>5.0</td>\n",
       "      <td>Bad</td>\n",
       "      <td>No phone number given</td>\n",
       "      <td>Widowed</td>\n",
       "      <td>Home owner</td>\n",
       "      <td>6.0</td>\n",
       "      <td>No card insurance taken</td>\n",
       "      <td>No</td>\n",
       "      <td>40.0</td>\n",
       "      <td>...</td>\n",
       "      <td>6.0</td>\n",
       "      <td>0.0</td>\n",
       "      <td>0.0</td>\n",
       "      <td>0.0</td>\n",
       "      <td>0.0</td>\n",
       "      <td>0.0</td>\n",
       "      <td>1.0</td>\n",
       "      <td>0.0</td>\n",
       "      <td>0.0</td>\n",
       "      <td>0.23</td>\n",
       "    </tr>\n",
       "    <tr>\n",
       "      <th>4</th>\n",
       "      <td>4</td>\n",
       "      <td>6.0</td>\n",
       "      <td>Good</td>\n",
       "      <td>Home number given</td>\n",
       "      <td>Married</td>\n",
       "      <td>Renting flat</td>\n",
       "      <td>0.0</td>\n",
       "      <td>No card insurance taken</td>\n",
       "      <td>No</td>\n",
       "      <td>70.0</td>\n",
       "      <td>...</td>\n",
       "      <td>10.0</td>\n",
       "      <td>0.0</td>\n",
       "      <td>0.0</td>\n",
       "      <td>0.0</td>\n",
       "      <td>0.0</td>\n",
       "      <td>0.0</td>\n",
       "      <td>0.0</td>\n",
       "      <td>0.0</td>\n",
       "      <td>1.0</td>\n",
       "      <td>1.13</td>\n",
       "    </tr>\n",
       "  </tbody>\n",
       "</table>\n",
       "<p>5 rows × 30 columns</p>\n",
       "</div>"
      ],
      "text/plain": [
       "   Unnamed: 0   ID FLAGBINARY                  PHONE    MSTAT          RSTAT  \\\n",
       "0           0  1.0        Bad      Home number given   Single   Renting flat   \n",
       "1           1  2.0       Good      Home number given   Single   Renting flat   \n",
       "2           2  3.0        Bad  No phone number given  Married  Renting house   \n",
       "3           3  5.0        Bad  No phone number given  Widowed     Home owner   \n",
       "4           4  6.0       Good      Home number given  Married   Renting flat   \n",
       "\n",
       "   KIDS                    CARDI CARDH2   AGE  ...  AgeGrouped  Age_d_1  \\\n",
       "0   0.0  No card insurance taken     No  65.0  ...        10.0      0.0   \n",
       "1   0.0  No card insurance taken     No  22.0  ...         1.0      1.0   \n",
       "2   3.0  No card insurance taken     No  41.0  ...         6.0      0.0   \n",
       "3   6.0  No card insurance taken     No  40.0  ...         6.0      0.0   \n",
       "4   0.0  No card insurance taken     No  70.0  ...        10.0      0.0   \n",
       "\n",
       "   Age_d_2  Age_d_3  Age_d_4  Age_d_5  Age_d_6  Age_d_7  Age_d_8 AgeWoe  \n",
       "0      0.0      0.0      0.0      0.0      0.0      0.0      1.0   1.13  \n",
       "1      0.0      0.0      0.0      0.0      0.0      0.0      0.0  -0.93  \n",
       "2      0.0      0.0      0.0      0.0      1.0      0.0      0.0   0.23  \n",
       "3      0.0      0.0      0.0      0.0      1.0      0.0      0.0   0.23  \n",
       "4      0.0      0.0      0.0      0.0      0.0      0.0      1.0   1.13  \n",
       "\n",
       "[5 rows x 30 columns]"
      ]
     },
     "execution_count": 3,
     "metadata": {},
     "output_type": "execute_result"
    }
   ],
   "source": [
    "# have a look of the data\n",
    "df.head(5)"
   ]
  },
  {
   "cell_type": "code",
   "execution_count": 4,
   "metadata": {},
   "outputs": [
    {
     "name": "stdout",
     "output_type": "stream",
     "text": [
      "<class 'pandas.core.frame.DataFrame'>\n",
      "RangeIndex: 5000 entries, 0 to 4999\n",
      "Data columns (total 30 columns):\n",
      " #   Column      Non-Null Count  Dtype  \n",
      "---  ------      --------------  -----  \n",
      " 0   Unnamed: 0  5000 non-null   int64  \n",
      " 1   ID          5000 non-null   float64\n",
      " 2   FLAGBINARY  5000 non-null   object \n",
      " 3   PHONE       5000 non-null   object \n",
      " 4   MSTAT       5000 non-null   object \n",
      " 5   RSTAT       5000 non-null   object \n",
      " 6   KIDS        5000 non-null   float64\n",
      " 7   CARDI       5000 non-null   object \n",
      " 8   CARDH2      5000 non-null   object \n",
      " 9   AGE         5000 non-null   float64\n",
      " 10  TAD         5000 non-null   float64\n",
      " 11  BUREAU      5000 non-null   float64\n",
      " 12  SEARCH      5000 non-null   float64\n",
      " 13  phone1      5000 non-null   float64\n",
      " 14  PhoneWoe    5000 non-null   float64\n",
      " 15  MSgrouped   5000 non-null   float64\n",
      " 16  Married1    5000 non-null   float64\n",
      " 17  Married2    5000 non-null   float64\n",
      " 18  MSwoe       5000 non-null   float64\n",
      " 19  AgeBinned   5000 non-null   object \n",
      " 20  AgeGrouped  5000 non-null   float64\n",
      " 21  Age_d_1     5000 non-null   float64\n",
      " 22  Age_d_2     5000 non-null   float64\n",
      " 23  Age_d_3     5000 non-null   float64\n",
      " 24  Age_d_4     5000 non-null   float64\n",
      " 25  Age_d_5     5000 non-null   float64\n",
      " 26  Age_d_6     5000 non-null   float64\n",
      " 27  Age_d_7     5000 non-null   float64\n",
      " 28  Age_d_8     5000 non-null   float64\n",
      " 29  AgeWoe      5000 non-null   float64\n",
      "dtypes: float64(22), int64(1), object(7)\n",
      "memory usage: 1.1+ MB\n"
     ]
    }
   ],
   "source": [
    "# brief introduction of the variables\n",
    "df.info()"
   ]
  },
  {
   "cell_type": "markdown",
   "metadata": {},
   "source": [
    "### 1. Explore the data."
   ]
  },
  {
   "cell_type": "code",
   "execution_count": 5,
   "metadata": {},
   "outputs": [
    {
     "name": "stdout",
     "output_type": "stream",
     "text": [
      "<class 'pandas.core.frame.DataFrame'>\n",
      "RangeIndex: 5000 entries, 0 to 4999\n",
      "Data columns (total 12 columns):\n",
      " #   Column      Non-Null Count  Dtype  \n",
      "---  ------      --------------  -----  \n",
      " 0   ID          5000 non-null   float64\n",
      " 1   FLAGBINARY  5000 non-null   object \n",
      " 2   PHONE       5000 non-null   object \n",
      " 3   MSTAT       5000 non-null   object \n",
      " 4   RSTAT       5000 non-null   object \n",
      " 5   KIDS        5000 non-null   float64\n",
      " 6   CARDI       5000 non-null   object \n",
      " 7   CARDH2      5000 non-null   object \n",
      " 8   AGE         5000 non-null   float64\n",
      " 9   TAD         5000 non-null   float64\n",
      " 10  BUREAU      5000 non-null   float64\n",
      " 11  SEARCH      5000 non-null   float64\n",
      "dtypes: float64(6), object(6)\n",
      "memory usage: 468.9+ KB\n"
     ]
    }
   ],
   "source": [
    "# only include those variables that we need\n",
    "df = df[df.columns[1:13]]\n",
    "df.info()"
   ]
  },
  {
   "cell_type": "code",
   "execution_count": 6,
   "metadata": {},
   "outputs": [
    {
     "data": {
      "text/html": [
       "<div>\n",
       "<style scoped>\n",
       "    .dataframe tbody tr th:only-of-type {\n",
       "        vertical-align: middle;\n",
       "    }\n",
       "\n",
       "    .dataframe tbody tr th {\n",
       "        vertical-align: top;\n",
       "    }\n",
       "\n",
       "    .dataframe thead th {\n",
       "        text-align: right;\n",
       "    }\n",
       "</style>\n",
       "<table border=\"1\" class=\"dataframe\">\n",
       "  <thead>\n",
       "    <tr style=\"text-align: right;\">\n",
       "      <th></th>\n",
       "      <th>count</th>\n",
       "      <th>mean</th>\n",
       "      <th>std</th>\n",
       "      <th>min</th>\n",
       "      <th>25%</th>\n",
       "      <th>50%</th>\n",
       "      <th>75%</th>\n",
       "      <th>max</th>\n",
       "    </tr>\n",
       "  </thead>\n",
       "  <tbody>\n",
       "    <tr>\n",
       "      <th>ID</th>\n",
       "      <td>5000.00000</td>\n",
       "      <td>3469.45520</td>\n",
       "      <td>2020.40680</td>\n",
       "      <td>1.00000</td>\n",
       "      <td>1710.75000</td>\n",
       "      <td>3458.50000</td>\n",
       "      <td>5219.25000</td>\n",
       "      <td>7000.00000</td>\n",
       "    </tr>\n",
       "    <tr>\n",
       "      <th>KIDS</th>\n",
       "      <td>5000.00000</td>\n",
       "      <td>0.74620</td>\n",
       "      <td>1.03730</td>\n",
       "      <td>0.00000</td>\n",
       "      <td>0.00000</td>\n",
       "      <td>0.00000</td>\n",
       "      <td>1.00000</td>\n",
       "      <td>12.00000</td>\n",
       "    </tr>\n",
       "    <tr>\n",
       "      <th>AGE</th>\n",
       "      <td>5000.00000</td>\n",
       "      <td>36.44320</td>\n",
       "      <td>12.46515</td>\n",
       "      <td>18.00000</td>\n",
       "      <td>27.00000</td>\n",
       "      <td>34.00000</td>\n",
       "      <td>44.00000</td>\n",
       "      <td>71.00000</td>\n",
       "    </tr>\n",
       "    <tr>\n",
       "      <th>TAD</th>\n",
       "      <td>5000.00000</td>\n",
       "      <td>85.55500</td>\n",
       "      <td>101.68011</td>\n",
       "      <td>0.00000</td>\n",
       "      <td>16.00000</td>\n",
       "      <td>45.00000</td>\n",
       "      <td>120.00000</td>\n",
       "      <td>624.00000</td>\n",
       "    </tr>\n",
       "    <tr>\n",
       "      <th>BUREAU</th>\n",
       "      <td>5000.00000</td>\n",
       "      <td>0.02400</td>\n",
       "      <td>0.18393</td>\n",
       "      <td>0.00000</td>\n",
       "      <td>0.00000</td>\n",
       "      <td>0.00000</td>\n",
       "      <td>0.00000</td>\n",
       "      <td>4.00000</td>\n",
       "    </tr>\n",
       "    <tr>\n",
       "      <th>SEARCH</th>\n",
       "      <td>5000.00000</td>\n",
       "      <td>0.02220</td>\n",
       "      <td>0.17237</td>\n",
       "      <td>0.00000</td>\n",
       "      <td>0.00000</td>\n",
       "      <td>0.00000</td>\n",
       "      <td>0.00000</td>\n",
       "      <td>4.00000</td>\n",
       "    </tr>\n",
       "  </tbody>\n",
       "</table>\n",
       "</div>"
      ],
      "text/plain": [
       "             count        mean         std       min         25%         50%  \\\n",
       "ID      5000.00000  3469.45520  2020.40680   1.00000  1710.75000  3458.50000   \n",
       "KIDS    5000.00000     0.74620     1.03730   0.00000     0.00000     0.00000   \n",
       "AGE     5000.00000    36.44320    12.46515  18.00000    27.00000    34.00000   \n",
       "TAD     5000.00000    85.55500   101.68011   0.00000    16.00000    45.00000   \n",
       "BUREAU  5000.00000     0.02400     0.18393   0.00000     0.00000     0.00000   \n",
       "SEARCH  5000.00000     0.02220     0.17237   0.00000     0.00000     0.00000   \n",
       "\n",
       "               75%         max  \n",
       "ID      5219.25000  7000.00000  \n",
       "KIDS       1.00000    12.00000  \n",
       "AGE       44.00000    71.00000  \n",
       "TAD      120.00000   624.00000  \n",
       "BUREAU     0.00000     4.00000  \n",
       "SEARCH     0.00000     4.00000  "
      ]
     },
     "metadata": {},
     "output_type": "display_data"
    }
   ],
   "source": [
    "# The numerical attributes are shown below.\n",
    "with pd.option_context('display.max_rows',None):\n",
    "    display(df.describe().transpose().apply(lambda s: s.apply('{0:.5f}'.format)))"
   ]
  },
  {
   "cell_type": "code",
   "execution_count": 7,
   "metadata": {},
   "outputs": [
    {
     "data": {
      "text/html": [
       "<div>\n",
       "<style scoped>\n",
       "    .dataframe tbody tr th:only-of-type {\n",
       "        vertical-align: middle;\n",
       "    }\n",
       "\n",
       "    .dataframe tbody tr th {\n",
       "        vertical-align: top;\n",
       "    }\n",
       "\n",
       "    .dataframe thead th {\n",
       "        text-align: right;\n",
       "    }\n",
       "</style>\n",
       "<table border=\"1\" class=\"dataframe\">\n",
       "  <thead>\n",
       "    <tr style=\"text-align: right;\">\n",
       "      <th></th>\n",
       "      <th>count</th>\n",
       "      <th>unique</th>\n",
       "      <th>top</th>\n",
       "      <th>freq</th>\n",
       "    </tr>\n",
       "  </thead>\n",
       "  <tbody>\n",
       "    <tr>\n",
       "      <th>FLAGBINARY</th>\n",
       "      <td>5000</td>\n",
       "      <td>2</td>\n",
       "      <td>Good</td>\n",
       "      <td>4253</td>\n",
       "    </tr>\n",
       "    <tr>\n",
       "      <th>PHONE</th>\n",
       "      <td>5000</td>\n",
       "      <td>3</td>\n",
       "      <td>Home number given</td>\n",
       "      <td>4633</td>\n",
       "    </tr>\n",
       "    <tr>\n",
       "      <th>MSTAT</th>\n",
       "      <td>5000</td>\n",
       "      <td>5</td>\n",
       "      <td>Married</td>\n",
       "      <td>2537</td>\n",
       "    </tr>\n",
       "    <tr>\n",
       "      <th>RSTAT</th>\n",
       "      <td>5000</td>\n",
       "      <td>6</td>\n",
       "      <td>Renting flat</td>\n",
       "      <td>3184</td>\n",
       "    </tr>\n",
       "    <tr>\n",
       "      <th>CARDI</th>\n",
       "      <td>5000</td>\n",
       "      <td>2</td>\n",
       "      <td>No card insurance taken</td>\n",
       "      <td>4448</td>\n",
       "    </tr>\n",
       "    <tr>\n",
       "      <th>CARDH2</th>\n",
       "      <td>5000</td>\n",
       "      <td>2</td>\n",
       "      <td>No</td>\n",
       "      <td>4888</td>\n",
       "    </tr>\n",
       "  </tbody>\n",
       "</table>\n",
       "</div>"
      ],
      "text/plain": [
       "           count unique                      top  freq\n",
       "FLAGBINARY  5000      2                     Good  4253\n",
       "PHONE       5000      3        Home number given  4633\n",
       "MSTAT       5000      5                  Married  2537\n",
       "RSTAT       5000      6             Renting flat  3184\n",
       "CARDI       5000      2  No card insurance taken  4448\n",
       "CARDH2      5000      2                       No  4888"
      ]
     },
     "metadata": {},
     "output_type": "display_data"
    }
   ],
   "source": [
    "# Try this for categorical variables\n",
    "with pd.option_context('display.max_rows',None):\n",
    "    display(df.describe(include=object).transpose())"
   ]
  },
  {
   "cell_type": "markdown",
   "metadata": {},
   "source": [
    "### 2.\tExplore categorical characteristics (e.g., PHONE)."
   ]
  },
  {
   "cell_type": "code",
   "execution_count": 8,
   "metadata": {},
   "outputs": [
    {
     "data": {
      "text/plain": [
       "PHONE\n",
       "Home number given        4633\n",
       "No phone number given     351\n",
       "'Other number given        16\n",
       "Name: count, dtype: int64"
      ]
     },
     "execution_count": 8,
     "metadata": {},
     "output_type": "execute_result"
    }
   ],
   "source": [
    "# Frequency table\n",
    "df['PHONE'].value_counts()"
   ]
  },
  {
   "cell_type": "code",
   "execution_count": 9,
   "metadata": {},
   "outputs": [
    {
     "data": {
      "image/png": "[encoded data removed]",
      "text/plain": [
       "<Figure size 500x300 with 1 Axes>"
      ]
     },
     "metadata": {},
     "output_type": "display_data"
    }
   ],
   "source": [
    "# Bar chart\n",
    "plt.figure(figsize=(5,3))\n",
    "df['PHONE'].value_counts().plot.bar()\n",
    "plt.show()"
   ]
  },
  {
   "cell_type": "markdown",
   "metadata": {},
   "source": [
    "### 3.\tAssociation with Performance Flag (e.g., PHONE)."
   ]
  },
  {
   "cell_type": "markdown",
   "metadata": {},
   "source": [
    "a). Obtain a cross-table between variable PHONE and the performance flag FLAGBINARY."
   ]
  },
  {
   "cell_type": "code",
   "execution_count": 10,
   "metadata": {},
   "outputs": [
    {
     "data": {
      "text/html": [
       "<div>\n",
       "<style scoped>\n",
       "    .dataframe tbody tr th:only-of-type {\n",
       "        vertical-align: middle;\n",
       "    }\n",
       "\n",
       "    .dataframe tbody tr th {\n",
       "        vertical-align: top;\n",
       "    }\n",
       "\n",
       "    .dataframe thead th {\n",
       "        text-align: right;\n",
       "    }\n",
       "</style>\n",
       "<table border=\"1\" class=\"dataframe\">\n",
       "  <thead>\n",
       "    <tr style=\"text-align: right;\">\n",
       "      <th>FLAGBINARY</th>\n",
       "      <th>Bad</th>\n",
       "      <th>Good</th>\n",
       "      <th>Total</th>\n",
       "    </tr>\n",
       "    <tr>\n",
       "      <th>PHONE</th>\n",
       "      <th></th>\n",
       "      <th></th>\n",
       "      <th></th>\n",
       "    </tr>\n",
       "  </thead>\n",
       "  <tbody>\n",
       "    <tr>\n",
       "      <th>'Other number given</th>\n",
       "      <td>2</td>\n",
       "      <td>14</td>\n",
       "      <td>16</td>\n",
       "    </tr>\n",
       "    <tr>\n",
       "      <th>Home number given</th>\n",
       "      <td>645</td>\n",
       "      <td>3988</td>\n",
       "      <td>4633</td>\n",
       "    </tr>\n",
       "    <tr>\n",
       "      <th>No phone number given</th>\n",
       "      <td>100</td>\n",
       "      <td>251</td>\n",
       "      <td>351</td>\n",
       "    </tr>\n",
       "    <tr>\n",
       "      <th>Total</th>\n",
       "      <td>747</td>\n",
       "      <td>4253</td>\n",
       "      <td>5000</td>\n",
       "    </tr>\n",
       "  </tbody>\n",
       "</table>\n",
       "</div>"
      ],
      "text/plain": [
       "FLAGBINARY             Bad  Good  Total\n",
       "PHONE                                  \n",
       "'Other number given      2    14     16\n",
       "Home number given      645  3988   4633\n",
       "No phone number given  100   251    351\n",
       "Total                  747  4253   5000"
      ]
     },
     "execution_count": 10,
     "metadata": {},
     "output_type": "execute_result"
    }
   ],
   "source": [
    "cross1 = pd.crosstab(df['PHONE'],df['FLAGBINARY'], margins=True,margins_name='Total')\n",
    "cross1"
   ]
  },
  {
   "cell_type": "code",
   "execution_count": 11,
   "metadata": {},
   "outputs": [
    {
     "data": {
      "text/html": [
       "<div>\n",
       "<style scoped>\n",
       "    .dataframe tbody tr th:only-of-type {\n",
       "        vertical-align: middle;\n",
       "    }\n",
       "\n",
       "    .dataframe tbody tr th {\n",
       "        vertical-align: top;\n",
       "    }\n",
       "\n",
       "    .dataframe thead th {\n",
       "        text-align: right;\n",
       "    }\n",
       "</style>\n",
       "<table border=\"1\" class=\"dataframe\">\n",
       "  <thead>\n",
       "    <tr style=\"text-align: right;\">\n",
       "      <th>FLAGBINARY</th>\n",
       "      <th>Bad</th>\n",
       "      <th>Good</th>\n",
       "    </tr>\n",
       "    <tr>\n",
       "      <th>PHONE</th>\n",
       "      <th></th>\n",
       "      <th></th>\n",
       "    </tr>\n",
       "  </thead>\n",
       "  <tbody>\n",
       "    <tr>\n",
       "      <th>'Other number given</th>\n",
       "      <td>0.125000</td>\n",
       "      <td>0.875000</td>\n",
       "    </tr>\n",
       "    <tr>\n",
       "      <th>Home number given</th>\n",
       "      <td>0.139219</td>\n",
       "      <td>0.860781</td>\n",
       "    </tr>\n",
       "    <tr>\n",
       "      <th>No phone number given</th>\n",
       "      <td>0.284900</td>\n",
       "      <td>0.715100</td>\n",
       "    </tr>\n",
       "  </tbody>\n",
       "</table>\n",
       "</div>"
      ],
      "text/plain": [
       "FLAGBINARY                  Bad      Good\n",
       "PHONE                                    \n",
       "'Other number given    0.125000  0.875000\n",
       "Home number given      0.139219  0.860781\n",
       "No phone number given  0.284900  0.715100"
      ]
     },
     "execution_count": 11,
     "metadata": {},
     "output_type": "execute_result"
    }
   ],
   "source": [
    "# If you want the percentages given of Bad/ Good for each category:\n",
    "cross1_proportion=pd.crosstab(df['PHONE'],df['FLAGBINARY'],normalize='index')\n",
    "cross1_proportion"
   ]
  },
  {
   "cell_type": "markdown",
   "metadata": {},
   "source": [
    "Those that give their home numbers have lower credit risks as compared to those that do not give any phone numbers. There is a very small category ‘Other number given’ which should be grouped with any of the bigger categories. Although it has the highest good rate, the number is so small that it would be unwise to rely on these estimates. "
   ]
  },
  {
   "cell_type": "markdown",
   "metadata": {},
   "source": [
    "b). Obtain the measures of association between the variables. Interpret the Chi-square statistic."
   ]
  },
  {
   "cell_type": "code",
   "execution_count": 12,
   "metadata": {},
   "outputs": [
    {
     "data": {
      "text/html": [
       "<div>\n",
       "<style scoped>\n",
       "    .dataframe tbody tr th:only-of-type {\n",
       "        vertical-align: middle;\n",
       "    }\n",
       "\n",
       "    .dataframe tbody tr th {\n",
       "        vertical-align: top;\n",
       "    }\n",
       "\n",
       "    .dataframe thead th {\n",
       "        text-align: right;\n",
       "    }\n",
       "</style>\n",
       "<table border=\"1\" class=\"dataframe\">\n",
       "  <thead>\n",
       "    <tr style=\"text-align: right;\">\n",
       "      <th>FLAGBINARY</th>\n",
       "      <th>Bad</th>\n",
       "      <th>Good</th>\n",
       "    </tr>\n",
       "    <tr>\n",
       "      <th>PHONE</th>\n",
       "      <th></th>\n",
       "      <th></th>\n",
       "    </tr>\n",
       "  </thead>\n",
       "  <tbody>\n",
       "    <tr>\n",
       "      <th>'Other number given</th>\n",
       "      <td>2</td>\n",
       "      <td>14</td>\n",
       "    </tr>\n",
       "    <tr>\n",
       "      <th>Home number given</th>\n",
       "      <td>645</td>\n",
       "      <td>3988</td>\n",
       "    </tr>\n",
       "    <tr>\n",
       "      <th>No phone number given</th>\n",
       "      <td>100</td>\n",
       "      <td>251</td>\n",
       "    </tr>\n",
       "  </tbody>\n",
       "</table>\n",
       "</div>"
      ],
      "text/plain": [
       "FLAGBINARY             Bad  Good\n",
       "PHONE                           \n",
       "'Other number given      2    14\n",
       "Home number given      645  3988\n",
       "No phone number given  100   251"
      ]
     },
     "execution_count": 12,
     "metadata": {},
     "output_type": "execute_result"
    }
   ],
   "source": [
    "cross2 = pd.crosstab(df['PHONE'],df['FLAGBINARY'])\n",
    "cross2"
   ]
  },
  {
   "cell_type": "code",
   "execution_count": 13,
   "metadata": {
    "scrolled": true
   },
   "outputs": [
    {
     "data": {
      "text/plain": [
       "Chi2ContingencyResult(statistic=np.float64(54.566230918555135), pvalue=np.float64(1.416098643949103e-12), dof=2, expected_freq=array([[2.3904000e+00, 1.3609600e+01],\n",
       "       [6.9217020e+02, 3.9408298e+03],\n",
       "       [5.2439400e+01, 2.9856060e+02]]))"
      ]
     },
     "execution_count": 13,
     "metadata": {},
     "output_type": "execute_result"
    }
   ],
   "source": [
    "stats.chi2_contingency(cross2)\n",
    "# Chi-square statistic\n",
    "# P value\n",
    "# Expected values for each variable"
   ]
  },
  {
   "cell_type": "markdown",
   "metadata": {},
   "source": [
    "This table contains x2 statistics that can be used when deciding between different groupings. Remember that Chi-Square Test, is used to examine the association between categorical variables. The null hypothesis 𝐻0: not association; 𝐻𝑎: association. "
   ]
  },
  {
   "cell_type": "markdown",
   "metadata": {},
   "source": [
    "<img style=\"float: left;\" src=\"Chi-Square.png\" width=550>"
   ]
  },
  {
   "cell_type": "markdown",
   "metadata": {},
   "source": [
    "### 4.\tCreating new coarse-classified variables (e.g., PHONE)."
   ]
  },
  {
   "cell_type": "markdown",
   "metadata": {},
   "source": [
    "a). If we decide to merge categories ‘no number given” and ‘other number given’, we need to create a new variable, the coarse-classified variable ‘Phone1’."
   ]
  },
  {
   "cell_type": "code",
   "execution_count": 14,
   "metadata": {},
   "outputs": [
    {
     "data": {
      "text/plain": [
       "Phone1\n",
       "1    4633\n",
       "0     367\n",
       "Name: count, dtype: int64"
      ]
     },
     "execution_count": 14,
     "metadata": {},
     "output_type": "execute_result"
    }
   ],
   "source": [
    "df['Phone1'] = df['PHONE']\n",
    "df.loc[df['PHONE'] == 'Home number given','Phone1'] = 1\n",
    "df.loc[df['PHONE'] != 'Home number given','Phone1'] = 0\n",
    "df['Phone1'].value_counts()"
   ]
  },
  {
   "cell_type": "markdown",
   "metadata": {},
   "source": [
    "b). Repeat cross-tabulation as described in section 3 for ‘Phone1’ and performance flag FLAGBINARY."
   ]
  },
  {
   "cell_type": "code",
   "execution_count": 15,
   "metadata": {},
   "outputs": [
    {
     "data": {
      "text/html": [
       "<div>\n",
       "<style scoped>\n",
       "    .dataframe tbody tr th:only-of-type {\n",
       "        vertical-align: middle;\n",
       "    }\n",
       "\n",
       "    .dataframe tbody tr th {\n",
       "        vertical-align: top;\n",
       "    }\n",
       "\n",
       "    .dataframe thead th {\n",
       "        text-align: right;\n",
       "    }\n",
       "</style>\n",
       "<table border=\"1\" class=\"dataframe\">\n",
       "  <thead>\n",
       "    <tr style=\"text-align: right;\">\n",
       "      <th>FLAGBINARY</th>\n",
       "      <th>Bad</th>\n",
       "      <th>Good</th>\n",
       "      <th>Total</th>\n",
       "    </tr>\n",
       "    <tr>\n",
       "      <th>Phone1</th>\n",
       "      <th></th>\n",
       "      <th></th>\n",
       "      <th></th>\n",
       "    </tr>\n",
       "  </thead>\n",
       "  <tbody>\n",
       "    <tr>\n",
       "      <th>0</th>\n",
       "      <td>102</td>\n",
       "      <td>265</td>\n",
       "      <td>367</td>\n",
       "    </tr>\n",
       "    <tr>\n",
       "      <th>1</th>\n",
       "      <td>645</td>\n",
       "      <td>3988</td>\n",
       "      <td>4633</td>\n",
       "    </tr>\n",
       "    <tr>\n",
       "      <th>Total</th>\n",
       "      <td>747</td>\n",
       "      <td>4253</td>\n",
       "      <td>5000</td>\n",
       "    </tr>\n",
       "  </tbody>\n",
       "</table>\n",
       "</div>"
      ],
      "text/plain": [
       "FLAGBINARY  Bad  Good  Total\n",
       "Phone1                      \n",
       "0           102   265    367\n",
       "1           645  3988   4633\n",
       "Total       747  4253   5000"
      ]
     },
     "execution_count": 15,
     "metadata": {},
     "output_type": "execute_result"
    }
   ],
   "source": [
    "pd.crosstab(df['Phone1'],df['FLAGBINARY'],margins=True, margins_name='Total')"
   ]
  },
  {
   "cell_type": "code",
   "execution_count": 16,
   "metadata": {},
   "outputs": [
    {
     "data": {
      "text/html": [
       "<div>\n",
       "<style scoped>\n",
       "    .dataframe tbody tr th:only-of-type {\n",
       "        vertical-align: middle;\n",
       "    }\n",
       "\n",
       "    .dataframe tbody tr th {\n",
       "        vertical-align: top;\n",
       "    }\n",
       "\n",
       "    .dataframe thead th {\n",
       "        text-align: right;\n",
       "    }\n",
       "</style>\n",
       "<table border=\"1\" class=\"dataframe\">\n",
       "  <thead>\n",
       "    <tr style=\"text-align: right;\">\n",
       "      <th>FLAGBINARY</th>\n",
       "      <th>Bad</th>\n",
       "      <th>Good</th>\n",
       "    </tr>\n",
       "    <tr>\n",
       "      <th>Phone1</th>\n",
       "      <th></th>\n",
       "      <th></th>\n",
       "    </tr>\n",
       "  </thead>\n",
       "  <tbody>\n",
       "    <tr>\n",
       "      <th>0</th>\n",
       "      <td>0.277929</td>\n",
       "      <td>0.722071</td>\n",
       "    </tr>\n",
       "    <tr>\n",
       "      <th>1</th>\n",
       "      <td>0.139219</td>\n",
       "      <td>0.860781</td>\n",
       "    </tr>\n",
       "  </tbody>\n",
       "</table>\n",
       "</div>"
      ],
      "text/plain": [
       "FLAGBINARY       Bad      Good\n",
       "Phone1                        \n",
       "0           0.277929  0.722071\n",
       "1           0.139219  0.860781"
      ]
     },
     "execution_count": 16,
     "metadata": {},
     "output_type": "execute_result"
    }
   ],
   "source": [
    "pd.crosstab(df['Phone1'],df['FLAGBINARY'],normalize='index')"
   ]
  },
  {
   "cell_type": "code",
   "execution_count": 17,
   "metadata": {},
   "outputs": [
    {
     "data": {
      "text/html": [
       "<div>\n",
       "<style scoped>\n",
       "    .dataframe tbody tr th:only-of-type {\n",
       "        vertical-align: middle;\n",
       "    }\n",
       "\n",
       "    .dataframe tbody tr th {\n",
       "        vertical-align: top;\n",
       "    }\n",
       "\n",
       "    .dataframe thead th {\n",
       "        text-align: right;\n",
       "    }\n",
       "</style>\n",
       "<table border=\"1\" class=\"dataframe\">\n",
       "  <thead>\n",
       "    <tr style=\"text-align: right;\">\n",
       "      <th>FLAGBINARY</th>\n",
       "      <th>Bad</th>\n",
       "      <th>Good</th>\n",
       "    </tr>\n",
       "    <tr>\n",
       "      <th>Phone1</th>\n",
       "      <th></th>\n",
       "      <th></th>\n",
       "    </tr>\n",
       "  </thead>\n",
       "  <tbody>\n",
       "    <tr>\n",
       "      <th>0</th>\n",
       "      <td>102</td>\n",
       "      <td>265</td>\n",
       "    </tr>\n",
       "    <tr>\n",
       "      <th>1</th>\n",
       "      <td>645</td>\n",
       "      <td>3988</td>\n",
       "    </tr>\n",
       "  </tbody>\n",
       "</table>\n",
       "</div>"
      ],
      "text/plain": [
       "FLAGBINARY  Bad  Good\n",
       "Phone1               \n",
       "0           102   265\n",
       "1           645  3988"
      ]
     },
     "execution_count": 17,
     "metadata": {},
     "output_type": "execute_result"
    }
   ],
   "source": [
    "cross_phone1 = pd.crosstab(df['Phone1'],df['FLAGBINARY'])\n",
    "cross_phone1"
   ]
  },
  {
   "cell_type": "code",
   "execution_count": 18,
   "metadata": {},
   "outputs": [
    {
     "data": {
      "text/plain": [
       "Chi2ContingencyResult(statistic=np.float64(50.4016771400769), pvalue=np.float64(1.2528710642996123e-12), dof=1, expected_freq=array([[  54.8298,  312.1702],\n",
       "       [ 692.1702, 3940.8298]]))"
      ]
     },
     "execution_count": 18,
     "metadata": {},
     "output_type": "execute_result"
    }
   ],
   "source": [
    "stats.chi2_contingency(cross_phone1)\n",
    "# Chi-square statistic or Continuity Adj. Chi-Square as in SAS\n",
    "# P value\n",
    "# Expected values for each variable"
   ]
  },
  {
   "cell_type": "markdown",
   "metadata": {},
   "source": [
    "c). Alternatively, one may decide to merge categories ‘home number given’ and ‘other number given’. Please, create a new variable called ‘Phone2’ by merging these two categories and get the association measures for this new variable and the performance flag."
   ]
  },
  {
   "cell_type": "code",
   "execution_count": 19,
   "metadata": {},
   "outputs": [
    {
     "data": {
      "text/plain": [
       "Phone2\n",
       "1    4649\n",
       "0     351\n",
       "Name: count, dtype: int64"
      ]
     },
     "execution_count": 19,
     "metadata": {},
     "output_type": "execute_result"
    }
   ],
   "source": [
    "df['Phone2'] = df['PHONE']\n",
    "df.loc[df['PHONE'] == 'No phone number given','Phone2'] = 0\n",
    "df.loc[df['PHONE'] != 'No phone number given','Phone2'] = 1\n",
    "df['Phone2'].value_counts()"
   ]
  },
  {
   "cell_type": "code",
   "execution_count": 20,
   "metadata": {},
   "outputs": [
    {
     "data": {
      "text/html": [
       "<div>\n",
       "<style scoped>\n",
       "    .dataframe tbody tr th:only-of-type {\n",
       "        vertical-align: middle;\n",
       "    }\n",
       "\n",
       "    .dataframe tbody tr th {\n",
       "        vertical-align: top;\n",
       "    }\n",
       "\n",
       "    .dataframe thead th {\n",
       "        text-align: right;\n",
       "    }\n",
       "</style>\n",
       "<table border=\"1\" class=\"dataframe\">\n",
       "  <thead>\n",
       "    <tr style=\"text-align: right;\">\n",
       "      <th>FLAGBINARY</th>\n",
       "      <th>Bad</th>\n",
       "      <th>Good</th>\n",
       "      <th>Total</th>\n",
       "    </tr>\n",
       "    <tr>\n",
       "      <th>Phone2</th>\n",
       "      <th></th>\n",
       "      <th></th>\n",
       "      <th></th>\n",
       "    </tr>\n",
       "  </thead>\n",
       "  <tbody>\n",
       "    <tr>\n",
       "      <th>0</th>\n",
       "      <td>100</td>\n",
       "      <td>251</td>\n",
       "      <td>351</td>\n",
       "    </tr>\n",
       "    <tr>\n",
       "      <th>1</th>\n",
       "      <td>647</td>\n",
       "      <td>4002</td>\n",
       "      <td>4649</td>\n",
       "    </tr>\n",
       "    <tr>\n",
       "      <th>Total</th>\n",
       "      <td>747</td>\n",
       "      <td>4253</td>\n",
       "      <td>5000</td>\n",
       "    </tr>\n",
       "  </tbody>\n",
       "</table>\n",
       "</div>"
      ],
      "text/plain": [
       "FLAGBINARY  Bad  Good  Total\n",
       "Phone2                      \n",
       "0           100   251    351\n",
       "1           647  4002   4649\n",
       "Total       747  4253   5000"
      ]
     },
     "execution_count": 20,
     "metadata": {},
     "output_type": "execute_result"
    }
   ],
   "source": [
    "pd.crosstab(df['Phone2'],df['FLAGBINARY'],margins=True, margins_name='Total')"
   ]
  },
  {
   "cell_type": "code",
   "execution_count": 21,
   "metadata": {},
   "outputs": [
    {
     "data": {
      "text/html": [
       "<div>\n",
       "<style scoped>\n",
       "    .dataframe tbody tr th:only-of-type {\n",
       "        vertical-align: middle;\n",
       "    }\n",
       "\n",
       "    .dataframe tbody tr th {\n",
       "        vertical-align: top;\n",
       "    }\n",
       "\n",
       "    .dataframe thead th {\n",
       "        text-align: right;\n",
       "    }\n",
       "</style>\n",
       "<table border=\"1\" class=\"dataframe\">\n",
       "  <thead>\n",
       "    <tr style=\"text-align: right;\">\n",
       "      <th>FLAGBINARY</th>\n",
       "      <th>Bad</th>\n",
       "      <th>Good</th>\n",
       "    </tr>\n",
       "    <tr>\n",
       "      <th>Phone2</th>\n",
       "      <th></th>\n",
       "      <th></th>\n",
       "    </tr>\n",
       "  </thead>\n",
       "  <tbody>\n",
       "    <tr>\n",
       "      <th>0</th>\n",
       "      <td>0.28490</td>\n",
       "      <td>0.71510</td>\n",
       "    </tr>\n",
       "    <tr>\n",
       "      <th>1</th>\n",
       "      <td>0.13917</td>\n",
       "      <td>0.86083</td>\n",
       "    </tr>\n",
       "  </tbody>\n",
       "</table>\n",
       "</div>"
      ],
      "text/plain": [
       "FLAGBINARY      Bad     Good\n",
       "Phone2                      \n",
       "0           0.28490  0.71510\n",
       "1           0.13917  0.86083"
      ]
     },
     "execution_count": 21,
     "metadata": {},
     "output_type": "execute_result"
    }
   ],
   "source": [
    "pd.crosstab(df['Phone2'],df['FLAGBINARY'],normalize='index')"
   ]
  },
  {
   "cell_type": "code",
   "execution_count": 22,
   "metadata": {},
   "outputs": [
    {
     "data": {
      "text/html": [
       "<div>\n",
       "<style scoped>\n",
       "    .dataframe tbody tr th:only-of-type {\n",
       "        vertical-align: middle;\n",
       "    }\n",
       "\n",
       "    .dataframe tbody tr th {\n",
       "        vertical-align: top;\n",
       "    }\n",
       "\n",
       "    .dataframe thead th {\n",
       "        text-align: right;\n",
       "    }\n",
       "</style>\n",
       "<table border=\"1\" class=\"dataframe\">\n",
       "  <thead>\n",
       "    <tr style=\"text-align: right;\">\n",
       "      <th>FLAGBINARY</th>\n",
       "      <th>Bad</th>\n",
       "      <th>Good</th>\n",
       "    </tr>\n",
       "    <tr>\n",
       "      <th>Phone2</th>\n",
       "      <th></th>\n",
       "      <th></th>\n",
       "    </tr>\n",
       "  </thead>\n",
       "  <tbody>\n",
       "    <tr>\n",
       "      <th>0</th>\n",
       "      <td>100</td>\n",
       "      <td>251</td>\n",
       "    </tr>\n",
       "    <tr>\n",
       "      <th>1</th>\n",
       "      <td>647</td>\n",
       "      <td>4002</td>\n",
       "    </tr>\n",
       "  </tbody>\n",
       "</table>\n",
       "</div>"
      ],
      "text/plain": [
       "FLAGBINARY  Bad  Good\n",
       "Phone2               \n",
       "0           100   251\n",
       "1           647  4002"
      ]
     },
     "execution_count": 22,
     "metadata": {},
     "output_type": "execute_result"
    }
   ],
   "source": [
    "cross_phone2 = pd.crosstab(df['Phone2'],df['FLAGBINARY'])\n",
    "cross_phone2"
   ]
  },
  {
   "cell_type": "code",
   "execution_count": 23,
   "metadata": {},
   "outputs": [
    {
     "data": {
      "text/plain": [
       "Chi2ContingencyResult(statistic=np.float64(53.400126480082065), pvalue=np.float64(2.7207933736003236e-13), dof=1, expected_freq=array([[  52.4394,  298.5606],\n",
       "       [ 694.5606, 3954.4394]]))"
      ]
     },
     "execution_count": 23,
     "metadata": {},
     "output_type": "execute_result"
    }
   ],
   "source": [
    "stats.chi2_contingency(cross_phone2)\n",
    "# Chi-square statistic or Continuity Adj. Chi-Square as in SAS\n",
    "# P value\n",
    "# Expected values for each variable"
   ]
  },
  {
   "cell_type": "markdown",
   "metadata": {},
   "source": [
    "### 5.\tWeights of Evidence. "
   ]
  },
  {
   "cell_type": "markdown",
   "metadata": {},
   "source": [
    "Use cross-tabulation information to calculate WoE for‘Phone1’. Using the method described in 4a) create a new variable (e.g., PhoneWoe)"
   ]
  },
  {
   "cell_type": "code",
   "execution_count": 24,
   "metadata": {},
   "outputs": [
    {
     "data": {
      "text/html": [
       "<div>\n",
       "<style scoped>\n",
       "    .dataframe tbody tr th:only-of-type {\n",
       "        vertical-align: middle;\n",
       "    }\n",
       "\n",
       "    .dataframe tbody tr th {\n",
       "        vertical-align: top;\n",
       "    }\n",
       "\n",
       "    .dataframe thead th {\n",
       "        text-align: right;\n",
       "    }\n",
       "</style>\n",
       "<table border=\"1\" class=\"dataframe\">\n",
       "  <thead>\n",
       "    <tr style=\"text-align: right;\">\n",
       "      <th>FLAGBINARY</th>\n",
       "      <th>Bad</th>\n",
       "      <th>Good</th>\n",
       "      <th>Total</th>\n",
       "    </tr>\n",
       "    <tr>\n",
       "      <th>Phone1</th>\n",
       "      <th></th>\n",
       "      <th></th>\n",
       "      <th></th>\n",
       "    </tr>\n",
       "  </thead>\n",
       "  <tbody>\n",
       "    <tr>\n",
       "      <th>0</th>\n",
       "      <td>102</td>\n",
       "      <td>265</td>\n",
       "      <td>367</td>\n",
       "    </tr>\n",
       "    <tr>\n",
       "      <th>1</th>\n",
       "      <td>645</td>\n",
       "      <td>3988</td>\n",
       "      <td>4633</td>\n",
       "    </tr>\n",
       "    <tr>\n",
       "      <th>Total</th>\n",
       "      <td>747</td>\n",
       "      <td>4253</td>\n",
       "      <td>5000</td>\n",
       "    </tr>\n",
       "  </tbody>\n",
       "</table>\n",
       "</div>"
      ],
      "text/plain": [
       "FLAGBINARY  Bad  Good  Total\n",
       "Phone1                      \n",
       "0           102   265    367\n",
       "1           645  3988   4633\n",
       "Total       747  4253   5000"
      ]
     },
     "execution_count": 24,
     "metadata": {},
     "output_type": "execute_result"
    }
   ],
   "source": [
    "# Refer to the crosstable of Phone1\n",
    "pd.crosstab(df['Phone1'],df['FLAGBINARY'],margins=True, margins_name='Total')"
   ]
  },
  {
   "cell_type": "markdown",
   "metadata": {},
   "source": [
    "<img style=\"float: left;\" src=\"WOE.png\" width=550>"
   ]
  },
  {
   "cell_type": "markdown",
   "metadata": {},
   "source": [
    "Using the method described in section 4a) create a new variable (e.g. PhoneWoe) that would have a value of 0.08 for those that give their home phone numbers and a value of -0.79 otherwise."
   ]
  },
  {
   "cell_type": "code",
   "execution_count": 25,
   "metadata": {},
   "outputs": [
    {
     "data": {
      "text/plain": [
       "PhoneWoe\n",
       " 0.08    4633\n",
       "-0.79     367\n",
       "Name: count, dtype: int64"
      ]
     },
     "execution_count": 25,
     "metadata": {},
     "output_type": "execute_result"
    }
   ],
   "source": [
    "df.loc[df['Phone1']==1,'PhoneWoe']=0.08\n",
    "df.loc[df['Phone1']==0,'PhoneWoe']=-0.79\n",
    "df.PhoneWoe.value_counts()"
   ]
  },
  {
   "cell_type": "markdown",
   "metadata": {},
   "source": [
    "### 6.\tFurther Practice."
   ]
  },
  {
   "cell_type": "markdown",
   "metadata": {},
   "source": [
    "Now repeat the same procedure, from section 2 to section 5, for marital status ‘MSTAT’. Explore the variable. Get a table of frequencies for the variable and a bar chart. Obtain the cross-tab with the performance flag. Create grouped variables and recode them to dummy and WoE variables."
   ]
  },
  {
   "cell_type": "code",
   "execution_count": 26,
   "metadata": {},
   "outputs": [
    {
     "data": {
      "text/plain": [
       "MSTAT\n",
       "Married        2537\n",
       "Single         1739\n",
       "Divorced        421\n",
       "Widowed         157\n",
       "Co-habiting     146\n",
       "Name: count, dtype: int64"
      ]
     },
     "execution_count": 26,
     "metadata": {},
     "output_type": "execute_result"
    }
   ],
   "source": [
    "df['MSTAT'].value_counts()"
   ]
  },
  {
   "cell_type": "code",
   "execution_count": 27,
   "metadata": {},
   "outputs": [
    {
     "data": {
      "image/png": "[encoded data removed]",
      "text/plain": [
       "<Figure size 500x300 with 1 Axes>"
      ]
     },
     "metadata": {},
     "output_type": "display_data"
    }
   ],
   "source": [
    "# Bar chart\n",
    "plt.figure(figsize=(5,3))\n",
    "df['MSTAT'].value_counts().plot.bar()\n",
    "plt.show()"
   ]
  },
  {
   "cell_type": "code",
   "execution_count": 28,
   "metadata": {},
   "outputs": [
    {
     "data": {
      "text/html": [
       "<div>\n",
       "<style scoped>\n",
       "    .dataframe tbody tr th:only-of-type {\n",
       "        vertical-align: middle;\n",
       "    }\n",
       "\n",
       "    .dataframe tbody tr th {\n",
       "        vertical-align: top;\n",
       "    }\n",
       "\n",
       "    .dataframe thead th {\n",
       "        text-align: right;\n",
       "    }\n",
       "</style>\n",
       "<table border=\"1\" class=\"dataframe\">\n",
       "  <thead>\n",
       "    <tr style=\"text-align: right;\">\n",
       "      <th>FLAGBINARY</th>\n",
       "      <th>Bad</th>\n",
       "      <th>Good</th>\n",
       "      <th>Total</th>\n",
       "    </tr>\n",
       "    <tr>\n",
       "      <th>MSTAT</th>\n",
       "      <th></th>\n",
       "      <th></th>\n",
       "      <th></th>\n",
       "    </tr>\n",
       "  </thead>\n",
       "  <tbody>\n",
       "    <tr>\n",
       "      <th>Co-habiting</th>\n",
       "      <td>20</td>\n",
       "      <td>126</td>\n",
       "      <td>146</td>\n",
       "    </tr>\n",
       "    <tr>\n",
       "      <th>Divorced</th>\n",
       "      <td>69</td>\n",
       "      <td>352</td>\n",
       "      <td>421</td>\n",
       "    </tr>\n",
       "    <tr>\n",
       "      <th>Married</th>\n",
       "      <td>257</td>\n",
       "      <td>2280</td>\n",
       "      <td>2537</td>\n",
       "    </tr>\n",
       "    <tr>\n",
       "      <th>Single</th>\n",
       "      <td>391</td>\n",
       "      <td>1348</td>\n",
       "      <td>1739</td>\n",
       "    </tr>\n",
       "    <tr>\n",
       "      <th>Widowed</th>\n",
       "      <td>10</td>\n",
       "      <td>147</td>\n",
       "      <td>157</td>\n",
       "    </tr>\n",
       "    <tr>\n",
       "      <th>Total</th>\n",
       "      <td>747</td>\n",
       "      <td>4253</td>\n",
       "      <td>5000</td>\n",
       "    </tr>\n",
       "  </tbody>\n",
       "</table>\n",
       "</div>"
      ],
      "text/plain": [
       "FLAGBINARY   Bad  Good  Total\n",
       "MSTAT                        \n",
       "Co-habiting   20   126    146\n",
       "Divorced      69   352    421\n",
       "Married      257  2280   2537\n",
       "Single       391  1348   1739\n",
       "Widowed       10   147    157\n",
       "Total        747  4253   5000"
      ]
     },
     "execution_count": 28,
     "metadata": {},
     "output_type": "execute_result"
    }
   ],
   "source": [
    "pd.crosstab(df['MSTAT'],df['FLAGBINARY'],margins=True,margins_name='Total')"
   ]
  },
  {
   "cell_type": "code",
   "execution_count": 29,
   "metadata": {},
   "outputs": [
    {
     "data": {
      "text/html": [
       "<div>\n",
       "<style scoped>\n",
       "    .dataframe tbody tr th:only-of-type {\n",
       "        vertical-align: middle;\n",
       "    }\n",
       "\n",
       "    .dataframe tbody tr th {\n",
       "        vertical-align: top;\n",
       "    }\n",
       "\n",
       "    .dataframe thead th {\n",
       "        text-align: right;\n",
       "    }\n",
       "</style>\n",
       "<table border=\"1\" class=\"dataframe\">\n",
       "  <thead>\n",
       "    <tr style=\"text-align: right;\">\n",
       "      <th>FLAGBINARY</th>\n",
       "      <th>Bad</th>\n",
       "      <th>Good</th>\n",
       "    </tr>\n",
       "    <tr>\n",
       "      <th>MSTAT</th>\n",
       "      <th></th>\n",
       "      <th></th>\n",
       "    </tr>\n",
       "  </thead>\n",
       "  <tbody>\n",
       "    <tr>\n",
       "      <th>Co-habiting</th>\n",
       "      <td>0.136986</td>\n",
       "      <td>0.863014</td>\n",
       "    </tr>\n",
       "    <tr>\n",
       "      <th>Divorced</th>\n",
       "      <td>0.163895</td>\n",
       "      <td>0.836105</td>\n",
       "    </tr>\n",
       "    <tr>\n",
       "      <th>Married</th>\n",
       "      <td>0.101301</td>\n",
       "      <td>0.898699</td>\n",
       "    </tr>\n",
       "    <tr>\n",
       "      <th>Single</th>\n",
       "      <td>0.224842</td>\n",
       "      <td>0.775158</td>\n",
       "    </tr>\n",
       "    <tr>\n",
       "      <th>Widowed</th>\n",
       "      <td>0.063694</td>\n",
       "      <td>0.936306</td>\n",
       "    </tr>\n",
       "  </tbody>\n",
       "</table>\n",
       "</div>"
      ],
      "text/plain": [
       "FLAGBINARY        Bad      Good\n",
       "MSTAT                          \n",
       "Co-habiting  0.136986  0.863014\n",
       "Divorced     0.163895  0.836105\n",
       "Married      0.101301  0.898699\n",
       "Single       0.224842  0.775158\n",
       "Widowed      0.063694  0.936306"
      ]
     },
     "execution_count": 29,
     "metadata": {},
     "output_type": "execute_result"
    }
   ],
   "source": [
    "pd.crosstab(df['MSTAT'],df['FLAGBINARY'],normalize='index')"
   ]
  },
  {
   "cell_type": "markdown",
   "metadata": {},
   "source": [
    "The best group is ‘Widowed’ (only 6.4% Bads), but it is small, so should be combined with the next best group ‘Married’. ‘Single’ can stay on its own, and ‘Divorced’ and ‘Cohabiting’ can be put together."
   ]
  },
  {
   "cell_type": "code",
   "execution_count": 30,
   "metadata": {},
   "outputs": [
    {
     "data": {
      "text/plain": [
       "MSgrouped\n",
       "1.0    2694\n",
       "2.0    1739\n",
       "3.0     567\n",
       "Name: count, dtype: int64"
      ]
     },
     "execution_count": 30,
     "metadata": {},
     "output_type": "execute_result"
    }
   ],
   "source": [
    "df.loc[(df['MSTAT']=='Co-habiting')|(df['MSTAT']=='Divorced'),'MSgrouped']=3\n",
    "df.loc[df['MSTAT']=='Single','MSgrouped']=2\n",
    "df.loc[(df['MSTAT']=='Married')|(df['MSTAT']=='Widowed'),'MSgrouped']=1\n",
    "df.MSgrouped.value_counts()"
   ]
  },
  {
   "cell_type": "code",
   "execution_count": 31,
   "metadata": {},
   "outputs": [
    {
     "name": "stdout",
     "output_type": "stream",
     "text": [
      "Married1\n",
      "1    2694\n",
      "0    2306\n",
      "Name: count, dtype: int64\n",
      "Married2\n",
      "0    3261\n",
      "1    1739\n",
      "Name: count, dtype: int64\n"
     ]
    }
   ],
   "source": [
    "# Create dummy variables\n",
    "df['Married1']=0\n",
    "df['Married2']=0\n",
    "df.loc[df['MSgrouped']==1,'Married1']=1\n",
    "df.loc[df['MSgrouped']==2,'Married2']=1\n",
    "print(df.Married1.value_counts())\n",
    "print(df.Married2.value_counts())"
   ]
  },
  {
   "cell_type": "code",
   "execution_count": 32,
   "metadata": {},
   "outputs": [
    {
     "data": {
      "text/html": [
       "<div>\n",
       "<style scoped>\n",
       "    .dataframe tbody tr th:only-of-type {\n",
       "        vertical-align: middle;\n",
       "    }\n",
       "\n",
       "    .dataframe tbody tr th {\n",
       "        vertical-align: top;\n",
       "    }\n",
       "\n",
       "    .dataframe thead th {\n",
       "        text-align: right;\n",
       "    }\n",
       "</style>\n",
       "<table border=\"1\" class=\"dataframe\">\n",
       "  <thead>\n",
       "    <tr style=\"text-align: right;\">\n",
       "      <th>FLAGBINARY</th>\n",
       "      <th>Bad</th>\n",
       "      <th>Good</th>\n",
       "      <th>Total</th>\n",
       "    </tr>\n",
       "    <tr>\n",
       "      <th>MSgrouped</th>\n",
       "      <th></th>\n",
       "      <th></th>\n",
       "      <th></th>\n",
       "    </tr>\n",
       "  </thead>\n",
       "  <tbody>\n",
       "    <tr>\n",
       "      <th>1.0</th>\n",
       "      <td>267</td>\n",
       "      <td>2427</td>\n",
       "      <td>2694</td>\n",
       "    </tr>\n",
       "    <tr>\n",
       "      <th>2.0</th>\n",
       "      <td>391</td>\n",
       "      <td>1348</td>\n",
       "      <td>1739</td>\n",
       "    </tr>\n",
       "    <tr>\n",
       "      <th>3.0</th>\n",
       "      <td>89</td>\n",
       "      <td>478</td>\n",
       "      <td>567</td>\n",
       "    </tr>\n",
       "    <tr>\n",
       "      <th>Total</th>\n",
       "      <td>747</td>\n",
       "      <td>4253</td>\n",
       "      <td>5000</td>\n",
       "    </tr>\n",
       "  </tbody>\n",
       "</table>\n",
       "</div>"
      ],
      "text/plain": [
       "FLAGBINARY  Bad  Good  Total\n",
       "MSgrouped                   \n",
       "1.0         267  2427   2694\n",
       "2.0         391  1348   1739\n",
       "3.0          89   478    567\n",
       "Total       747  4253   5000"
      ]
     },
     "execution_count": 32,
     "metadata": {},
     "output_type": "execute_result"
    }
   ],
   "source": [
    "pd.crosstab(df['MSgrouped'],df['FLAGBINARY'],margins=True, margins_name='Total')"
   ]
  },
  {
   "cell_type": "code",
   "execution_count": 33,
   "metadata": {},
   "outputs": [
    {
     "data": {
      "text/plain": [
       "MSgroupedWOE\n",
       " 0.467848    2694\n",
       "-0.501645    1739\n",
       "-0.058340     567\n",
       "Name: count, dtype: int64"
      ]
     },
     "execution_count": 33,
     "metadata": {},
     "output_type": "execute_result"
    }
   ],
   "source": [
    "# Create dummy variables\n",
    "df['MSgroupedWOE'] = df['MSgrouped']\n",
    "df.loc[df['MSgrouped'] == 1,'MSgroupedWOE'] = np.log((2427*747)/(267*4253)) # 0.4678478372\n",
    "df.loc[df['MSgrouped'] == 2,'MSgroupedWOE'] = np.log((1348*747)/(391*4253)) # -0.501644979\n",
    "df.loc[df['MSgrouped'] == 3,'MSgroupedWOE'] = np.log((478*747)/(89*4253)) # -0.058340347\n",
    "df.MSgroupedWOE.value_counts()"
   ]
  }
 ],
 "metadata": {
  "kernelspec": {
   "display_name": "TAatUEBS",
   "language": "python",
   "name": "python3"
  },
  "language_info": {
   "codemirror_mode": {
    "name": "ipython",
    "version": 3
   },
   "file_extension": ".py",
   "mimetype": "text/x-python",
   "name": "python",
   "nbconvert_exporter": "python",
   "pygments_lexer": "ipython3",
   "version": "3.10.16"
  }
 },
 "nbformat": 4,
 "nbformat_minor": 4
}
