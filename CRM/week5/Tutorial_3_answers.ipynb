{
 "cells": [
  {
   "cell_type": "markdown",
   "metadata": {},
   "source": [
    "#### Tutor name: Heqing (Eric) SHI\n",
    "#### Contact email: Heqing.Shi@ed.ac.uk\n",
    "#### Web: [personal page](https://shiheqing.github.io)\n",
    "*Materials credit to @Zongxiao WU, the previous tutor.*"
   ]
  },
  {
   "cell_type": "code",
   "execution_count": 1,
   "metadata": {},
   "outputs": [],
   "source": [
    "# import packages that we will use in this session\n",
    "from sklearn import preprocessing\n",
    "import matplotlib.pyplot as plt \n",
    "from sklearn.linear_model import LogisticRegression\n",
    "from sklearn.model_selection import train_test_split\n",
    "import seaborn as sns\n",
    "import statsmodels.api as sm\n",
    "import numpy as np\n",
    "import pandas as pd\n",
    "import warnings\n",
    "warnings.filterwarnings(\"ignore\", category=DeprecationWarning)"
   ]
  },
  {
   "cell_type": "code",
   "execution_count": 2,
   "metadata": {},
   "outputs": [],
   "source": [
    "data = sm.datasets.get_rdataset(\"flchain\", \"survival\").data"
   ]
  },
  {
   "cell_type": "code",
   "execution_count": 3,
   "metadata": {},
   "outputs": [
    {
     "data": {
      "text/html": [
       "<div>\n",
       "<style scoped>\n",
       "    .dataframe tbody tr th:only-of-type {\n",
       "        vertical-align: middle;\n",
       "    }\n",
       "\n",
       "    .dataframe tbody tr th {\n",
       "        vertical-align: top;\n",
       "    }\n",
       "\n",
       "    .dataframe thead th {\n",
       "        text-align: right;\n",
       "    }\n",
       "</style>\n",
       "<table border=\"1\" class=\"dataframe\">\n",
       "  <thead>\n",
       "    <tr style=\"text-align: right;\">\n",
       "      <th></th>\n",
       "      <th>age</th>\n",
       "      <th>sex</th>\n",
       "      <th>sample.yr</th>\n",
       "      <th>kappa</th>\n",
       "      <th>lambda</th>\n",
       "      <th>flc.grp</th>\n",
       "      <th>creatinine</th>\n",
       "      <th>mgus</th>\n",
       "      <th>futime</th>\n",
       "      <th>death</th>\n",
       "      <th>chapter</th>\n",
       "    </tr>\n",
       "  </thead>\n",
       "  <tbody>\n",
       "    <tr>\n",
       "      <th>0</th>\n",
       "      <td>97</td>\n",
       "      <td>F</td>\n",
       "      <td>1997</td>\n",
       "      <td>5.700</td>\n",
       "      <td>4.860</td>\n",
       "      <td>10</td>\n",
       "      <td>1.7</td>\n",
       "      <td>0</td>\n",
       "      <td>85</td>\n",
       "      <td>1</td>\n",
       "      <td>Circulatory</td>\n",
       "    </tr>\n",
       "    <tr>\n",
       "      <th>1</th>\n",
       "      <td>92</td>\n",
       "      <td>F</td>\n",
       "      <td>2000</td>\n",
       "      <td>0.870</td>\n",
       "      <td>0.683</td>\n",
       "      <td>1</td>\n",
       "      <td>0.9</td>\n",
       "      <td>0</td>\n",
       "      <td>1281</td>\n",
       "      <td>1</td>\n",
       "      <td>Neoplasms</td>\n",
       "    </tr>\n",
       "    <tr>\n",
       "      <th>2</th>\n",
       "      <td>94</td>\n",
       "      <td>F</td>\n",
       "      <td>1997</td>\n",
       "      <td>4.360</td>\n",
       "      <td>3.850</td>\n",
       "      <td>10</td>\n",
       "      <td>1.4</td>\n",
       "      <td>0</td>\n",
       "      <td>69</td>\n",
       "      <td>1</td>\n",
       "      <td>Circulatory</td>\n",
       "    </tr>\n",
       "    <tr>\n",
       "      <th>3</th>\n",
       "      <td>92</td>\n",
       "      <td>F</td>\n",
       "      <td>1996</td>\n",
       "      <td>2.420</td>\n",
       "      <td>2.220</td>\n",
       "      <td>9</td>\n",
       "      <td>1.0</td>\n",
       "      <td>0</td>\n",
       "      <td>115</td>\n",
       "      <td>1</td>\n",
       "      <td>Circulatory</td>\n",
       "    </tr>\n",
       "    <tr>\n",
       "      <th>4</th>\n",
       "      <td>93</td>\n",
       "      <td>F</td>\n",
       "      <td>1996</td>\n",
       "      <td>1.320</td>\n",
       "      <td>1.690</td>\n",
       "      <td>6</td>\n",
       "      <td>1.1</td>\n",
       "      <td>0</td>\n",
       "      <td>1039</td>\n",
       "      <td>1</td>\n",
       "      <td>Circulatory</td>\n",
       "    </tr>\n",
       "    <tr>\n",
       "      <th>...</th>\n",
       "      <td>...</td>\n",
       "      <td>...</td>\n",
       "      <td>...</td>\n",
       "      <td>...</td>\n",
       "      <td>...</td>\n",
       "      <td>...</td>\n",
       "      <td>...</td>\n",
       "      <td>...</td>\n",
       "      <td>...</td>\n",
       "      <td>...</td>\n",
       "      <td>...</td>\n",
       "    </tr>\n",
       "    <tr>\n",
       "      <th>7869</th>\n",
       "      <td>52</td>\n",
       "      <td>F</td>\n",
       "      <td>1995</td>\n",
       "      <td>1.210</td>\n",
       "      <td>1.610</td>\n",
       "      <td>6</td>\n",
       "      <td>1.0</td>\n",
       "      <td>0</td>\n",
       "      <td>4997</td>\n",
       "      <td>0</td>\n",
       "      <td>NaN</td>\n",
       "    </tr>\n",
       "    <tr>\n",
       "      <th>7870</th>\n",
       "      <td>52</td>\n",
       "      <td>F</td>\n",
       "      <td>1999</td>\n",
       "      <td>0.858</td>\n",
       "      <td>0.581</td>\n",
       "      <td>1</td>\n",
       "      <td>0.8</td>\n",
       "      <td>0</td>\n",
       "      <td>3652</td>\n",
       "      <td>0</td>\n",
       "      <td>NaN</td>\n",
       "    </tr>\n",
       "    <tr>\n",
       "      <th>7871</th>\n",
       "      <td>54</td>\n",
       "      <td>F</td>\n",
       "      <td>2002</td>\n",
       "      <td>1.700</td>\n",
       "      <td>1.720</td>\n",
       "      <td>8</td>\n",
       "      <td>NaN</td>\n",
       "      <td>0</td>\n",
       "      <td>2507</td>\n",
       "      <td>0</td>\n",
       "      <td>NaN</td>\n",
       "    </tr>\n",
       "    <tr>\n",
       "      <th>7872</th>\n",
       "      <td>53</td>\n",
       "      <td>F</td>\n",
       "      <td>1995</td>\n",
       "      <td>1.710</td>\n",
       "      <td>2.690</td>\n",
       "      <td>9</td>\n",
       "      <td>NaN</td>\n",
       "      <td>0</td>\n",
       "      <td>4982</td>\n",
       "      <td>0</td>\n",
       "      <td>NaN</td>\n",
       "    </tr>\n",
       "    <tr>\n",
       "      <th>7873</th>\n",
       "      <td>50</td>\n",
       "      <td>F</td>\n",
       "      <td>1998</td>\n",
       "      <td>1.190</td>\n",
       "      <td>1.250</td>\n",
       "      <td>4</td>\n",
       "      <td>0.7</td>\n",
       "      <td>0</td>\n",
       "      <td>3995</td>\n",
       "      <td>0</td>\n",
       "      <td>NaN</td>\n",
       "    </tr>\n",
       "  </tbody>\n",
       "</table>\n",
       "<p>7874 rows × 11 columns</p>\n",
       "</div>"
      ],
      "text/plain": [
       "      age sex  sample.yr  kappa  lambda  flc.grp  creatinine  mgus  futime  \\\n",
       "0      97   F       1997  5.700   4.860       10         1.7     0      85   \n",
       "1      92   F       2000  0.870   0.683        1         0.9     0    1281   \n",
       "2      94   F       1997  4.360   3.850       10         1.4     0      69   \n",
       "3      92   F       1996  2.420   2.220        9         1.0     0     115   \n",
       "4      93   F       1996  1.320   1.690        6         1.1     0    1039   \n",
       "...   ...  ..        ...    ...     ...      ...         ...   ...     ...   \n",
       "7869   52   F       1995  1.210   1.610        6         1.0     0    4997   \n",
       "7870   52   F       1999  0.858   0.581        1         0.8     0    3652   \n",
       "7871   54   F       2002  1.700   1.720        8         NaN     0    2507   \n",
       "7872   53   F       1995  1.710   2.690        9         NaN     0    4982   \n",
       "7873   50   F       1998  1.190   1.250        4         0.7     0    3995   \n",
       "\n",
       "      death      chapter  \n",
       "0         1  Circulatory  \n",
       "1         1    Neoplasms  \n",
       "2         1  Circulatory  \n",
       "3         1  Circulatory  \n",
       "4         1  Circulatory  \n",
       "...     ...          ...  \n",
       "7869      0          NaN  \n",
       "7870      0          NaN  \n",
       "7871      0          NaN  \n",
       "7872      0          NaN  \n",
       "7873      0          NaN  \n",
       "\n",
       "[7874 rows x 11 columns]"
      ]
     },
     "execution_count": 3,
     "metadata": {},
     "output_type": "execute_result"
    }
   ],
   "source": [
    "data"
   ]
  },
  {
   "cell_type": "code",
   "execution_count": 2,
   "metadata": {},
   "outputs": [],
   "source": [
    "df = pd.read_csv('Data_tutorial3.csv')"
   ]
  },
  {
   "cell_type": "code",
   "execution_count": 3,
   "metadata": {},
   "outputs": [
    {
     "name": "stdout",
     "output_type": "stream",
     "text": [
      "<class 'pandas.core.frame.DataFrame'>\n",
      "RangeIndex: 5000 entries, 0 to 4999\n",
      "Data columns (total 30 columns):\n",
      " #   Column      Non-Null Count  Dtype  \n",
      "---  ------      --------------  -----  \n",
      " 0   Unnamed: 0  5000 non-null   int64  \n",
      " 1   ID          5000 non-null   float64\n",
      " 2   flagbinary  5000 non-null   float64\n",
      " 3   PHONE       5000 non-null   float64\n",
      " 4   MSTAT       5000 non-null   float64\n",
      " 5   RSTAT       5000 non-null   float64\n",
      " 6   KIDS        5000 non-null   float64\n",
      " 7   CARDI       5000 non-null   float64\n",
      " 8   CARDH2      5000 non-null   float64\n",
      " 9   AGE         5000 non-null   float64\n",
      " 10  TAD         5000 non-null   float64\n",
      " 11  BUREAU      5000 non-null   float64\n",
      " 12  SEARCH      5000 non-null   float64\n",
      " 13  phone1      5000 non-null   float64\n",
      " 14  phone2      5000 non-null   float64\n",
      " 15  phonewoe    5000 non-null   float64\n",
      " 16  msgrouped   5000 non-null   float64\n",
      " 17  married1    5000 non-null   float64\n",
      " 18  married2    5000 non-null   float64\n",
      " 19  mswoe       5000 non-null   float64\n",
      " 20  agebinned   5000 non-null   float64\n",
      " 21  agegroup    5000 non-null   float64\n",
      " 22  age_g1      5000 non-null   float64\n",
      " 23  age_g2      5000 non-null   float64\n",
      " 24  age_g3      5000 non-null   float64\n",
      " 25  age_g4      5000 non-null   float64\n",
      " 26  age_g5      5000 non-null   float64\n",
      " 27  age_g6      5000 non-null   float64\n",
      " 28  age_g7      5000 non-null   float64\n",
      " 29  agewoe      5000 non-null   float64\n",
      "dtypes: float64(29), int64(1)\n",
      "memory usage: 1.1 MB\n"
     ]
    }
   ],
   "source": [
    "df.info()"
   ]
  },
  {
   "cell_type": "code",
   "execution_count": 4,
   "metadata": {},
   "outputs": [
    {
     "data": {
      "text/plain": [
       "flagbinary\n",
       "1.0    4253\n",
       "0.0     747\n",
       "Name: count, dtype: int64"
      ]
     },
     "execution_count": 4,
     "metadata": {},
     "output_type": "execute_result"
    }
   ],
   "source": [
    "df['flagbinary'].value_counts()"
   ]
  },
  {
   "cell_type": "code",
   "execution_count": 5,
   "metadata": {},
   "outputs": [
    {
     "data": {
      "text/plain": [
       "y\n",
       "0.0    4253\n",
       "1.0     747\n",
       "Name: count, dtype: int64"
      ]
     },
     "execution_count": 5,
     "metadata": {},
     "output_type": "execute_result"
    }
   ],
   "source": [
    "# use 1 to denote bads and 0 denotes goods\n",
    "df.loc[df['flagbinary']==1.0,'y']=0\n",
    "df.loc[df['flagbinary']==0.0,'y']=1\n",
    "df['y'].value_counts()"
   ]
  },
  {
   "cell_type": "markdown",
   "metadata": {},
   "source": [
    "### 1. Running logistic regression model (dummy variables)"
   ]
  },
  {
   "cell_type": "markdown",
   "metadata": {},
   "source": [
    "Phone dummies"
   ]
  },
  {
   "cell_type": "code",
   "execution_count": 6,
   "metadata": {},
   "outputs": [
    {
     "data": {
      "text/plain": [
       "PHONE\n",
       "1.0    4633\n",
       "0.0     351\n",
       "2.0      16\n",
       "Name: count, dtype: int64"
      ]
     },
     "execution_count": 6,
     "metadata": {},
     "output_type": "execute_result"
    }
   ],
   "source": [
    "# We have three categories in the original PHONE variable\n",
    "df['PHONE'].value_counts()"
   ]
  },
  {
   "cell_type": "code",
   "execution_count": 7,
   "metadata": {},
   "outputs": [
    {
     "data": {
      "text/plain": [
       "phone1\n",
       "1.0    4633\n",
       "0.0     367\n",
       "Name: count, dtype: int64"
      ]
     },
     "execution_count": 7,
     "metadata": {},
     "output_type": "execute_result"
    }
   ],
   "source": [
    "# For Phone 1 variable, we choose to combine 'No phone number given' (351 obs) and 'Other number given' (16 obs) categories together\n",
    "df['phone1'].value_counts()"
   ]
  },
  {
   "cell_type": "code",
   "execution_count": 8,
   "metadata": {},
   "outputs": [
    {
     "data": {
      "text/plain": [
       "phone2\n",
       "1.0    4649\n",
       "0.0     351\n",
       "Name: count, dtype: int64"
      ]
     },
     "execution_count": 8,
     "metadata": {},
     "output_type": "execute_result"
    }
   ],
   "source": [
    "# For Phone 2 variable, we choose to combine 'Home number given' (4633 obs) and 'Other number given' (16 obs) categories together\n",
    "df['phone2'].value_counts()"
   ]
  },
  {
   "cell_type": "markdown",
   "metadata": {},
   "source": [
    "MSTAT dummies"
   ]
  },
  {
   "cell_type": "code",
   "execution_count": 9,
   "metadata": {},
   "outputs": [
    {
     "data": {
      "text/plain": [
       "MSTAT\n",
       "1.0    2537\n",
       "2.0    1739\n",
       "3.0     421\n",
       "4.0     157\n",
       "5.0     146\n",
       "Name: count, dtype: int64"
      ]
     },
     "execution_count": 9,
     "metadata": {},
     "output_type": "execute_result"
    }
   ],
   "source": [
    "# We have five categories in the original MSTAT variable\n",
    "df['MSTAT'].value_counts()"
   ]
  },
  {
   "cell_type": "code",
   "execution_count": 10,
   "metadata": {},
   "outputs": [
    {
     "data": {
      "text/plain": [
       "msgrouped\n",
       "1.0    2694\n",
       "2.0    1739\n",
       "3.0     567\n",
       "Name: count, dtype: int64"
      ]
     },
     "execution_count": 10,
     "metadata": {},
     "output_type": "execute_result"
    }
   ],
   "source": [
    "# df.loc[(df['MSTAT']=='Co-habiting')|(df['MSTAT']=='Divorced'),'MSgrouped']=3\n",
    "# df.loc[df['MSTAT']=='Single','MSgrouped']=2\n",
    "# df.loc[(df['MSTAT']=='Married')|(df['MSTAT']=='Widowed'),'MSgrouped']=1\n",
    "df.msgrouped.value_counts()"
   ]
  },
  {
   "cell_type": "code",
   "execution_count": 11,
   "metadata": {},
   "outputs": [
    {
     "name": "stdout",
     "output_type": "stream",
     "text": [
      "married1\n",
      "1.0    2694\n",
      "0.0    2306\n",
      "Name: count, dtype: int64\n",
      "married2\n",
      "0.0    3261\n",
      "1.0    1739\n",
      "Name: count, dtype: int64\n"
     ]
    }
   ],
   "source": [
    "# Create dummy variables\n",
    "# df['Married1']=0\n",
    "# df['Married2']=0\n",
    "# df.loc[df['MSgrouped']==1,'Married1']=1\n",
    "# df.loc[df['MSgrouped']==2,'Married2']=1\n",
    "print(df.married1.value_counts())\n",
    "print(df.married2.value_counts())"
   ]
  },
  {
   "cell_type": "markdown",
   "metadata": {},
   "source": [
    "AGE dummies"
   ]
  },
  {
   "cell_type": "code",
   "execution_count": 12,
   "metadata": {},
   "outputs": [
    {
     "data": {
      "text/plain": [
       "agegroup\n",
       "5.0    996\n",
       "7.0    991\n",
       "0.0    599\n",
       "4.0    544\n",
       "2.0    487\n",
       "3.0    467\n",
       "9.0    466\n",
       "1.0    450\n",
       "Name: count, dtype: int64"
      ]
     },
     "execution_count": 12,
     "metadata": {},
     "output_type": "execute_result"
    }
   ],
   "source": [
    "# The following commands split the variable age into fine classes: 10 groups of approximate size.\n",
    "# df['AgeBinned'], cut_bin = pd.qcut(df['AGE'], q = 10, \n",
    "                                   # labels = ['Age_1', 'Age_2', 'Age_3', 'Age_4', 'Age_5', 'Age_6', 'Age_7', 'Age_8', 'Age_9', 'Age_10'],\n",
    "                                   # retbins = True)\n",
    "# create a new AgeGrouped variable\n",
    "# df.loc[df['AgeBinned'] == 'Age_1','AgeGrouped'] = 'Age_1'\n",
    "# df.loc[df['AgeBinned'] == 'Age_2','AgeGrouped'] = 'Age_2'\n",
    "# df.loc[df['AgeBinned'] == 'Age_3','AgeGrouped'] = 'Age_3'\n",
    "# df.loc[df['AgeBinned'] == 'Age_4','AgeGrouped'] = 'Age_4'\n",
    "# df.loc[df['AgeBinned'] == 'Age_5','AgeGrouped'] = 'Age_5'\n",
    "# df.loc[df['AgeBinned'] == 'Age_6','AgeGrouped'] = 'Age_6'\n",
    "# df.loc[df['AgeBinned'] == 'Age_7','AgeGrouped'] = 'Age_6'\n",
    "# df.loc[df['AgeBinned'] == 'Age_8','AgeGrouped'] = 'Age_7'\n",
    "# df.loc[df['AgeBinned'] == 'Age_9','AgeGrouped'] = 'Age_7'\n",
    "# df.loc[df['AgeBinned'] == 'Age_10','AgeGrouped'] = 'Age_8'\n",
    "df['agegroup'].value_counts() # We have 8 categories here\n",
    "# Thus we get 7(8-1) variables including: age_g1, age_g2, age_g3, age_g4, age_g5, age_g6, age_g7 (refer to the initial df.info() table"
   ]
  },
  {
   "cell_type": "markdown",
   "metadata": {},
   "source": [
    "Regression model"
   ]
  },
  {
   "cell_type": "code",
   "execution_count": 13,
   "metadata": {},
   "outputs": [],
   "source": [
    "y = df.loc[:,df.columns=='y']\n",
    "# please note the dummy variable trap \n",
    "X = df.loc[:,(df.columns=='phone1')|(df.columns=='married1')|(df.columns=='age_g1')|(df.columns=='age_g2')|(df.columns=='age_g3')|(df.columns=='age_g4')|(df.columns=='age_g5')|(df.columns=='age_g6')|(df.columns=='age_g7')]"
   ]
  },
  {
   "cell_type": "code",
   "execution_count": 14,
   "metadata": {},
   "outputs": [
    {
     "data": {
      "text/html": [
       "<div>\n",
       "<style scoped>\n",
       "    .dataframe tbody tr th:only-of-type {\n",
       "        vertical-align: middle;\n",
       "    }\n",
       "\n",
       "    .dataframe tbody tr th {\n",
       "        vertical-align: top;\n",
       "    }\n",
       "\n",
       "    .dataframe thead th {\n",
       "        text-align: right;\n",
       "    }\n",
       "</style>\n",
       "<table border=\"1\" class=\"dataframe\">\n",
       "  <thead>\n",
       "    <tr style=\"text-align: right;\">\n",
       "      <th></th>\n",
       "      <th>phone1</th>\n",
       "      <th>married1</th>\n",
       "      <th>age_g1</th>\n",
       "      <th>age_g2</th>\n",
       "      <th>age_g3</th>\n",
       "      <th>age_g4</th>\n",
       "      <th>age_g5</th>\n",
       "      <th>age_g6</th>\n",
       "      <th>age_g7</th>\n",
       "    </tr>\n",
       "  </thead>\n",
       "  <tbody>\n",
       "    <tr>\n",
       "      <th>0</th>\n",
       "      <td>1.0</td>\n",
       "      <td>0.0</td>\n",
       "      <td>0.0</td>\n",
       "      <td>0.0</td>\n",
       "      <td>0.0</td>\n",
       "      <td>0.0</td>\n",
       "      <td>0.0</td>\n",
       "      <td>0.0</td>\n",
       "      <td>1.0</td>\n",
       "    </tr>\n",
       "    <tr>\n",
       "      <th>1</th>\n",
       "      <td>1.0</td>\n",
       "      <td>0.0</td>\n",
       "      <td>0.0</td>\n",
       "      <td>0.0</td>\n",
       "      <td>0.0</td>\n",
       "      <td>0.0</td>\n",
       "      <td>0.0</td>\n",
       "      <td>0.0</td>\n",
       "      <td>0.0</td>\n",
       "    </tr>\n",
       "    <tr>\n",
       "      <th>2</th>\n",
       "      <td>0.0</td>\n",
       "      <td>1.0</td>\n",
       "      <td>0.0</td>\n",
       "      <td>0.0</td>\n",
       "      <td>0.0</td>\n",
       "      <td>0.0</td>\n",
       "      <td>1.0</td>\n",
       "      <td>0.0</td>\n",
       "      <td>0.0</td>\n",
       "    </tr>\n",
       "    <tr>\n",
       "      <th>3</th>\n",
       "      <td>0.0</td>\n",
       "      <td>1.0</td>\n",
       "      <td>0.0</td>\n",
       "      <td>0.0</td>\n",
       "      <td>0.0</td>\n",
       "      <td>0.0</td>\n",
       "      <td>1.0</td>\n",
       "      <td>0.0</td>\n",
       "      <td>0.0</td>\n",
       "    </tr>\n",
       "    <tr>\n",
       "      <th>4</th>\n",
       "      <td>1.0</td>\n",
       "      <td>1.0</td>\n",
       "      <td>0.0</td>\n",
       "      <td>0.0</td>\n",
       "      <td>0.0</td>\n",
       "      <td>0.0</td>\n",
       "      <td>0.0</td>\n",
       "      <td>0.0</td>\n",
       "      <td>1.0</td>\n",
       "    </tr>\n",
       "  </tbody>\n",
       "</table>\n",
       "</div>"
      ],
      "text/plain": [
       "   phone1  married1  age_g1  age_g2  age_g3  age_g4  age_g5  age_g6  age_g7\n",
       "0     1.0       0.0     0.0     0.0     0.0     0.0     0.0     0.0     1.0\n",
       "1     1.0       0.0     0.0     0.0     0.0     0.0     0.0     0.0     0.0\n",
       "2     0.0       1.0     0.0     0.0     0.0     0.0     1.0     0.0     0.0\n",
       "3     0.0       1.0     0.0     0.0     0.0     0.0     1.0     0.0     0.0\n",
       "4     1.0       1.0     0.0     0.0     0.0     0.0     0.0     0.0     1.0"
      ]
     },
     "execution_count": 14,
     "metadata": {},
     "output_type": "execute_result"
    }
   ],
   "source": [
    "X.head()"
   ]
  },
  {
   "cell_type": "markdown",
   "metadata": {},
   "source": [
    "Statistics view"
   ]
  },
  {
   "cell_type": "code",
   "execution_count": 15,
   "metadata": {},
   "outputs": [
    {
     "name": "stdout",
     "output_type": "stream",
     "text": [
      "Optimization terminated successfully.\n",
      "         Current function value: 0.391876\n",
      "         Iterations 7\n",
      "                         Results: Logit\n",
      "=================================================================\n",
      "Model:              Logit            Method:           MLE       \n",
      "Dependent Variable: y                Pseudo R-squared: 0.071     \n",
      "Date:               2025-01-19 20:56 AIC:              3938.7640 \n",
      "No. Observations:   5000             BIC:              4003.9359 \n",
      "Df Model:           9                Log-Likelihood:   -1959.4   \n",
      "Df Residuals:       4990             LL-Null:          -2108.3   \n",
      "Converged:          1.0000           LLR p-value:      7.2610e-59\n",
      "No. Iterations:     7.0000           Scale:            1.0000    \n",
      "------------------------------------------------------------------\n",
      "               Coef.   Std.Err.     z     P>|z|    [0.025   0.975]\n",
      "------------------------------------------------------------------\n",
      "const          0.0589    0.1496   0.3936  0.6939  -0.2344   0.3522\n",
      "phone1        -0.9081    0.1302  -6.9746  0.0000  -1.1633  -0.6529\n",
      "married1      -0.3231    0.0961  -3.3638  0.0008  -0.5114  -0.1349\n",
      "age_g1        -0.2268    0.1413  -1.6050  0.1085  -0.5037   0.0502\n",
      "age_g2        -0.5768    0.1501  -3.8418  0.0001  -0.8710  -0.2825\n",
      "age_g3        -0.8388    0.1643  -5.1053  0.0000  -1.1608  -0.5168\n",
      "age_g4        -1.2593    0.1767  -7.1277  0.0000  -1.6056  -0.9130\n",
      "age_g5        -0.9918    0.1420  -6.9825  0.0000  -1.2701  -0.7134\n",
      "age_g6        -1.3923    0.1578  -8.8245  0.0000  -1.7016  -1.0831\n",
      "age_g7        -1.9152    0.2349  -8.1552  0.0000  -2.3755  -1.4549\n",
      "=================================================================\n",
      "\n"
     ]
    }
   ],
   "source": [
    "import statsmodels.api as sm\n",
    "X1=sm.add_constant(X)\n",
    "logit_model=sm.Logit(y,X1)\n",
    "result=logit_model.fit()\n",
    "print(result.summary2())"
   ]
  },
  {
   "cell_type": "markdown",
   "metadata": {},
   "source": [
    "Machine learning view"
   ]
  },
  {
   "cell_type": "code",
   "execution_count": 16,
   "metadata": {},
   "outputs": [
    {
     "data": {
      "text/html": [
       "<div>\n",
       "<style scoped>\n",
       "    .dataframe tbody tr th:only-of-type {\n",
       "        vertical-align: middle;\n",
       "    }\n",
       "\n",
       "    .dataframe tbody tr th {\n",
       "        vertical-align: top;\n",
       "    }\n",
       "\n",
       "    .dataframe thead th {\n",
       "        text-align: right;\n",
       "    }\n",
       "</style>\n",
       "<table border=\"1\" class=\"dataframe\">\n",
       "  <thead>\n",
       "    <tr style=\"text-align: right;\">\n",
       "      <th></th>\n",
       "      <th>phone1</th>\n",
       "      <th>married1</th>\n",
       "      <th>age_g1</th>\n",
       "      <th>age_g2</th>\n",
       "      <th>age_g3</th>\n",
       "      <th>age_g4</th>\n",
       "      <th>age_g5</th>\n",
       "      <th>age_g6</th>\n",
       "      <th>age_g7</th>\n",
       "    </tr>\n",
       "  </thead>\n",
       "  <tbody>\n",
       "    <tr>\n",
       "      <th>2876</th>\n",
       "      <td>1.0</td>\n",
       "      <td>1.0</td>\n",
       "      <td>0.0</td>\n",
       "      <td>0.0</td>\n",
       "      <td>0.0</td>\n",
       "      <td>0.0</td>\n",
       "      <td>1.0</td>\n",
       "      <td>0.0</td>\n",
       "      <td>0.0</td>\n",
       "    </tr>\n",
       "    <tr>\n",
       "      <th>3713</th>\n",
       "      <td>1.0</td>\n",
       "      <td>0.0</td>\n",
       "      <td>0.0</td>\n",
       "      <td>0.0</td>\n",
       "      <td>0.0</td>\n",
       "      <td>0.0</td>\n",
       "      <td>0.0</td>\n",
       "      <td>0.0</td>\n",
       "      <td>0.0</td>\n",
       "    </tr>\n",
       "    <tr>\n",
       "      <th>4960</th>\n",
       "      <td>1.0</td>\n",
       "      <td>1.0</td>\n",
       "      <td>0.0</td>\n",
       "      <td>0.0</td>\n",
       "      <td>0.0</td>\n",
       "      <td>0.0</td>\n",
       "      <td>0.0</td>\n",
       "      <td>1.0</td>\n",
       "      <td>0.0</td>\n",
       "    </tr>\n",
       "    <tr>\n",
       "      <th>4607</th>\n",
       "      <td>1.0</td>\n",
       "      <td>1.0</td>\n",
       "      <td>0.0</td>\n",
       "      <td>0.0</td>\n",
       "      <td>0.0</td>\n",
       "      <td>1.0</td>\n",
       "      <td>0.0</td>\n",
       "      <td>0.0</td>\n",
       "      <td>0.0</td>\n",
       "    </tr>\n",
       "    <tr>\n",
       "      <th>1903</th>\n",
       "      <td>1.0</td>\n",
       "      <td>1.0</td>\n",
       "      <td>0.0</td>\n",
       "      <td>0.0</td>\n",
       "      <td>0.0</td>\n",
       "      <td>0.0</td>\n",
       "      <td>0.0</td>\n",
       "      <td>0.0</td>\n",
       "      <td>0.0</td>\n",
       "    </tr>\n",
       "  </tbody>\n",
       "</table>\n",
       "</div>"
      ],
      "text/plain": [
       "      phone1  married1  age_g1  age_g2  age_g3  age_g4  age_g5  age_g6  age_g7\n",
       "2876     1.0       1.0     0.0     0.0     0.0     0.0     1.0     0.0     0.0\n",
       "3713     1.0       0.0     0.0     0.0     0.0     0.0     0.0     0.0     0.0\n",
       "4960     1.0       1.0     0.0     0.0     0.0     0.0     0.0     1.0     0.0\n",
       "4607     1.0       1.0     0.0     0.0     0.0     1.0     0.0     0.0     0.0\n",
       "1903     1.0       1.0     0.0     0.0     0.0     0.0     0.0     0.0     0.0"
      ]
     },
     "execution_count": 16,
     "metadata": {},
     "output_type": "execute_result"
    }
   ],
   "source": [
    "X_train, X_test, y_train, y_test = train_test_split(X, y, random_state=42, test_size=0.3,stratify=y)\n",
    "X_train.head()"
   ]
  },
  {
   "cell_type": "code",
   "execution_count": 17,
   "metadata": {},
   "outputs": [
    {
     "data": {
      "text/html": [
       "<div>\n",
       "<style scoped>\n",
       "    .dataframe tbody tr th:only-of-type {\n",
       "        vertical-align: middle;\n",
       "    }\n",
       "\n",
       "    .dataframe tbody tr th {\n",
       "        vertical-align: top;\n",
       "    }\n",
       "\n",
       "    .dataframe thead th {\n",
       "        text-align: right;\n",
       "    }\n",
       "</style>\n",
       "<table border=\"1\" class=\"dataframe\">\n",
       "  <thead>\n",
       "    <tr style=\"text-align: right;\">\n",
       "      <th></th>\n",
       "      <th>y</th>\n",
       "    </tr>\n",
       "  </thead>\n",
       "  <tbody>\n",
       "    <tr>\n",
       "      <th>2876</th>\n",
       "      <td>0.0</td>\n",
       "    </tr>\n",
       "    <tr>\n",
       "      <th>3713</th>\n",
       "      <td>1.0</td>\n",
       "    </tr>\n",
       "    <tr>\n",
       "      <th>4960</th>\n",
       "      <td>0.0</td>\n",
       "    </tr>\n",
       "    <tr>\n",
       "      <th>4607</th>\n",
       "      <td>0.0</td>\n",
       "    </tr>\n",
       "    <tr>\n",
       "      <th>1903</th>\n",
       "      <td>0.0</td>\n",
       "    </tr>\n",
       "  </tbody>\n",
       "</table>\n",
       "</div>"
      ],
      "text/plain": [
       "        y\n",
       "2876  0.0\n",
       "3713  1.0\n",
       "4960  0.0\n",
       "4607  0.0\n",
       "1903  0.0"
      ]
     },
     "execution_count": 17,
     "metadata": {},
     "output_type": "execute_result"
    }
   ],
   "source": [
    "y_train.head()"
   ]
  },
  {
   "cell_type": "code",
   "execution_count": 18,
   "metadata": {},
   "outputs": [
    {
     "name": "stderr",
     "output_type": "stream",
     "text": [
      "/Users/heqing/anaconda3/envs/TAatUEBS/lib/python3.10/site-packages/sklearn/utils/validation.py:1408: DataConversionWarning: A column-vector y was passed when a 1d array was expected. Please change the shape of y to (n_samples, ), for example using ravel().\n",
      "  y = column_or_1d(y, warn=True)\n"
     ]
    }
   ],
   "source": [
    "lr = LogisticRegression()\n",
    "lr.fit(X_train, y_train)\n",
    "preds = lr.predict_proba(X_test)"
   ]
  },
  {
   "cell_type": "code",
   "execution_count": 19,
   "metadata": {},
   "outputs": [
    {
     "data": {
      "text/plain": [
       "(3500, 9)"
      ]
     },
     "execution_count": 19,
     "metadata": {},
     "output_type": "execute_result"
    }
   ],
   "source": [
    "X_train.shape"
   ]
  },
  {
   "cell_type": "code",
   "execution_count": 20,
   "metadata": {},
   "outputs": [
    {
     "data": {
      "text/plain": [
       "(3500, 1)"
      ]
     },
     "execution_count": 20,
     "metadata": {},
     "output_type": "execute_result"
    }
   ],
   "source": [
    "y_train.shape"
   ]
  },
  {
   "cell_type": "code",
   "execution_count": 21,
   "metadata": {},
   "outputs": [
    {
     "data": {
      "text/plain": [
       "(1500, 9)"
      ]
     },
     "execution_count": 21,
     "metadata": {},
     "output_type": "execute_result"
    }
   ],
   "source": [
    "X_test.shape"
   ]
  },
  {
   "cell_type": "code",
   "execution_count": 22,
   "metadata": {},
   "outputs": [
    {
     "data": {
      "text/plain": [
       "(1500, 2)"
      ]
     },
     "execution_count": 22,
     "metadata": {},
     "output_type": "execute_result"
    }
   ],
   "source": [
    "preds.shape"
   ]
  },
  {
   "cell_type": "code",
   "execution_count": 23,
   "metadata": {},
   "outputs": [
    {
     "data": {
      "text/plain": [
       "array([0.63471505, 0.36528495])"
      ]
     },
     "execution_count": 23,
     "metadata": {},
     "output_type": "execute_result"
    }
   ],
   "source": [
    "preds[0]\n",
    "# 1st column is the prediction ot negative (0, goods) obs\n",
    "# 2nd column is the prediction of positive (1, bads) obs"
   ]
  },
  {
   "cell_type": "code",
   "execution_count": 24,
   "metadata": {},
   "outputs": [],
   "source": [
    "y_probas = preds[:, 1]"
   ]
  },
  {
   "cell_type": "code",
   "execution_count": 25,
   "metadata": {},
   "outputs": [
    {
     "name": "stdout",
     "output_type": "stream",
     "text": [
      "ROC=  0.6796315214957456\n"
     ]
    }
   ],
   "source": [
    "from sklearn.metrics import roc_auc_score\n",
    "roc = roc_auc_score(y_test,y_probas)\n",
    "print('ROC= ', roc)"
   ]
  },
  {
   "cell_type": "code",
   "execution_count": 26,
   "metadata": {},
   "outputs": [],
   "source": [
    "# figure\n",
    "import sklearn.metrics as metrics\n",
    "fpr, tpr, threshold = metrics.roc_curve(y_test,y_probas)\n",
    "log_auc = pd.DataFrame()\n",
    "log_auc[\"log_tpr\"] = tpr\n",
    "log_auc[\"log_fpr\"] = fpr\n",
    "log_auc[\"log_threshold\"] = threshold"
   ]
  },
  {
   "cell_type": "code",
   "execution_count": 27,
   "metadata": {},
   "outputs": [
    {
     "data": {
      "image/png": "[encoded data removed]",
      "text/plain": [
       "<Figure size 400x300 with 1 Axes>"
      ]
     },
     "metadata": {},
     "output_type": "display_data"
    }
   ],
   "source": [
    "%matplotlib inline\n",
    "plt.rcParams['font.sans-serif'] = ['Arial']  # font\n",
    "plt.rcParams['axes.unicode_minus'] = False\n",
    "# plt.rcParams['savefig.dpi'] = 300 # pixel\n",
    "# plt.rcParams['figure.dpi'] = 300 # resolution\n",
    "plt.figure(figsize=(4,3)) # fig size\n",
    "plt.plot(log_auc['log_fpr'], log_auc['log_tpr'], 'gold', label = \"LR -\"+ f\" AUC ={roc.round(4)}\")\n",
    "plt.legend(loc = 'lower right')\n",
    "plt.plot([0, 1], [0, 1],'p--')\n",
    "plt.xlim([0, 1])\n",
    "plt.ylim([0, 1])\n",
    "plt.tick_params()\n",
    "plt.ylabel('True Positive Rate')\n",
    "plt.xlabel('False Positive Rate')\n",
    "plt.show()"
   ]
  },
  {
   "cell_type": "markdown",
   "metadata": {},
   "source": [
    "### 2. Running logistic regression model (‘weights of evidence’ variables)"
   ]
  },
  {
   "cell_type": "code",
   "execution_count": 28,
   "metadata": {},
   "outputs": [
    {
     "data": {
      "text/html": [
       "<div>\n",
       "<style scoped>\n",
       "    .dataframe tbody tr th:only-of-type {\n",
       "        vertical-align: middle;\n",
       "    }\n",
       "\n",
       "    .dataframe tbody tr th {\n",
       "        vertical-align: top;\n",
       "    }\n",
       "\n",
       "    .dataframe thead th {\n",
       "        text-align: right;\n",
       "    }\n",
       "</style>\n",
       "<table border=\"1\" class=\"dataframe\">\n",
       "  <thead>\n",
       "    <tr style=\"text-align: right;\">\n",
       "      <th></th>\n",
       "      <th>phonewoe</th>\n",
       "      <th>mswoe</th>\n",
       "      <th>agewoe</th>\n",
       "    </tr>\n",
       "  </thead>\n",
       "  <tbody>\n",
       "    <tr>\n",
       "      <th>0</th>\n",
       "      <td>0.082480</td>\n",
       "      <td>-0.501645</td>\n",
       "      <td>1.130854</td>\n",
       "    </tr>\n",
       "    <tr>\n",
       "      <th>1</th>\n",
       "      <td>0.082480</td>\n",
       "      <td>-0.501645</td>\n",
       "      <td>-0.933805</td>\n",
       "    </tr>\n",
       "    <tr>\n",
       "      <th>2</th>\n",
       "      <td>-0.784558</td>\n",
       "      <td>0.467848</td>\n",
       "      <td>0.229745</td>\n",
       "    </tr>\n",
       "    <tr>\n",
       "      <th>3</th>\n",
       "      <td>-0.784558</td>\n",
       "      <td>0.467848</td>\n",
       "      <td>0.229745</td>\n",
       "    </tr>\n",
       "    <tr>\n",
       "      <th>4</th>\n",
       "      <td>0.082480</td>\n",
       "      <td>0.467848</td>\n",
       "      <td>1.130854</td>\n",
       "    </tr>\n",
       "  </tbody>\n",
       "</table>\n",
       "</div>"
      ],
      "text/plain": [
       "   phonewoe     mswoe    agewoe\n",
       "0  0.082480 -0.501645  1.130854\n",
       "1  0.082480 -0.501645 -0.933805\n",
       "2 -0.784558  0.467848  0.229745\n",
       "3 -0.784558  0.467848  0.229745\n",
       "4  0.082480  0.467848  1.130854"
      ]
     },
     "execution_count": 28,
     "metadata": {},
     "output_type": "execute_result"
    }
   ],
   "source": [
    "X_woe = df.loc[:,(df.columns=='phonewoe')|(df.columns=='mswoe')|(df.columns=='agewoe')]\n",
    "X_woe.head()"
   ]
  },
  {
   "cell_type": "markdown",
   "metadata": {},
   "source": [
    "Statistics view"
   ]
  },
  {
   "cell_type": "code",
   "execution_count": 29,
   "metadata": {},
   "outputs": [
    {
     "name": "stdout",
     "output_type": "stream",
     "text": [
      "Optimization terminated successfully.\n",
      "         Current function value: 0.392316\n",
      "         Iterations 6\n",
      "                         Results: Logit\n",
      "=================================================================\n",
      "Model:              Logit            Method:           MLE       \n",
      "Dependent Variable: y                Pseudo R-squared: 0.070     \n",
      "Date:               2025-01-19 20:56 AIC:              3931.1592 \n",
      "No. Observations:   5000             BIC:              3957.2280 \n",
      "Df Model:           3                Log-Likelihood:   -1961.6   \n",
      "Df Residuals:       4996             LL-Null:          -2108.3   \n",
      "Converged:          1.0000           LLR p-value:      2.5255e-63\n",
      "No. Iterations:     6.0000           Scale:            1.0000    \n",
      "------------------------------------------------------------------\n",
      "              Coef.   Std.Err.     z      P>|z|    [0.025   0.975]\n",
      "------------------------------------------------------------------\n",
      "const        -1.7383    0.0419  -41.4559  0.0000  -1.8205  -1.6561\n",
      "phonewoe     -1.0541    0.1499   -7.0300  0.0000  -1.3480  -0.7602\n",
      "mswoe        -0.2872    0.1082   -2.6532  0.0080  -0.4993  -0.0750\n",
      "agewoe       -0.8946    0.0802  -11.1541  0.0000  -1.0518  -0.7374\n",
      "=================================================================\n",
      "\n"
     ]
    }
   ],
   "source": [
    "import statsmodels.api as sm\n",
    "X_woe1=sm.add_constant(X_woe)\n",
    "logit_model=sm.Logit(y,X_woe1)\n",
    "result=logit_model.fit()\n",
    "print(result.summary2())"
   ]
  },
  {
   "cell_type": "code",
   "execution_count": 30,
   "metadata": {},
   "outputs": [
    {
     "data": {
      "text/html": [
       "<div>\n",
       "<style scoped>\n",
       "    .dataframe tbody tr th:only-of-type {\n",
       "        vertical-align: middle;\n",
       "    }\n",
       "\n",
       "    .dataframe tbody tr th {\n",
       "        vertical-align: top;\n",
       "    }\n",
       "\n",
       "    .dataframe thead th {\n",
       "        text-align: right;\n",
       "    }\n",
       "</style>\n",
       "<table border=\"1\" class=\"dataframe\">\n",
       "  <thead>\n",
       "    <tr style=\"text-align: right;\">\n",
       "      <th></th>\n",
       "      <th>phonewoe</th>\n",
       "      <th>mswoe</th>\n",
       "      <th>agewoe</th>\n",
       "    </tr>\n",
       "  </thead>\n",
       "  <tbody>\n",
       "    <tr>\n",
       "      <th>2876</th>\n",
       "      <td>0.08248</td>\n",
       "      <td>0.467848</td>\n",
       "      <td>0.229745</td>\n",
       "    </tr>\n",
       "    <tr>\n",
       "      <th>3713</th>\n",
       "      <td>0.08248</td>\n",
       "      <td>-0.501645</td>\n",
       "      <td>-0.933805</td>\n",
       "    </tr>\n",
       "    <tr>\n",
       "      <th>4960</th>\n",
       "      <td>0.08248</td>\n",
       "      <td>0.467848</td>\n",
       "      <td>0.640011</td>\n",
       "    </tr>\n",
       "    <tr>\n",
       "      <th>4607</th>\n",
       "      <td>0.08248</td>\n",
       "      <td>0.467848</td>\n",
       "      <td>0.466107</td>\n",
       "    </tr>\n",
       "    <tr>\n",
       "      <th>1903</th>\n",
       "      <td>0.08248</td>\n",
       "      <td>0.467848</td>\n",
       "      <td>-0.933805</td>\n",
       "    </tr>\n",
       "  </tbody>\n",
       "</table>\n",
       "</div>"
      ],
      "text/plain": [
       "      phonewoe     mswoe    agewoe\n",
       "2876   0.08248  0.467848  0.229745\n",
       "3713   0.08248 -0.501645 -0.933805\n",
       "4960   0.08248  0.467848  0.640011\n",
       "4607   0.08248  0.467848  0.466107\n",
       "1903   0.08248  0.467848 -0.933805"
      ]
     },
     "execution_count": 30,
     "metadata": {},
     "output_type": "execute_result"
    }
   ],
   "source": [
    "X_train, X_test, y_train, y_test = train_test_split(X_woe, y, random_state=42, test_size=0.3,stratify=y)\n",
    "X_train.head()"
   ]
  },
  {
   "cell_type": "code",
   "execution_count": 31,
   "metadata": {},
   "outputs": [
    {
     "data": {
      "text/html": [
       "<div>\n",
       "<style scoped>\n",
       "    .dataframe tbody tr th:only-of-type {\n",
       "        vertical-align: middle;\n",
       "    }\n",
       "\n",
       "    .dataframe tbody tr th {\n",
       "        vertical-align: top;\n",
       "    }\n",
       "\n",
       "    .dataframe thead th {\n",
       "        text-align: right;\n",
       "    }\n",
       "</style>\n",
       "<table border=\"1\" class=\"dataframe\">\n",
       "  <thead>\n",
       "    <tr style=\"text-align: right;\">\n",
       "      <th></th>\n",
       "      <th>y</th>\n",
       "    </tr>\n",
       "  </thead>\n",
       "  <tbody>\n",
       "    <tr>\n",
       "      <th>2876</th>\n",
       "      <td>0.0</td>\n",
       "    </tr>\n",
       "    <tr>\n",
       "      <th>3713</th>\n",
       "      <td>1.0</td>\n",
       "    </tr>\n",
       "    <tr>\n",
       "      <th>4960</th>\n",
       "      <td>0.0</td>\n",
       "    </tr>\n",
       "    <tr>\n",
       "      <th>4607</th>\n",
       "      <td>0.0</td>\n",
       "    </tr>\n",
       "    <tr>\n",
       "      <th>1903</th>\n",
       "      <td>0.0</td>\n",
       "    </tr>\n",
       "  </tbody>\n",
       "</table>\n",
       "</div>"
      ],
      "text/plain": [
       "        y\n",
       "2876  0.0\n",
       "3713  1.0\n",
       "4960  0.0\n",
       "4607  0.0\n",
       "1903  0.0"
      ]
     },
     "execution_count": 31,
     "metadata": {},
     "output_type": "execute_result"
    }
   ],
   "source": [
    "y_train.head()"
   ]
  },
  {
   "cell_type": "code",
   "execution_count": 32,
   "metadata": {},
   "outputs": [
    {
     "name": "stderr",
     "output_type": "stream",
     "text": [
      "/Users/heqing/anaconda3/envs/TAatUEBS/lib/python3.10/site-packages/sklearn/utils/validation.py:1408: DataConversionWarning: A column-vector y was passed when a 1d array was expected. Please change the shape of y to (n_samples, ), for example using ravel().\n",
      "  y = column_or_1d(y, warn=True)\n"
     ]
    }
   ],
   "source": [
    "lr = LogisticRegression()\n",
    "lr.fit(X_train, y_train)\n",
    "preds = lr.predict_proba(X_test)"
   ]
  },
  {
   "cell_type": "code",
   "execution_count": 33,
   "metadata": {},
   "outputs": [
    {
     "data": {
      "text/plain": [
       "(3500, 3)"
      ]
     },
     "execution_count": 33,
     "metadata": {},
     "output_type": "execute_result"
    }
   ],
   "source": [
    "X_train.shape"
   ]
  },
  {
   "cell_type": "code",
   "execution_count": 34,
   "metadata": {},
   "outputs": [
    {
     "data": {
      "text/plain": [
       "(1500, 3)"
      ]
     },
     "execution_count": 34,
     "metadata": {},
     "output_type": "execute_result"
    }
   ],
   "source": [
    "X_test.shape"
   ]
  },
  {
   "cell_type": "code",
   "execution_count": 35,
   "metadata": {},
   "outputs": [
    {
     "data": {
      "text/plain": [
       "(1500, 2)"
      ]
     },
     "execution_count": 35,
     "metadata": {},
     "output_type": "execute_result"
    }
   ],
   "source": [
    "preds.shape"
   ]
  },
  {
   "cell_type": "code",
   "execution_count": 36,
   "metadata": {},
   "outputs": [],
   "source": [
    "y_probas = preds[:, 1]"
   ]
  },
  {
   "cell_type": "code",
   "execution_count": 37,
   "metadata": {},
   "outputs": [
    {
     "name": "stdout",
     "output_type": "stream",
     "text": [
      "ROC=  0.682014106583072\n"
     ]
    }
   ],
   "source": [
    "from sklearn.metrics import roc_auc_score\n",
    "roc = roc_auc_score(y_test,y_probas)\n",
    "print('ROC= ', roc)"
   ]
  },
  {
   "cell_type": "code",
   "execution_count": 38,
   "metadata": {},
   "outputs": [],
   "source": [
    "# figure\n",
    "import sklearn.metrics as metrics\n",
    "fpr, tpr, threshold = metrics.roc_curve(y_test,y_probas)\n",
    "log_auc = pd.DataFrame()\n",
    "log_auc[\"log_tpr\"] = tpr\n",
    "log_auc[\"log_fpr\"] = fpr\n",
    "log_auc[\"log_threshold\"] = threshold"
   ]
  },
  {
   "cell_type": "code",
   "execution_count": 39,
   "metadata": {},
   "outputs": [
    {
     "data": {
      "image/png": "[encoded data removed]",
      "text/plain": [
       "<Figure size 400x300 with 1 Axes>"
      ]
     },
     "metadata": {},
     "output_type": "display_data"
    }
   ],
   "source": [
    "%matplotlib inline\n",
    "plt.rcParams['font.sans-serif'] = ['Arial']  # font\n",
    "plt.rcParams['axes.unicode_minus'] = False\n",
    "# plt.rcParams['savefig.dpi'] = 300 # pixel\n",
    "# plt.rcParams['figure.dpi'] = 300 # resolution\n",
    "plt.figure(figsize=(4,3)) # fig size\n",
    "plt.plot(log_auc['log_fpr'], log_auc['log_tpr'], 'gold', label = \"LR -\"+ f\" AUC ={roc.round(4)}\")\n",
    "plt.legend(loc = 'lower right')\n",
    "plt.plot([0, 1], [0, 1],'p--')\n",
    "plt.xlim([0, 1])\n",
    "plt.ylim([0, 1])\n",
    "plt.tick_params()\n",
    "plt.ylabel('True Positive Rate')\n",
    "plt.xlabel('False Positive Rate')\n",
    "plt.show()"
   ]
  }
 ],
 "metadata": {
  "kernelspec": {
   "display_name": "TAatUEBS",
   "language": "python",
   "name": "python3"
  },
  "language_info": {
   "codemirror_mode": {
    "name": "ipython",
    "version": 3
   },
   "file_extension": ".py",
   "mimetype": "text/x-python",
   "name": "python",
   "nbconvert_exporter": "python",
   "pygments_lexer": "ipython3",
   "version": "3.10.16"
  }
 },
 "nbformat": 4,
 "nbformat_minor": 4
}
